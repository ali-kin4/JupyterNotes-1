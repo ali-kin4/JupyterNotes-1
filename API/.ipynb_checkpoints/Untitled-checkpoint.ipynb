{
 "cells": [
  {
   "cell_type": "code",
   "execution_count": 1,
   "metadata": {},
   "outputs": [],
   "source": [
    "import requests\n",
    "from bs4 import BeautifulSoup\n",
    "import re"
   ]
  },
  {
   "cell_type": "code",
   "execution_count": 13,
   "metadata": {},
   "outputs": [],
   "source": [
    "def soup_maker(url):\n",
    "    req = requests.get(url)\n",
    "    soup = BeautifulSoup(req.text)\n",
    "    return soup"
   ]
  },
  {
   "cell_type": "markdown",
   "metadata": {},
   "source": [
    "# Azan Time"
   ]
  },
  {
   "cell_type": "code",
   "execution_count": 4,
   "metadata": {},
   "outputs": [
    {
     "data": {
      "text/plain": [
       "{'CityName': 'ارومیه',\n",
       " 'CountryName': 'ایران',\n",
       " 'CityLName': 'Urimiyeh',\n",
       " 'CountryLName': 'Iran',\n",
       " 'TimeZone': '4.5',\n",
       " 'Imsaak': '05:38:15',\n",
       " 'Sunrise': '07:06:19',\n",
       " 'Noon': '13:27:14',\n",
       " 'Sunset': '19:48:09',\n",
       " 'Maghreb': '20:06:53',\n",
       " 'Midnight': '00:43:12',\n",
       " 'Today': '1399/6/18 - 1:42 PM',\n",
       " 'TodayQamari': '19 محرم 1442',\n",
       " 'TodayGregorian': None,\n",
       " 'DayLenght': None,\n",
       " 'SimultaneityOfKaaba': None}"
      ]
     },
     "execution_count": 4,
     "metadata": {},
     "output_type": "execute_result"
    }
   ],
   "source": [
    "code = '3'\n",
    "url = 'https://prayer.aviny.com/api/prayertimes/' + code\n",
    "req = requests.get(url)\n",
    "req.json()"
   ]
  },
  {
   "cell_type": "code",
   "execution_count": 5,
   "metadata": {},
   "outputs": [
    {
     "data": {
      "text/plain": [
       "'13:27:14'"
      ]
     },
     "execution_count": 5,
     "metadata": {},
     "output_type": "execute_result"
    }
   ],
   "source": [
    "req.json()['Noon']"
   ]
  },
  {
   "cell_type": "markdown",
   "metadata": {},
   "source": [
    "# Get links of a webpage"
   ]
  },
  {
   "cell_type": "code",
   "execution_count": 15,
   "metadata": {},
   "outputs": [],
   "source": [
    "url = 'https://mymojoo.in/%d8%af%d8%a7%d9%86%d9%84%d9%88%d8%af-%d8%b3%d8%b1%db%8c%d8%a7%d9%84-preacher/'\n",
    "req = requests.get(url)\n",
    "soup = soup_maker(url)\n",
    "links = []\n",
    "\n",
    "for p in soup.find_all('a',href=re.compile('^http')):\n",
    "    links.append(p.get(\"href\"))"
   ]
  },
  {
   "cell_type": "code",
   "execution_count": 17,
   "metadata": {},
   "outputs": [],
   "source": [
    "url = 'https://www.sciencedirect.com/search?qs=pemfc%20analytical'\n",
    "req = requests.get(url)\n",
    "soup = soup_maker(url)\n",
    "links = []\n",
    "\n",
    "for p in soup.find_all('a',href=re.compile('^http')):\n",
    "    links.append(p.get(\"href\"))"
   ]
  },
  {
   "cell_type": "markdown",
   "metadata": {},
   "source": [
    "# Dollar price"
   ]
  },
  {
   "cell_type": "code",
   "execution_count": 9,
   "metadata": {},
   "outputs": [],
   "source": [
    "url = 'https://currency.jafarili.me/json'\n",
    "req = requests.get(url)"
   ]
  },
  {
   "cell_type": "code",
   "execution_count": 10,
   "metadata": {},
   "outputs": [
    {
     "name": "stdout",
     "output_type": "stream",
     "text": [
      "Coin price: 11500000\n"
     ]
    }
   ],
   "source": [
    "print('Coin price: ' + str(req.json()['Gold'][1]['Buy']))"
   ]
  },
  {
   "cell_type": "code",
   "execution_count": 11,
   "metadata": {},
   "outputs": [
    {
     "name": "stdout",
     "output_type": "stream",
     "text": [
      "USD Price: 25150\n"
     ]
    }
   ],
   "source": [
    "print(\"USD Price: \" + str(req.json()['Currency'][0]['Buy']))"
   ]
  },
  {
   "cell_type": "code",
   "execution_count": null,
   "metadata": {},
   "outputs": [],
   "source": []
  }
 ],
 "metadata": {
  "kernelspec": {
   "display_name": "Python 3",
   "language": "python",
   "name": "python3"
  },
  "language_info": {
   "codemirror_mode": {
    "name": "ipython",
    "version": 3
   },
   "file_extension": ".py",
   "mimetype": "text/x-python",
   "name": "python",
   "nbconvert_exporter": "python",
   "pygments_lexer": "ipython3",
   "version": "3.8.5"
  }
 },
 "nbformat": 4,
 "nbformat_minor": 4
}
