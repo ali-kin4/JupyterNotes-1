{
 "cells": [
  {
   "cell_type": "code",
   "execution_count": 1,
   "metadata": {},
   "outputs": [],
   "source": [
    "import tensorflow as tf\n",
    "from tensorflow.keras.models import Sequential\n",
    "from tensorflow.keras.layers import Dense, Dropout, Activation, Flatten, Conv2D, MaxPooling2D\n",
    "import pickle\n",
    "import numpy as np"
   ]
  },
  {
   "cell_type": "code",
   "execution_count": 8,
   "metadata": {},
   "outputs": [],
   "source": [
    "X = pickle.load(open(\"X.pickle\", \"rb\"))\n",
    "y = pickle.load(open(\"y.pickle\", \"rb\"))\n",
    "\n",
    "X = X/255.0\n",
    "\n",
    "X = np.array(X)\n",
    "y = np.array(y)"
   ]
  },
  {
   "cell_type": "code",
   "execution_count": 16,
   "metadata": {},
   "outputs": [
    {
     "name": "stdout",
     "output_type": "stream",
     "text": [
      "Epoch 1/10\n",
      "780/780 [==============================] - 63s 81ms/step - loss: 0.5989 - accuracy: 0.6674\n",
      "Epoch 2/10\n",
      "780/780 [==============================] - 60s 76ms/step - loss: 0.5008 - accuracy: 0.7608\n",
      "Epoch 3/10\n",
      "780/780 [==============================] - 58s 75ms/step - loss: 0.4540 - accuracy: 0.7916\n",
      "Epoch 4/10\n",
      "780/780 [==============================] - 59s 76ms/step - loss: 0.4102 - accuracy: 0.8119\n",
      "Epoch 5/10\n",
      "780/780 [==============================] - 60s 77ms/step - loss: 0.3780 - accuracy: 0.8324\n",
      "Epoch 6/10\n",
      "780/780 [==============================] - 30928s 40s/step - loss: 0.3471 - accuracy: 0.8457\n",
      "Epoch 7/10\n",
      "780/780 [==============================] - 57s 74ms/step - loss: 0.3065 - accuracy: 0.8655\n",
      "Epoch 8/10\n",
      "780/780 [==============================] - 58s 74ms/step - loss: 0.2677 - accuracy: 0.8860\n",
      "Epoch 9/10\n",
      "780/780 [==============================] - 58s 75ms/step - loss: 0.2304 - accuracy: 0.9053\n",
      "Epoch 10/10\n",
      "780/780 [==============================] - 59s 76ms/step - loss: 0.1899 - accuracy: 0.9216\n"
     ]
    },
    {
     "data": {
      "text/plain": [
       "<tensorflow.python.keras.callbacks.History at 0x1c5e8902dc0>"
      ]
     },
     "execution_count": 16,
     "metadata": {},
     "output_type": "execute_result"
    }
   ],
   "source": [
    "model = Sequential()\n",
    "\n",
    "model.add(Conv2D(64, (3,3), input_shape = X.shape[1:]))\n",
    "model.add(Activation(\"relu\"))\n",
    "model.add(MaxPooling2D(pool_size = (2, 2)))\n",
    "\n",
    "model.add(Conv2D(64, (3,3)))\n",
    "model.add(Activation(\"relu\"))\n",
    "model.add(MaxPooling2D(pool_size = (2, 2)))\n",
    "\n",
    "model.add(Flatten())\n",
    "model.add(Dense(64))\n",
    "model.add(Activation(\"relu\"))\n",
    "\n",
    "model.add(Dense(1))\n",
    "model.add(Activation(\"sigmoid\"))\n",
    "\n",
    "model.compile(loss = \"binary_crossentropy\",\n",
    "             optimizer = 'adam',\n",
    "             metrics = ['accuracy'])\n",
    "\n",
    "model.fit(X, y, batch_size=32, validation_batch_size=0.1, epochs = 10)"
   ]
  }
 ],
 "metadata": {
  "kernelspec": {
   "display_name": "Python 3",
   "language": "python",
   "name": "python3"
  },
  "language_info": {
   "codemirror_mode": {
    "name": "ipython",
    "version": 3
   },
   "file_extension": ".py",
   "mimetype": "text/x-python",
   "name": "python",
   "nbconvert_exporter": "python",
   "pygments_lexer": "ipython3",
   "version": "3.8.5"
  }
 },
 "nbformat": 4,
 "nbformat_minor": 4
}
