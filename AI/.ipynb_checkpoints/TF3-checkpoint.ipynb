{
 "cells": [
  {
   "cell_type": "code",
   "execution_count": 1,
   "metadata": {},
   "outputs": [],
   "source": [
    "import tensorflow as tf\n",
    "from tensorflow.keras.models import Sequential\n",
    "from tensorflow.keras.layers import Dense, Dropout, Activation, Flatten, Conv2D, MaxPooling2D\n",
    "import pickle\n",
    "import numpy as np"
   ]
  },
  {
   "cell_type": "code",
   "execution_count": 8,
   "metadata": {},
   "outputs": [],
   "source": [
    "X = pickle.load(open(\"X.pickle\", \"rb\"))\n",
    "y = pickle.load(open(\"y.pickle\", \"rb\"))\n",
    "\n",
    "X = X/255.0\n",
    "\n",
    "X = np.array(X)\n",
    "y = np.array(y)"
   ]
  },
  {
   "cell_type": "code",
   "execution_count": 11,
   "metadata": {},
   "outputs": [
    {
     "name": "stdout",
     "output_type": "stream",
     "text": [
      "Epoch 1/10\n",
      "780/780 [==============================] - 56s 72ms/step - loss: 0.6299 - accuracy: 0.6413\n",
      "Epoch 2/10\n",
      "780/780 [==============================] - 56s 72ms/step - loss: 0.5420 - accuracy: 0.7317\n",
      "Epoch 3/10\n",
      "780/780 [==============================] - 76s 98ms/step - loss: 0.4990 - accuracy: 0.7608\n",
      "Epoch 4/10\n",
      "780/780 [==============================] - 84s 108ms/step - loss: 0.4711 - accuracy: 0.7786\n",
      "Epoch 5/10\n",
      "780/780 [==============================] - 80s 103ms/step - loss: 0.4434 - accuracy: 0.7925\n",
      "Epoch 6/10\n",
      "780/780 [==============================] - 77s 99ms/step - loss: 0.4232 - accuracy: 0.8070\n",
      "Epoch 7/10\n",
      "780/780 [==============================] - 79s 101ms/step - loss: 0.4034 - accuracy: 0.8179\n",
      "Epoch 8/10\n",
      "780/780 [==============================] - 78s 100ms/step - loss: 0.3870 - accuracy: 0.8264\n",
      "Epoch 9/10\n",
      "780/780 [==============================] - 80s 102ms/step - loss: 0.3727 - accuracy: 0.8340\n",
      "Epoch 10/10\n",
      "780/780 [==============================] - 77s 98ms/step - loss: 0.3620 - accuracy: 0.8399\n"
     ]
    },
    {
     "data": {
      "text/plain": [
       "<tensorflow.python.keras.callbacks.History at 0x1c5e90cab50>"
      ]
     },
     "execution_count": 11,
     "metadata": {},
     "output_type": "execute_result"
    }
   ],
   "source": [
    "model = Sequential()\n",
    "\n",
    "model.add(Conv2D(64, (3,3), input_shape = X.shape[1:]))\n",
    "model.add(Activation(\"relu\"))\n",
    "model.add(MaxPooling2D(pool_size = (2, 2)))\n",
    "\n",
    "model.add(Conv2D(64, (3,3)))\n",
    "model.add(Activation(\"relu\"))\n",
    "model.add(MaxPooling2D(pool_size = (2, 2)))\n",
    "\n",
    "model.add(Flatten())\n",
    "model.add(Dense(64))\n",
    "\n",
    "model.add(Dense(1))\n",
    "model.add(Activation(\"sigmoid\"))\n",
    "\n",
    "model.compile(loss = \"binary_crossentropy\",\n",
    "             optimizer = 'adam',\n",
    "             metrics = ['accuracy'])\n",
    "\n",
    "model.fit(X, y, batch_size=32, validation_batch_size=0.1, epochs = 10)"
   ]
  },
  {
   "cell_type": "code",
   "execution_count": 12,
   "metadata": {},
   "outputs": [
    {
     "name": "stdout",
     "output_type": "stream",
     "text": [
      "WARNING:tensorflow:From c:\\users\\light\\appdata\\local\\programs\\python\\python38\\lib\\site-packages\\tensorflow\\python\\ops\\resource_variable_ops.py:1813: calling BaseResourceVariable.__init__ (from tensorflow.python.ops.resource_variable_ops) with constraint is deprecated and will be removed in a future version.\n",
      "Instructions for updating:\n",
      "If using Keras pass *_constraint arguments to layers.\n",
      "INFO:tensorflow:Assets written to: tf3.model\\assets\n"
     ]
    }
   ],
   "source": [
    "model.save(\"tf3.model\")"
   ]
  }
 ],
 "metadata": {
  "kernelspec": {
   "display_name": "Python 3",
   "language": "python",
   "name": "python3"
  },
  "language_info": {
   "codemirror_mode": {
    "name": "ipython",
    "version": 3
   },
   "file_extension": ".py",
   "mimetype": "text/x-python",
   "name": "python",
   "nbconvert_exporter": "python",
   "pygments_lexer": "ipython3",
   "version": "3.8.5"
  }
 },
 "nbformat": 4,
 "nbformat_minor": 4
}
