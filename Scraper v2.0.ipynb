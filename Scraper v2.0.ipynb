{
 "cells": [
  {
   "cell_type": "code",
   "execution_count": 1,
   "metadata": {},
   "outputs": [],
   "source": [
    "import time\n",
    "from selenium.webdriver.common.keys import Keys\n",
    "from selenium import webdriver\n",
    "from bs4 import BeautifulSoup\n",
    "import re\n",
    "import pandas as pd\n",
    "import os\n",
    "from selenium.webdriver.support.ui import Select"
   ]
  },
  {
   "cell_type": "code",
   "execution_count": 2,
   "metadata": {},
   "outputs": [],
   "source": [
    "class stock:\n",
    "    def __init__(self, num, vol, value, avg_price, owner_change):\n",
    "        self.num = num\n",
    "        self.vol = vol\n",
    "        self.value = value\n",
    "        self.avg_price = avg_price\n",
    "        self.owner_change = owner_change"
   ]
  },
  {
   "cell_type": "code",
   "execution_count": 3,
   "metadata": {},
   "outputs": [],
   "source": [
    "def month_maker(month):\n",
    "    month = month.replace(\"فروردین\", '01')\n",
    "    month = month.replace(\"اردیبهشت\", '02')\n",
    "    month = month.replace(\"خرداد\", '03')\n",
    "    month = month.replace(\"تیر\", '04')\n",
    "    month = month.replace(\"مرداد\", '05')\n",
    "    month = month.replace(\"شهریور\", '06')\n",
    "    month = month.replace(\"مهر\", '07')\n",
    "    month = month.replace(\"آبان\", '08')\n",
    "    month = month.replace(\"آذر\", '09')\n",
    "    month = month.replace(\"دی\", '10')\n",
    "    month = month.replace(\"بهمن\", '11')\n",
    "    month = month.replace(\"اسفند\", '12')\n",
    "    return month"
   ]
  },
  {
   "cell_type": "code",
   "execution_count": 4,
   "metadata": {},
   "outputs": [],
   "source": [
    "def date_maker(year, month, day):\n",
    "    date = year + '-' + month + '-' + day\n",
    "    return date"
   ]
  },
  {
   "cell_type": "code",
   "execution_count": 5,
   "metadata": {},
   "outputs": [],
   "source": [
    "def value_fixer(val):\n",
    "    if '.' in val:\n",
    "        result = float(val.replace(\",\", \"\"))\n",
    "    else:\n",
    "        result = int(val.replace(\",\", \"\"))\n",
    "    return result"
   ]
  },
  {
   "cell_type": "code",
   "execution_count": 6,
   "metadata": {},
   "outputs": [],
   "source": [
    "def value_finder(val):\n",
    "    result = value_fixer(val.find(\"div\").get(\"title\"))\n",
    "    return result"
   ]
  },
  {
   "cell_type": "code",
   "execution_count": 7,
   "metadata": {},
   "outputs": [],
   "source": [
    "haghighi_buy = stock([], [], [], [], [])\n",
    "haghighi_sell = stock([], [], [], [], [])\n",
    "hoghoghi_buy = stock([], [], [], [], [])\n",
    "hoghoghi_sell = stock([], [], [], [], [])"
   ]
  },
  {
   "cell_type": "code",
   "execution_count": 8,
   "metadata": {},
   "outputs": [],
   "source": [
    "code = '9211775239375291'\n",
    "link = 'http://www.tsetmc.com/Loader.aspx?ParTree=151311&i=' + code"
   ]
  },
  {
   "cell_type": "code",
   "execution_count": 9,
   "metadata": {},
   "outputs": [],
   "source": [
    "driver = webdriver.Chrome('chromedriver.exe')\n",
    "driver.maximize_window()\n",
    "xpath1 = '''//*[@id=\"tabs\"]/div/ul/li[9]/a'''\n",
    "driver.get(link)\n",
    "element = driver.find_element_by_xpath(xpath1)\n",
    "element.click()\n",
    "time.sleep(3)"
   ]
  },
  {
   "cell_type": "code",
   "execution_count": 10,
   "metadata": {},
   "outputs": [],
   "source": [
    "page_source = driver.page_source\n",
    "soup = BeautifulSoup(page_source, 'lxml')"
   ]
  },
  {
   "cell_type": "code",
   "execution_count": 11,
   "metadata": {},
   "outputs": [],
   "source": [
    "table = soup.find(id = 'ClientTypeBody')\n",
    "data = table.find_all(\"td\")"
   ]
  },
  {
   "cell_type": "code",
   "execution_count": 12,
   "metadata": {},
   "outputs": [],
   "source": [
    "dSize = [] #each 25 lines of source is one day of data\n",
    "for i in range(0, len(data)+1, 25):\n",
    "    dSize.append(i)"
   ]
  },
  {
   "cell_type": "code",
   "execution_count": 13,
   "metadata": {},
   "outputs": [],
   "source": [
    "Data = []\n",
    "for i in range(len(dSize)-1):\n",
    "    Data.append(data[dSize[i]:dSize[i+1]])"
   ]
  },
  {
   "cell_type": "code",
   "execution_count": 14,
   "metadata": {},
   "outputs": [],
   "source": [
    "year = soup.find(id='YearPart').text\n",
    "\n",
    "months = []\n",
    "for i in range(len(Data)):\n",
    "    months.append(Data[i][0].find_all(\"div\")[0].text)\n",
    "    \n",
    "days = []\n",
    "for i in range(len(Data)):\n",
    "    days.append(Data[i][0].find_all(\"div\")[1].text)\n",
    "    \n",
    "for i in range(len(months)):\n",
    "    months[i] = month_maker(months[i])\n",
    "\n",
    "dates = []\n",
    "for i in range(len(months)):\n",
    "    dates.append(date_maker(year, months[i], days[i]))"
   ]
  },
  {
   "cell_type": "code",
   "execution_count": 15,
   "metadata": {},
   "outputs": [],
   "source": [
    "number = []\n",
    "for d in Data[0][2:6]:\n",
    "    number.append(value_fixer(d.text))"
   ]
  },
  {
   "cell_type": "code",
   "execution_count": 16,
   "metadata": {},
   "outputs": [],
   "source": [
    "volume = []\n",
    "for d in Data[0][7:11]:\n",
    "    volume.append(value_finder(d))"
   ]
  },
  {
   "cell_type": "code",
   "execution_count": 17,
   "metadata": {},
   "outputs": [],
   "source": [
    "value = []\n",
    "for d in Data[0][12:16]:\n",
    "    value.append(value_finder(d))"
   ]
  },
  {
   "cell_type": "code",
   "execution_count": 18,
   "metadata": {},
   "outputs": [],
   "source": [
    "avg_price = []\n",
    "for d in Data[0][17:21]:\n",
    "    avg_price.append(value_fixer(d.text))"
   ]
  },
  {
   "cell_type": "code",
   "execution_count": 19,
   "metadata": {},
   "outputs": [],
   "source": [
    "owner_change = []\n",
    "owner_change.append(value_finder(Data[0][23]))"
   ]
  },
  {
   "cell_type": "markdown",
   "metadata": {},
   "source": [
    "# Creating data for whole table"
   ]
  },
  {
   "cell_type": "code",
   "execution_count": 20,
   "metadata": {},
   "outputs": [],
   "source": [
    "num_temp = []\n",
    "num = []\n",
    "\n",
    "vol_temp = []\n",
    "vol = []\n",
    "\n",
    "value_temp = []\n",
    "value = []\n",
    "\n",
    "avg_price_temp = []\n",
    "avg_price = []\n",
    "\n",
    "owner_change = []\n",
    "\n",
    "for i in range(len(Data)):\n",
    "    for d in Data[i][2:6]:\n",
    "        num_temp.append(value_fixer(d.text))\n",
    "    num.append(num_temp)\n",
    "    num_temp = []\n",
    "    \n",
    "    for d in Data[i][7:11]:\n",
    "        vol_temp.append(value_finder(d))\n",
    "    vol.append(vol_temp)\n",
    "    vol_temp = []\n",
    "    \n",
    "    for d in Data[i][12:16]:\n",
    "        value_temp.append(value_finder(d))\n",
    "    value.append(value_temp)\n",
    "    value_temp = []\n",
    "    \n",
    "    for d in Data[i][17:21]:\n",
    "        avg_price_temp.append(value_fixer(d.text))\n",
    "    avg_price.append(avg_price_temp)\n",
    "    avg_price_temp = []\n",
    "    \n",
    "    owner_change.append(value_finder(Data[i][23]))\n",
    "    \n",
    "    \n",
    "    haghighi_buy.num.append(num[i][0])\n",
    "    hoghoghi_buy.num.append(num[i][1])\n",
    "    haghighi_sell.num.append(num[i][2])\n",
    "    hoghoghi_sell.num.append(num[i][3])\n",
    "    \n",
    "    haghighi_buy.vol.append(vol[i][0])\n",
    "    hoghoghi_buy.vol.append(vol[i][1])\n",
    "    haghighi_sell.vol.append(vol[i][2])\n",
    "    hoghoghi_sell.vol.append(vol[i][3])\n",
    "    \n",
    "    haghighi_buy.value.append(value[i][0])\n",
    "    hoghoghi_buy.value.append(value[i][1])\n",
    "    haghighi_sell.value.append(value[i][2])\n",
    "    hoghoghi_sell.value.append(value[i][3])\n",
    "    \n",
    "    haghighi_buy.avg_price.append(avg_price[i][0])\n",
    "    hoghoghi_buy.avg_price.append(avg_price[i][1])\n",
    "    haghighi_sell.avg_price.append(avg_price[i][2])\n",
    "    hoghoghi_sell.avg_price.append(avg_price[i][3])\n",
    "    \n",
    "    haghighi_buy.owner_change.append(owner_change[i])\n",
    "    hoghoghi_buy.owner_change.append(owner_change[i])\n",
    "    haghighi_sell.owner_change.append(owner_change[i])\n",
    "    hoghoghi_sell.owner_change.append(owner_change[i])"
   ]
  },
  {
   "cell_type": "markdown",
   "metadata": {},
   "source": [
    "# Change iranian date to christian date"
   ]
  },
  {
   "cell_type": "code",
   "execution_count": 21,
   "metadata": {},
   "outputs": [],
   "source": [
    "import os\n",
    "os.chdir(\"C:/Users/Light/Jupyter/Web scraper\")\n",
    "import PersianCal"
   ]
  },
  {
   "cell_type": "code",
   "execution_count": 22,
   "metadata": {},
   "outputs": [],
   "source": [
    "per_date = []\n",
    "for date in dates:\n",
    "    per_date.append(PersianCal.Persian(date).christian_string())"
   ]
  },
  {
   "cell_type": "code",
   "execution_count": 26,
   "metadata": {},
   "outputs": [],
   "source": [
    "df1 = {\"Date\": per_date,\n",
    "      \"Number\": haghighi_buy.num,\n",
    "      \"Volume\": haghighi_buy.vol,\n",
    "      \"Value\": haghighi_buy.value,\n",
    "      \"Average Price\": haghighi_buy.avg_price,\n",
    "      \"Owner Change\": haghighi_buy.owner_change}"
   ]
  },
  {
   "cell_type": "code",
   "execution_count": 27,
   "metadata": {},
   "outputs": [],
   "source": [
    "dff1 = pd.DataFrame(df1)"
   ]
  },
  {
   "cell_type": "code",
   "execution_count": 28,
   "metadata": {},
   "outputs": [],
   "source": [
    "dff1.Date = pd.to_datetime(dff1[\"Date\"], format = '%Y-%m-%d')"
   ]
  },
  {
   "cell_type": "code",
   "execution_count": 29,
   "metadata": {},
   "outputs": [],
   "source": [
    "dff1 = dff1.sort_values('Date')"
   ]
  },
  {
   "cell_type": "code",
   "execution_count": null,
   "metadata": {},
   "outputs": [],
   "source": [
    "# dff1.set_index(\"Date\", inplace = True)"
   ]
  },
  {
   "cell_type": "code",
   "execution_count": null,
   "metadata": {},
   "outputs": [],
   "source": [
    "# dff1.to_csv(\"pp.csv\")"
   ]
  },
  {
   "cell_type": "code",
   "execution_count": 30,
   "metadata": {},
   "outputs": [
    {
     "data": {
      "text/html": [
       "<div>\n",
       "<style scoped>\n",
       "    .dataframe tbody tr th:only-of-type {\n",
       "        vertical-align: middle;\n",
       "    }\n",
       "\n",
       "    .dataframe tbody tr th {\n",
       "        vertical-align: top;\n",
       "    }\n",
       "\n",
       "    .dataframe thead th {\n",
       "        text-align: right;\n",
       "    }\n",
       "</style>\n",
       "<table border=\"1\" class=\"dataframe\">\n",
       "  <thead>\n",
       "    <tr style=\"text-align: right;\">\n",
       "      <th></th>\n",
       "      <th>Date</th>\n",
       "      <th>Number</th>\n",
       "      <th>Volume</th>\n",
       "      <th>Value</th>\n",
       "      <th>Average Price</th>\n",
       "      <th>Owner Change</th>\n",
       "    </tr>\n",
       "  </thead>\n",
       "  <tbody>\n",
       "    <tr>\n",
       "      <th>95</th>\n",
       "      <td>2020-03-24</td>\n",
       "      <td>8587</td>\n",
       "      <td>193725370</td>\n",
       "      <td>502628674741</td>\n",
       "      <td>2594.54</td>\n",
       "      <td>18892364</td>\n",
       "    </tr>\n",
       "    <tr>\n",
       "      <th>94</th>\n",
       "      <td>2020-03-25</td>\n",
       "      <td>7988</td>\n",
       "      <td>195181405</td>\n",
       "      <td>520190153171</td>\n",
       "      <td>2665.16</td>\n",
       "      <td>285589</td>\n",
       "    </tr>\n",
       "    <tr>\n",
       "      <th>93</th>\n",
       "      <td>2020-03-28</td>\n",
       "      <td>8614</td>\n",
       "      <td>248921949</td>\n",
       "      <td>685734528376</td>\n",
       "      <td>2754.82</td>\n",
       "      <td>35123935</td>\n",
       "    </tr>\n",
       "    <tr>\n",
       "      <th>92</th>\n",
       "      <td>2020-03-29</td>\n",
       "      <td>12113</td>\n",
       "      <td>314731754</td>\n",
       "      <td>896797504482</td>\n",
       "      <td>2849.40</td>\n",
       "      <td>33912528</td>\n",
       "    </tr>\n",
       "    <tr>\n",
       "      <th>91</th>\n",
       "      <td>2020-03-30</td>\n",
       "      <td>6493</td>\n",
       "      <td>203954429</td>\n",
       "      <td>582831332761</td>\n",
       "      <td>2857.65</td>\n",
       "      <td>-60228977</td>\n",
       "    </tr>\n",
       "    <tr>\n",
       "      <th>...</th>\n",
       "      <td>...</td>\n",
       "      <td>...</td>\n",
       "      <td>...</td>\n",
       "      <td>...</td>\n",
       "      <td>...</td>\n",
       "      <td>...</td>\n",
       "    </tr>\n",
       "    <tr>\n",
       "      <th>4</th>\n",
       "      <td>2020-08-12</td>\n",
       "      <td>16784</td>\n",
       "      <td>163750982</td>\n",
       "      <td>1544418794674</td>\n",
       "      <td>9431.51</td>\n",
       "      <td>-5724172</td>\n",
       "    </tr>\n",
       "    <tr>\n",
       "      <th>3</th>\n",
       "      <td>2020-08-15</td>\n",
       "      <td>6837</td>\n",
       "      <td>62974940</td>\n",
       "      <td>562426314416</td>\n",
       "      <td>8930.95</td>\n",
       "      <td>-2332464</td>\n",
       "    </tr>\n",
       "    <tr>\n",
       "      <th>2</th>\n",
       "      <td>2020-08-16</td>\n",
       "      <td>7152</td>\n",
       "      <td>93906162</td>\n",
       "      <td>796937740851</td>\n",
       "      <td>8486.53</td>\n",
       "      <td>-7480645</td>\n",
       "    </tr>\n",
       "    <tr>\n",
       "      <th>1</th>\n",
       "      <td>2020-08-17</td>\n",
       "      <td>22056</td>\n",
       "      <td>271017598</td>\n",
       "      <td>2205390692705</td>\n",
       "      <td>8137.44</td>\n",
       "      <td>-27124329</td>\n",
       "    </tr>\n",
       "    <tr>\n",
       "      <th>0</th>\n",
       "      <td>2020-08-18</td>\n",
       "      <td>23556</td>\n",
       "      <td>190302443</td>\n",
       "      <td>1597879748863</td>\n",
       "      <td>8396.53</td>\n",
       "      <td>11232578</td>\n",
       "    </tr>\n",
       "  </tbody>\n",
       "</table>\n",
       "<p>96 rows × 6 columns</p>\n",
       "</div>"
      ],
      "text/plain": [
       "         Date  Number     Volume          Value  Average Price  Owner Change\n",
       "95 2020-03-24    8587  193725370   502628674741        2594.54      18892364\n",
       "94 2020-03-25    7988  195181405   520190153171        2665.16        285589\n",
       "93 2020-03-28    8614  248921949   685734528376        2754.82      35123935\n",
       "92 2020-03-29   12113  314731754   896797504482        2849.40      33912528\n",
       "91 2020-03-30    6493  203954429   582831332761        2857.65     -60228977\n",
       "..        ...     ...        ...            ...            ...           ...\n",
       "4  2020-08-12   16784  163750982  1544418794674        9431.51      -5724172\n",
       "3  2020-08-15    6837   62974940   562426314416        8930.95      -2332464\n",
       "2  2020-08-16    7152   93906162   796937740851        8486.53      -7480645\n",
       "1  2020-08-17   22056  271017598  2205390692705        8137.44     -27124329\n",
       "0  2020-08-18   23556  190302443  1597879748863        8396.53      11232578\n",
       "\n",
       "[96 rows x 6 columns]"
      ]
     },
     "execution_count": 30,
     "metadata": {},
     "output_type": "execute_result"
    }
   ],
   "source": [
    "dff1"
   ]
  },
  {
   "cell_type": "code",
   "execution_count": null,
   "metadata": {},
   "outputs": [],
   "source": []
  }
 ],
 "metadata": {
  "kernelspec": {
   "display_name": "Python 3",
   "language": "python",
   "name": "python3"
  },
  "language_info": {
   "codemirror_mode": {
    "name": "ipython",
    "version": 3
   },
   "file_extension": ".py",
   "mimetype": "text/x-python",
   "name": "python",
   "nbconvert_exporter": "python",
   "pygments_lexer": "ipython3",
   "version": "3.8.5"
  }
 },
 "nbformat": 4,
 "nbformat_minor": 4
}
