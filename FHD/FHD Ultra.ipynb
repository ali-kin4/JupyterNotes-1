{
 "cells": [
  {
   "cell_type": "code",
   "execution_count": 1,
   "metadata": {},
   "outputs": [],
   "source": [
    "from mpl_toolkits.mplot3d import Axes3D\n",
    "from matplotlib import pyplot, cm\n",
    "import numpy as np\n",
    "%matplotlib inline\n",
    "from numpy import arctan, log, pi, sqrt"
   ]
  },
  {
   "cell_type": "code",
   "execution_count": 2,
   "metadata": {},
   "outputs": [],
   "source": [
    "nx  = 100\n",
    "ny  = 100\n",
    "nt  = 100\n",
    "\n",
    "xmin = 0\n",
    "xmax = 10\n",
    "ymin = 0\n",
    "ymax = 10\n",
    "\n",
    "dx = (xmax - xmin) / (nx - 1)\n",
    "dy = (ymax - ymin) / (ny - 1)\n",
    "dt = 0.01\n",
    "\n",
    "x  = np.linspace(xmin, xmax, nx)\n",
    "y  = np.linspace(xmin, xmax, ny)\n",
    "\n",
    "X, Y = np.meshgrid(x, y)"
   ]
  },
  {
   "cell_type": "code",
   "execution_count": 3,
   "metadata": {},
   "outputs": [],
   "source": [
    "u  = np.zeros((nx, ny))\n",
    "un = np.zeros((nx, ny))\n",
    "\n",
    "v  = np.zeros((nx, ny))\n",
    "vn = np.zeros((nx, ny))\n",
    "\n",
    "T  = np.zeros((nx, ny))\n",
    "Tn = np.zeros((nx, ny))\n",
    "\n",
    "C  = np.zeros((nx, ny))\n",
    "Cn = np.zeros((nx, ny))"
   ]
  },
  {
   "cell_type": "code",
   "execution_count": 4,
   "metadata": {},
   "outputs": [],
   "source": [
    "#Problem specs\n",
    "a = 1\n",
    "beta = 21e5\n",
    "nu = 1.0546875e-06\n",
    "gamma = 1\n",
    "n1 = 0.6  #power on the paranthesis \"n\"\n",
    "rho = 1024\n",
    "mu0 = 4e-7*pi\n",
    "M = 8.6e5\n",
    "h = 12.5e-6\n",
    "w = 25e-6\n",
    "c = 4179\n",
    "kinf = 0.613\n",
    "delT = 100\n",
    "eps = 0.2\n",
    "Tinf = 373.15\n",
    "tau = 1\n",
    "Q0 = 50\n",
    "DB = 1\n",
    "DT = 1\n",
    "\n",
    "Uw = 1\n",
    "Vw = 1\n",
    "hf = 1\n",
    "Tf = 1\n",
    "hm = 1\n",
    "Cf = 1\n",
    "Cinf = 100"
   ]
  },
  {
   "cell_type": "code",
   "execution_count": 5,
   "metadata": {},
   "outputs": [],
   "source": [
    "def Hcalc(M, i, j, h, w):\n",
    "    H = M**2*(-4*h*((4*h**2*(w - i)**2 + (-h**2 + j**2 + (w - i)**2)**2)*(-h**2 + j**2 - (w + i)**2) + (4*h**2*(w + i)**2 + (-h**2 + j**2 + (w + i)**2)**2)*(h**2 - j**2 + (w - i)**2))*((-h + j)**2 + (-w + i)**2)*((-h + j)**2 + (w + i)**2)*((h + j)**2 + (-w + i)**2)*((h + j)**2 + (w + i)**2)*(arctan(2*h*(-w + i)/(-h**2 + j**2 + (-w + i)**2)) - arctan(2*h*(w + i)/(-h**2 + j**2 + (w + i)**2))) + (4*h**2*(w - i)**2 + (-h**2 + j**2 + (w - i)**2)**2)*(4*h**2*(w + i)**2 + (-h**2 + j**2 + (w + i)**2)**2)*(-(w + i)*(-(-h + j)**2 + (h + j)**2)*((-h + j)**2 + (-w + i)**2)*((h + j)**2 + (-w + i)**2) + ((-w + i)*((h + j)**2 + (-w + i)**2) + (w - i)*((-h + j)**2 + (-w + i)**2))*((-h + j)**2 + (w + i)**2)*((h + j)**2 + (w + i)**2))*(log(((-h + j)**2 + (-w + i)**2)/((h + j)**2 + (-w + i)**2)) - log(((-h + j)**2 + (w + i)**2)/((h + j)**2 + (w + i)**2))))/(2*pi*sqrt(M**2*((log(((h - j)**2 + (w - i)**2)/((h + j)**2 + (w - i)**2)) - log(((h - j)**2 + (w + i)**2)/((h + j)**2 + (w + i)**2)))**2 + 4*(arctan(2*h*(w - i)/(-h**2 + j**2 + (w - i)**2)) + arctan(2*h*(w + i)/(-h**2 + j**2 + (w + i)**2)))**2))*(4*h**2*(w - i)**2 + (-h**2 + j**2 + (w - i)**2)**2)*(4*h**2*(w + i)**2 + (-h**2 + j**2 + (w + i)**2)**2)*((-h + j)**2 + (-w + i)**2)*((-h + j)**2 + (w + i)**2)*((h + j)**2 + (-w + i)**2)*((h + j)**2 + (w + i)**2))\n",
    "    return H"
   ]
  },
  {
   "cell_type": "code",
   "execution_count": 6,
   "metadata": {},
   "outputs": [],
   "source": [
    "u[:, 0] = Uw\n",
    "v[:, 0] = Vw\n",
    "\n",
    "T[:, 1] = -((hf*dy)/kinf) * (Tf - T[:, 0]) + T[:, 0]\n",
    "C[:, 1] = -((hm*dy)/DB) * (Cf - C[:, 0]) + C[:, 0]\n",
    "T[:, ny-1] = Tinf\n",
    "C[:, ny-1] = Cinf\n",
    "v[:, ny-1] = 0"
   ]
  },
  {
   "cell_type": "code",
   "execution_count": null,
   "metadata": {},
   "outputs": [],
   "source": [
    "#Boundary conditions:\n",
    "\n",
    "for n in range(nt):\n",
    "    for i in range(nx):\n",
    "        for j in range(ny):\n",
    "            u[i, ny-1] = ((a*i)/(1-beta*n))"
   ]
  },
  {
   "cell_type": "code",
   "execution_count": null,
   "metadata": {},
   "outputs": [],
   "source": [
    "udiff = 1\n",
    "Tdiff = 1\n",
    "Cdiff = 1\n",
    "stepcount = 0\n",
    "accu = 0.001\n",
    "\n",
    "while (udiff > accu) and (Tdiff > accu) and (Cdiff > accu):\n",
    "    un = u.copy()\n",
    "    vn = v.copy()\n",
    "    Tn = T.copy()\n",
    "    Cn = C.copy()\n",
    "    \n",
    "    for n in range(nt):\n",
    "        for i in range(nx-2):\n",
    "            for j in range(1, ny-2):\n",
    "                #Velocity\n",
    "                u[i, j] = dt * (((a*i*(a+beta))/(1-beta*n)**2) +\n",
    "                                (nu * (un[i, j+1] - 2*un[i, j] + un[i, j-1])/(2*dy)) *\n",
    "                                (1 + (gamma**2) *\n",
    "                                (((un[i, j+1] - un[i, j])/dy)**2))**((n1-1)/2) +\n",
    "                                nu*(n1-1) * (gamma**2) * ((un[i, j+1] - 2*un[i, j] + un[i, j-1])/(2*dy)) * \n",
    "                                (((un[i, j+1] - un[i, j])/dy)**2) *\n",
    "                                (1 + (gamma**2)* \n",
    "                                ((un[i, j+1] - un[i, j])/dy)**2)**((n1-3)/2) +\n",
    "                                mu0*M/rho * (M**2*(-4*h*((4*h**2*(w - i)**2 + Hcalc(M, i, j, h, w) - \n",
    "                                ((un[i, j] * (un[i+1, j] - un[i, j])/dx) +\n",
    "                                 (vn[i, j] * (un[i, j+1] - un[i, j])/dy))) + un[i, j]))))\n",
    "\n",
    "                #Temperature\n",
    "                T[i, j] = dt * ((1/(rho*c)) * (kinf * ((Tn[i, j+1] - 2*Tn[i, j] + Tn[i, j-1])/(2*dy)) + \n",
    "                               (kinf*eps/delT)* Tn[i ,j] * ((Tn[i, j+1] - Tn[i, j])/dy) - \n",
    "                                ((kinf * eps)/delT)*Tinf * ((Tn[i, j+1] - Tn[i, j])/dy)) + \n",
    "                                tau * (DB * ((Cn[i, j+1] - Cn[i, j])/dy) * ((Tn[i, j+1] - Tn[i, j])/dy) + \n",
    "                                (DT/Tinf) * ((Tn[i, j+1] - Tn[i, j])/dy)**2) + \n",
    "                                (Q0/(rho*c)) * (Tn[i, j] - Tinf) - \n",
    "                                (un[i, j] * ((Tn[i+1, j] - Tn[i, j])/dx) +\n",
    "                                 vn[i, j] * ((Tn[i, j+1] - Tn[i, j])/dy))) + Tn[i, j]\n",
    "\n",
    "                #Concentration\n",
    "                C[i, j] = dt * (DB * ((Cn[i, j+1] - 2*Cn[i, j] + Cn[i, j-1])/(2*dy)) + \n",
    "                                (DT/Tinf) * ((Tn[i, j+1] - 2*Tn[i, j] + Tn[i, j-1])/2*dy) -\n",
    "                                (un[i, j] * ((Cn[i+1, j] - Cn[i, j])/dx) + \n",
    "                                 vn[i, j] * ((Cn[i, j+1] - Cn[i, j])/dy))) + Cn[i, j]\n",
    "                    \n",
    "\n",
    "                \n",
    "                \n",
    "                udiff = (np.sum(u) - np.sum(un))/np.sum(u)\n",
    "                Tdiff = (np.sum(T) - np.sum(Tn))/np.sum(T)\n",
    "                Cdiff = (np.sum(C) - np.sum(Cn))/np.sum(C)\n",
    "                stepcount += 1"
   ]
  }
 ],
 "metadata": {
  "kernelspec": {
   "display_name": "Python 3",
   "language": "python",
   "name": "python3"
  },
  "language_info": {
   "codemirror_mode": {
    "name": "ipython",
    "version": 3
   },
   "file_extension": ".py",
   "mimetype": "text/x-python",
   "name": "python",
   "nbconvert_exporter": "python",
   "pygments_lexer": "ipython3",
   "version": "3.7.0"
  }
 },
 "nbformat": 4,
 "nbformat_minor": 2
}
