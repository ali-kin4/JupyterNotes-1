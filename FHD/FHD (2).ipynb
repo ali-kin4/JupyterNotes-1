{
 "cells": [
  {
   "cell_type": "code",
   "execution_count": 1,
   "metadata": {},
   "outputs": [],
   "source": [
    "import sympy as sp\n",
    "sp.init_printing(use_latex = True)\n",
    "%matplotlib inline"
   ]
  },
  {
   "cell_type": "code",
   "execution_count": 2,
   "metadata": {},
   "outputs": [],
   "source": [
    "M_s, x, w, y, h, a, beta, t, nu = sp.symbols('M_s, x, w, y, h, a, beta, t, nu')"
   ]
  },
  {
   "cell_type": "code",
   "execution_count": 3,
   "metadata": {},
   "outputs": [
    {
     "data": {
      "image/png": "[encoded data removed]",
      "text/latex": [
       "$$\\frac{M_{s} \\left(- \\log{\\left (\\frac{\\left(- h + y\\right)^{2} + \\left(- w + x\\right)^{2}}{\\left(h + y\\right)^{2} + \\left(- w + x\\right)^{2}} \\right )} + \\log{\\left (\\frac{\\left(- h + y\\right)^{2} + \\left(w + x\\right)^{2}}{\\left(h + y\\right)^{2} + \\left(w + x\\right)^{2}} \\right )}\\right)}{4 \\pi}$$"
      ],
      "text/plain": [
       "   ⎛     ⎛        2           2⎞      ⎛        2          2⎞⎞\n",
       "   ⎜     ⎜(-h + y)  + (-w + x) ⎟      ⎜(-h + y)  + (w + x) ⎟⎟\n",
       "Mₛ⋅⎜- log⎜─────────────────────⎟ + log⎜────────────────────⎟⎟\n",
       "   ⎜     ⎜        2           2⎟      ⎜       2          2 ⎟⎟\n",
       "   ⎝     ⎝ (h + y)  + (-w + x) ⎠      ⎝(h + y)  + (w + x)  ⎠⎠\n",
       "─────────────────────────────────────────────────────────────\n",
       "                             4⋅π                             "
      ]
     },
     "execution_count": 3,
     "metadata": {},
     "output_type": "execute_result"
    }
   ],
   "source": [
    "H_x = M_s/(4*sp.pi) * (sp.log(((x+w)**2 + (y-h)**2)/((x+w)**2 + (y+h)**2)) - sp.log(((x-w)**2 + (y-h)**2)/((x-w)**2 + (y+h)**2)))\n",
    "H_x"
   ]
  },
  {
   "cell_type": "code",
   "execution_count": 4,
   "metadata": {},
   "outputs": [
    {
     "data": {
      "image/png": "[encoded data removed]",
      "text/latex": [
       "$$\\frac{M_{s} \\left(- \\operatorname{atan}{\\left (\\frac{2 h \\left(- w + x\\right)}{- h^{2} + y^{2} + \\left(- w + x\\right)^{2}} \\right )} + \\operatorname{atan}{\\left (\\frac{2 h \\left(w + x\\right)}{- h^{2} + y^{2} + \\left(w + x\\right)^{2}} \\right )}\\right)}{2 \\pi}$$"
      ],
      "text/plain": [
       "   ⎛      ⎛     2⋅h⋅(-w + x)    ⎞       ⎛    2⋅h⋅(w + x)     ⎞⎞\n",
       "Mₛ⋅⎜- atan⎜─────────────────────⎟ + atan⎜────────────────────⎟⎟\n",
       "   ⎜      ⎜   2    2           2⎟       ⎜   2    2          2⎟⎟\n",
       "   ⎝      ⎝- h  + y  + (-w + x) ⎠       ⎝- h  + y  + (w + x) ⎠⎠\n",
       "───────────────────────────────────────────────────────────────\n",
       "                              2⋅π                              "
      ]
     },
     "execution_count": 4,
     "metadata": {},
     "output_type": "execute_result"
    }
   ],
   "source": [
    "H_y = M_s/(2*sp.pi) * (sp.atan((2*h*(x+w))/((x+w)**2 + y**2 - h**2)) - sp.atan((2*h*(x-w))/((x-w)**2 + y**2 - h**2)))\n",
    "H_y"
   ]
  },
  {
   "cell_type": "code",
   "execution_count": 5,
   "metadata": {},
   "outputs": [
    {
     "data": {
      "image/png": "[encoded data removed]",
      "text/latex": [
       "$$\\sqrt{\\frac{M_{s}^{2} \\left(- \\log{\\left (\\frac{\\left(- h + y\\right)^{2} + \\left(- w + x\\right)^{2}}{\\left(h + y\\right)^{2} + \\left(- w + x\\right)^{2}} \\right )} + \\log{\\left (\\frac{\\left(- h + y\\right)^{2} + \\left(w + x\\right)^{2}}{\\left(h + y\\right)^{2} + \\left(w + x\\right)^{2}} \\right )}\\right)^{2}}{16 \\pi^{2}} + \\frac{M_{s}^{2} \\left(- \\operatorname{atan}{\\left (\\frac{2 h \\left(- w + x\\right)}{- h^{2} + y^{2} + \\left(- w + x\\right)^{2}} \\right )} + \\operatorname{atan}{\\left (\\frac{2 h \\left(w + x\\right)}{- h^{2} + y^{2} + \\left(w + x\\right)^{2}} \\right )}\\right)^{2}}{4 \\pi^{2}}}$$"
      ],
      "text/plain": [
       "          ____________________________________________________________________\n",
       "         ╱                                                               2    \n",
       "        ╱      ⎛     ⎛        2           2⎞      ⎛        2          2⎞⎞     \n",
       "       ╱     2 ⎜     ⎜(-h + y)  + (-w + x) ⎟      ⎜(-h + y)  + (w + x) ⎟⎟     \n",
       "      ╱    Mₛ ⋅⎜- log⎜─────────────────────⎟ + log⎜────────────────────⎟⎟    M\n",
       "     ╱         ⎜     ⎜        2           2⎟      ⎜       2          2 ⎟⎟     \n",
       "    ╱          ⎝     ⎝ (h + y)  + (-w + x) ⎠      ⎝(h + y)  + (w + x)  ⎠⎠     \n",
       "   ╱       ─────────────────────────────────────────────────────────────── + ─\n",
       "  ╱                                         2                                 \n",
       "╲╱                                      16⋅π                                  \n",
       "\n",
       "_________________________________________________________________\n",
       "                                                                 \n",
       "                                                               2 \n",
       " 2 ⎛      ⎛     2⋅h⋅(-w + x)    ⎞       ⎛    2⋅h⋅(w + x)     ⎞⎞  \n",
       "ₛ ⋅⎜- atan⎜─────────────────────⎟ + atan⎜────────────────────⎟⎟  \n",
       "   ⎜      ⎜   2    2           2⎟       ⎜   2    2          2⎟⎟  \n",
       "   ⎝      ⎝- h  + y  + (-w + x) ⎠       ⎝- h  + y  + (w + x) ⎠⎠  \n",
       "──────────────────────────────────────────────────────────────── \n",
       "                                 2                               \n",
       "                              4⋅π                                "
      ]
     },
     "execution_count": 5,
     "metadata": {},
     "output_type": "execute_result"
    }
   ],
   "source": [
    "H = sp.sqrt(H_x**2 + H_y**2)\n",
    "H"
   ]
  },
  {
   "cell_type": "code",
   "execution_count": 6,
   "metadata": {},
   "outputs": [
    {
     "data": {
      "image/png": "[encoded data removed]",
      "text/latex": [
       "$$\\frac{\\frac{M_{s}^{2} \\left(\\frac{2 \\left(\\frac{2 h \\left(- 2 w - 2 x\\right) \\left(w + x\\right)}{\\left(- h^{2} + y^{2} + \\left(w + x\\right)^{2}\\right)^{2}} + \\frac{2 h}{- h^{2} + y^{2} + \\left(w + x\\right)^{2}}\\right)}{\\frac{4 h^{2} \\left(w + x\\right)^{2}}{\\left(- h^{2} + y^{2} + \\left(w + x\\right)^{2}\\right)^{2}} + 1} - \\frac{2 \\left(\\frac{2 h \\left(- w + x\\right) \\left(2 w - 2 x\\right)}{\\left(- h^{2} + y^{2} + \\left(- w + x\\right)^{2}\\right)^{2}} + \\frac{2 h}{- h^{2} + y^{2} + \\left(- w + x\\right)^{2}}\\right)}{\\frac{4 h^{2} \\left(- w + x\\right)^{2}}{\\left(- h^{2} + y^{2} + \\left(- w + x\\right)^{2}\\right)^{2}} + 1}\\right) \\left(- \\operatorname{atan}{\\left (\\frac{2 h \\left(- w + x\\right)}{- h^{2} + y^{2} + \\left(- w + x\\right)^{2}} \\right )} + \\operatorname{atan}{\\left (\\frac{2 h \\left(w + x\\right)}{- h^{2} + y^{2} + \\left(w + x\\right)^{2}} \\right )}\\right)}{8 \\pi^{2}} + \\frac{M_{s}^{2} \\left(- \\frac{2 \\left(\\frac{- 2 w + 2 x}{\\left(h + y\\right)^{2} + \\left(- w + x\\right)^{2}} + \\frac{\\left(2 w - 2 x\\right) \\left(\\left(- h + y\\right)^{2} + \\left(- w + x\\right)^{2}\\right)}{\\left(\\left(h + y\\right)^{2} + \\left(- w + x\\right)^{2}\\right)^{2}}\\right) \\left(\\left(h + y\\right)^{2} + \\left(- w + x\\right)^{2}\\right)}{\\left(- h + y\\right)^{2} + \\left(- w + x\\right)^{2}} + \\frac{2 \\left(\\frac{\\left(- 2 w - 2 x\\right) \\left(\\left(- h + y\\right)^{2} + \\left(w + x\\right)^{2}\\right)}{\\left(\\left(h + y\\right)^{2} + \\left(w + x\\right)^{2}\\right)^{2}} + \\frac{2 w + 2 x}{\\left(h + y\\right)^{2} + \\left(w + x\\right)^{2}}\\right) \\left(\\left(h + y\\right)^{2} + \\left(w + x\\right)^{2}\\right)}{\\left(- h + y\\right)^{2} + \\left(w + x\\right)^{2}}\\right) \\left(- \\log{\\left (\\frac{\\left(- h + y\\right)^{2} + \\left(- w + x\\right)^{2}}{\\left(h + y\\right)^{2} + \\left(- w + x\\right)^{2}} \\right )} + \\log{\\left (\\frac{\\left(- h + y\\right)^{2} + \\left(w + x\\right)^{2}}{\\left(h + y\\right)^{2} + \\left(w + x\\right)^{2}} \\right )}\\right)}{32 \\pi^{2}}}{\\sqrt{\\frac{M_{s}^{2} \\left(- \\log{\\left (\\frac{\\left(- h + y\\right)^{2} + \\left(- w + x\\right)^{2}}{\\left(h + y\\right)^{2} + \\left(- w + x\\right)^{2}} \\right )} + \\log{\\left (\\frac{\\left(- h + y\\right)^{2} + \\left(w + x\\right)^{2}}{\\left(h + y\\right)^{2} + \\left(w + x\\right)^{2}} \\right )}\\right)^{2}}{16 \\pi^{2}} + \\frac{M_{s}^{2} \\left(- \\operatorname{atan}{\\left (\\frac{2 h \\left(- w + x\\right)}{- h^{2} + y^{2} + \\left(- w + x\\right)^{2}} \\right )} + \\operatorname{atan}{\\left (\\frac{2 h \\left(w + x\\right)}{- h^{2} + y^{2} + \\left(w + x\\right)^{2}} \\right )}\\right)^{2}}{4 \\pi^{2}}}}$$"
      ],
      "text/plain": [
       "    ⎛  ⎛2⋅h⋅(-2⋅w - 2⋅x)⋅(w + x)           2⋅h         ⎞     ⎛2⋅h⋅(-w + x)⋅(2⋅\n",
       "    ⎜2⋅⎜──────────────────────── + ────────────────────⎟   2⋅⎜────────────────\n",
       "    ⎜  ⎜                      2       2    2          2⎟     ⎜                \n",
       "    ⎜  ⎜⎛   2    2          2⎞     - h  + y  + (w + x) ⎟     ⎜⎛   2    2      \n",
       "  2 ⎜  ⎝⎝- h  + y  + (w + x) ⎠                         ⎠     ⎝⎝- h  + y  + (-w\n",
       "Mₛ ⋅⎜─────────────────────────────────────────────────── - ───────────────────\n",
       "    ⎜                    2        2                                           \n",
       "    ⎜                 4⋅h ⋅(w + x)                                          4⋅\n",
       "    ⎜            ─────────────────────── + 1                           ───────\n",
       "    ⎜                                  2                                      \n",
       "    ⎜            ⎛   2    2          2⎞                                ⎛   2  \n",
       "    ⎝            ⎝- h  + y  + (w + x) ⎠                                ⎝- h  +\n",
       "──────────────────────────────────────────────────────────────────────────────\n",
       "                                                                              \n",
       "                                                                              \n",
       "──────────────────────────────────────────────────────────────────────────────\n",
       "                                                                              \n",
       "                                                                              \n",
       "                                                                              \n",
       "                                                                              \n",
       "                                                                              \n",
       "                                                                              \n",
       "                                                                              \n",
       "                                                                              \n",
       "                                                                              \n",
       "                                                                              \n",
       "\n",
       "w - 2⋅x)            2⋅h         ⎞⎞                                            \n",
       "──────── + ─────────────────────⎟⎟                                            \n",
       "       2      2    2           2⎟⎟                                            \n",
       "     2⎞    - h  + y  + (-w + x) ⎟⎟                                            \n",
       " + x) ⎠                         ⎠⎟ ⎛      ⎛     2⋅h⋅(-w + x)    ⎞       ⎛    2\n",
       "─────────────────────────────────⎟⋅⎜- atan⎜─────────────────────⎟ + atan⎜─────\n",
       " 2         2                     ⎟ ⎜      ⎜   2    2           2⎟       ⎜   2 \n",
       "h ⋅(-w + x)                      ⎟ ⎝      ⎝- h  + y  + (-w + x) ⎠       ⎝- h  \n",
       "───────────────── + 1            ⎟                                            \n",
       "                2                ⎟                                            \n",
       "  2           2⎞                 ⎟                                            \n",
       " y  + (-w + x) ⎠                 ⎠                                            \n",
       "──────────────────────────────────────────────────────────────────────────────\n",
       "          2                                                                   \n",
       "       8⋅π                                                                    \n",
       "──────────────────────────────────────────────────────────────────────────────\n",
       "                                                                   ___________\n",
       "                                                                  ╱           \n",
       "                                                                 ╱      ⎛     \n",
       "                                                                ╱     2 ⎜     \n",
       "                                                               ╱    Mₛ ⋅⎜- log\n",
       "                                                              ╱         ⎜     \n",
       "                                                             ╱          ⎝     \n",
       "                                                            ╱       ──────────\n",
       "                                                           ╱                  \n",
       "                                                         ╲╱                   \n",
       "\n",
       "                                                                              \n",
       "                                                                              \n",
       "                                                                              \n",
       "                        ⎛    ⎛                                   ⎛        2   \n",
       "⋅h⋅(w + x)     ⎞⎞       ⎜    ⎜     -2⋅w + 2⋅x        (2⋅w - 2⋅x)⋅⎝(-h + y)  + \n",
       "───────────────⎟⎟       ⎜  2⋅⎜──────────────────── + ─────────────────────────\n",
       "   2          2⎟⎟       ⎜    ⎜       2           2                            \n",
       "+ y  + (w + x) ⎠⎠       ⎜    ⎜(h + y)  + (-w + x)          ⎛       2          \n",
       "                      2 ⎜    ⎝                             ⎝(h + y)  + (-w + x\n",
       "                    Mₛ ⋅⎜- ───────────────────────────────────────────────────\n",
       "                        ⎜                                          2          \n",
       "                        ⎝                                  (-h + y)  + (-w + x\n",
       "───────────────── + ──────────────────────────────────────────────────────────\n",
       "                                                                              \n",
       "                                                                              \n",
       "──────────────────────────────────────────────────────────────────────────────\n",
       "______________________________________________________________________________\n",
       "                                                    2                         \n",
       "⎛        2           2⎞      ⎛        2          2⎞⎞                          \n",
       "⎜(-h + y)  + (-w + x) ⎟      ⎜(-h + y)  + (w + x) ⎟⎟      2 ⎛      ⎛     2⋅h⋅(\n",
       "⎜─────────────────────⎟ + log⎜────────────────────⎟⎟    Mₛ ⋅⎜- atan⎜──────────\n",
       "⎜        2           2⎟      ⎜       2          2 ⎟⎟        ⎜      ⎜   2    2 \n",
       "⎝ (h + y)  + (-w + x) ⎠      ⎝(h + y)  + (w + x)  ⎠⎠        ⎝      ⎝- h  + y  \n",
       "───────────────────────────────────────────────────── + ──────────────────────\n",
       "                       2                                                      \n",
       "                   16⋅π                                                       \n",
       "\n",
       "                                                                              \n",
       "                                                                              \n",
       "                                                                              \n",
       "        2⎞⎞                            ⎛             ⎛        2          2⎞   \n",
       "(-w + x) ⎠⎟ ⎛       2           2⎞     ⎜(-2⋅w - 2⋅x)⋅⎝(-h + y)  + (w + x) ⎠   \n",
       "──────────⎟⋅⎝(h + y)  + (-w + x) ⎠   2⋅⎜─────────────────────────────────── + \n",
       "   2      ⎟                            ⎜                            2         \n",
       " 2⎞       ⎟                            ⎜       ⎛       2          2⎞          \n",
       ") ⎠       ⎠                            ⎝       ⎝(h + y)  + (w + x) ⎠          \n",
       "────────────────────────────────── + ─────────────────────────────────────────\n",
       " 2                                                                           2\n",
       ")                                                                    (-h + y) \n",
       "──────────────────────────────────────────────────────────────────────────────\n",
       "                                                              2               \n",
       "                                                          32⋅π                \n",
       "──────────────────────────────────────────────────────────────────────────────\n",
       "____________________________________________                                  \n",
       "                                                                              \n",
       "                                          2                                   \n",
       "-w + x)    ⎞       ⎛    2⋅h⋅(w + x)     ⎞⎞                                    \n",
       "───────────⎟ + atan⎜────────────────────⎟⎟                                    \n",
       "          2⎟       ⎜   2    2          2⎟⎟                                    \n",
       "+ (-w + x) ⎠       ⎝- h  + y  + (w + x) ⎠⎠                                    \n",
       "───────────────────────────────────────────                                   \n",
       "            2                                                                 \n",
       "         4⋅π                                                                  \n",
       "\n",
       "                                                                              \n",
       "                                                                              \n",
       "                                                                              \n",
       "                   ⎞                      ⎞                                   \n",
       "     2⋅w + 2⋅x     ⎟ ⎛       2          2⎞⎟                                   \n",
       "───────────────────⎟⋅⎝(h + y)  + (w + x) ⎠⎟                                   \n",
       "       2          2⎟                      ⎟                                   \n",
       "(h + y)  + (w + x) ⎟                      ⎟ ⎛     ⎛        2           2⎞     \n",
       "                   ⎠                      ⎟ ⎜     ⎜(-h + y)  + (-w + x) ⎟     \n",
       "──────────────────────────────────────────⎟⋅⎜- log⎜─────────────────────⎟ + lo\n",
       "          2                               ⎟ ⎜     ⎜        2           2⎟     \n",
       " + (w + x)                                ⎠ ⎝     ⎝ (h + y)  + (-w + x) ⎠     \n",
       "──────────────────────────────────────────────────────────────────────────────\n",
       "                                                                              \n",
       "                                                                              \n",
       "──────────────────────────────────────────────────────────────────────────────\n",
       "                                                                              \n",
       "                                                                              \n",
       "                                                                              \n",
       "                                                                              \n",
       "                                                                              \n",
       "                                                                              \n",
       "                                                                              \n",
       "                                                                              \n",
       "                                                                              \n",
       "                                                                              \n",
       "\n",
       "                        \n",
       "                        \n",
       "                        \n",
       "                        \n",
       "                        \n",
       "                        \n",
       "                        \n",
       " ⎛        2          2⎞⎞\n",
       " ⎜(-h + y)  + (w + x) ⎟⎟\n",
       "g⎜────────────────────⎟⎟\n",
       " ⎜       2          2 ⎟⎟\n",
       " ⎝(h + y)  + (w + x)  ⎠⎠\n",
       "────────────────────────\n",
       "                        \n",
       "                        \n",
       "────────────────────────\n",
       "                        \n",
       "                        \n",
       "                        \n",
       "                        \n",
       "                        \n",
       "                        \n",
       "                        \n",
       "                        \n",
       "                        \n",
       "                        "
      ]
     },
     "execution_count": 6,
     "metadata": {},
     "output_type": "execute_result"
    }
   ],
   "source": [
    "diffx = sp.diff(H, x)\n",
    "diffx"
   ]
  },
  {
   "cell_type": "code",
   "execution_count": 7,
   "metadata": {},
   "outputs": [
    {
     "data": {
      "image/png": "[encoded data removed]",
      "text/latex": [
       "$$\\frac{\\frac{M_{s}^{2} \\left(- \\frac{2 \\left(\\frac{\\left(- 2 h - 2 y\\right) \\left(\\left(- h + y\\right)^{2} + \\left(- w + x\\right)^{2}\\right)}{\\left(\\left(h + y\\right)^{2} + \\left(- w + x\\right)^{2}\\right)^{2}} + \\frac{- 2 h + 2 y}{\\left(h + y\\right)^{2} + \\left(- w + x\\right)^{2}}\\right) \\left(\\left(h + y\\right)^{2} + \\left(- w + x\\right)^{2}\\right)}{\\left(- h + y\\right)^{2} + \\left(- w + x\\right)^{2}} + \\frac{2 \\left(\\frac{\\left(- 2 h - 2 y\\right) \\left(\\left(- h + y\\right)^{2} + \\left(w + x\\right)^{2}\\right)}{\\left(\\left(h + y\\right)^{2} + \\left(w + x\\right)^{2}\\right)^{2}} + \\frac{- 2 h + 2 y}{\\left(h + y\\right)^{2} + \\left(w + x\\right)^{2}}\\right) \\left(\\left(h + y\\right)^{2} + \\left(w + x\\right)^{2}\\right)}{\\left(- h + y\\right)^{2} + \\left(w + x\\right)^{2}}\\right) \\left(- \\log{\\left (\\frac{\\left(- h + y\\right)^{2} + \\left(- w + x\\right)^{2}}{\\left(h + y\\right)^{2} + \\left(- w + x\\right)^{2}} \\right )} + \\log{\\left (\\frac{\\left(- h + y\\right)^{2} + \\left(w + x\\right)^{2}}{\\left(h + y\\right)^{2} + \\left(w + x\\right)^{2}} \\right )}\\right)}{32 \\pi^{2}} + \\frac{M_{s}^{2} \\left(\\frac{8 h y \\left(- w + x\\right)}{\\left(\\frac{4 h^{2} \\left(- w + x\\right)^{2}}{\\left(- h^{2} + y^{2} + \\left(- w + x\\right)^{2}\\right)^{2}} + 1\\right) \\left(- h^{2} + y^{2} + \\left(- w + x\\right)^{2}\\right)^{2}} - \\frac{8 h y \\left(w + x\\right)}{\\left(\\frac{4 h^{2} \\left(w + x\\right)^{2}}{\\left(- h^{2} + y^{2} + \\left(w + x\\right)^{2}\\right)^{2}} + 1\\right) \\left(- h^{2} + y^{2} + \\left(w + x\\right)^{2}\\right)^{2}}\\right) \\left(- \\operatorname{atan}{\\left (\\frac{2 h \\left(- w + x\\right)}{- h^{2} + y^{2} + \\left(- w + x\\right)^{2}} \\right )} + \\operatorname{atan}{\\left (\\frac{2 h \\left(w + x\\right)}{- h^{2} + y^{2} + \\left(w + x\\right)^{2}} \\right )}\\right)}{8 \\pi^{2}}}{\\sqrt{\\frac{M_{s}^{2} \\left(- \\log{\\left (\\frac{\\left(- h + y\\right)^{2} + \\left(- w + x\\right)^{2}}{\\left(h + y\\right)^{2} + \\left(- w + x\\right)^{2}} \\right )} + \\log{\\left (\\frac{\\left(- h + y\\right)^{2} + \\left(w + x\\right)^{2}}{\\left(h + y\\right)^{2} + \\left(w + x\\right)^{2}} \\right )}\\right)^{2}}{16 \\pi^{2}} + \\frac{M_{s}^{2} \\left(- \\operatorname{atan}{\\left (\\frac{2 h \\left(- w + x\\right)}{- h^{2} + y^{2} + \\left(- w + x\\right)^{2}} \\right )} + \\operatorname{atan}{\\left (\\frac{2 h \\left(w + x\\right)}{- h^{2} + y^{2} + \\left(w + x\\right)^{2}} \\right )}\\right)^{2}}{4 \\pi^{2}}}}$$"
      ],
      "text/plain": [
       "    ⎛    ⎛             ⎛        2           2⎞                       ⎞        \n",
       "    ⎜    ⎜(-2⋅h - 2⋅y)⋅⎝(-h + y)  + (-w + x) ⎠        -2⋅h + 2⋅y     ⎟ ⎛      \n",
       "    ⎜  2⋅⎜──────────────────────────────────── + ────────────────────⎟⋅⎝(h + y\n",
       "    ⎜    ⎜                            2                 2           2⎟        \n",
       "    ⎜    ⎜      ⎛       2           2⎞           (h + y)  + (-w + x) ⎟        \n",
       "  2 ⎜    ⎝      ⎝(h + y)  + (-w + x) ⎠                               ⎠        \n",
       "Mₛ ⋅⎜- ───────────────────────────────────────────────────────────────────────\n",
       "    ⎜                                          2           2                  \n",
       "    ⎝                                  (-h + y)  + (-w + x)                   \n",
       "──────────────────────────────────────────────────────────────────────────────\n",
       "                                                                              \n",
       "                                                                              \n",
       "──────────────────────────────────────────────────────────────────────────────\n",
       "                                                                              \n",
       "                                                                              \n",
       "                                                                              \n",
       "                                                                              \n",
       "                                                                              \n",
       "                                                                              \n",
       "                                                                              \n",
       "                                                                              \n",
       "                                                                              \n",
       "                                                                              \n",
       "\n",
       "                    ⎛             ⎛        2          2⎞                      \n",
       " 2           2⎞     ⎜(-2⋅h - 2⋅y)⋅⎝(-h + y)  + (w + x) ⎠        -2⋅h + 2⋅y    \n",
       ")  + (-w + x) ⎠   2⋅⎜─────────────────────────────────── + ───────────────────\n",
       "                    ⎜                            2                2          2\n",
       "                    ⎜       ⎛       2          2⎞          (h + y)  + (w + x) \n",
       "                    ⎝       ⎝(h + y)  + (w + x) ⎠                             \n",
       "─────────────── + ────────────────────────────────────────────────────────────\n",
       "                                                          2          2        \n",
       "                                                  (-h + y)  + (w + x)         \n",
       "──────────────────────────────────────────────────────────────────────────────\n",
       "                                           2                                  \n",
       "                                       32⋅π                                   \n",
       "──────────────────────────────────────────────────────────────────────────────\n",
       "                                                                      ________\n",
       "                                                                     ╱        \n",
       "                                                                    ╱      ⎛  \n",
       "                                                                   ╱     2 ⎜  \n",
       "                                                                  ╱    Mₛ ⋅⎜- \n",
       "                                                                 ╱         ⎜  \n",
       "                                                                ╱          ⎝  \n",
       "                                                               ╱       ───────\n",
       "                                                              ╱               \n",
       "                                                            ╲╱                \n",
       "\n",
       "⎞                      ⎞                                                      \n",
       "⎟ ⎛       2          2⎞⎟                                                      \n",
       "⎟⋅⎝(h + y)  + (w + x) ⎠⎟                                                      \n",
       "⎟                      ⎟                                                      \n",
       "⎟                      ⎟ ⎛     ⎛        2           2⎞      ⎛        2        \n",
       "⎠                      ⎟ ⎜     ⎜(-h + y)  + (-w + x) ⎟      ⎜(-h + y)  + (w + \n",
       "───────────────────────⎟⋅⎜- log⎜─────────────────────⎟ + log⎜─────────────────\n",
       "                       ⎟ ⎜     ⎜        2           2⎟      ⎜       2         \n",
       "                       ⎠ ⎝     ⎝ (h + y)  + (-w + x) ⎠      ⎝(h + y)  + (w + x\n",
       "──────────────────────────────────────────────────────────────────────────────\n",
       "                                                                              \n",
       "                                                                              \n",
       "──────────────────────────────────────────────────────────────────────────────\n",
       "______________________________________________________________________________\n",
       "                                                       2                      \n",
       "   ⎛        2           2⎞      ⎛        2          2⎞⎞                       \n",
       "   ⎜(-h + y)  + (-w + x) ⎟      ⎜(-h + y)  + (w + x) ⎟⎟      2 ⎛      ⎛     2⋅\n",
       "log⎜─────────────────────⎟ + log⎜────────────────────⎟⎟    Mₛ ⋅⎜- atan⎜───────\n",
       "   ⎜        2           2⎟      ⎜       2          2 ⎟⎟        ⎜      ⎜   2   \n",
       "   ⎝ (h + y)  + (-w + x) ⎠      ⎝(h + y)  + (w + x)  ⎠⎠        ⎝      ⎝- h  + \n",
       "──────────────────────────────────────────────────────── + ───────────────────\n",
       "                          2                                                   \n",
       "                      16⋅π                                                    \n",
       "\n",
       "                                                                              \n",
       "          2 ⎛                     8⋅h⋅y⋅(-w + x)                              \n",
       "        Mₛ ⋅⎜─────────────────────────────────────────────────────── - ───────\n",
       "            ⎜⎛        2         2         ⎞                        2   ⎛      \n",
       "  2⎞⎞       ⎜⎜     4⋅h ⋅(-w + x)          ⎟ ⎛   2    2           2⎞    ⎜     4\n",
       "x) ⎟⎟       ⎜⎜──────────────────────── + 1⎟⋅⎝- h  + y  + (-w + x) ⎠    ⎜──────\n",
       "───⎟⎟       ⎜⎜                       2    ⎟                            ⎜      \n",
       " 2 ⎟⎟       ⎜⎜⎛   2    2           2⎞     ⎟                            ⎜⎛   2 \n",
       ")  ⎠⎠       ⎝⎝⎝- h  + y  + (-w + x) ⎠     ⎠                            ⎝⎝- h  \n",
       "───── + ──────────────────────────────────────────────────────────────────────\n",
       "                                                                              \n",
       "                                                                              \n",
       "──────────────────────────────────────────────────────────────────────────────\n",
       "_______________________________________________                               \n",
       "                                                                              \n",
       "                                             2                                \n",
       "h⋅(-w + x)    ⎞       ⎛    2⋅h⋅(w + x)     ⎞⎞                                 \n",
       "──────────────⎟ + atan⎜────────────────────⎟⎟                                 \n",
       " 2           2⎟       ⎜   2    2          2⎟⎟                                 \n",
       "y  + (-w + x) ⎠       ⎝- h  + y  + (w + x) ⎠⎠                                 \n",
       "──────────────────────────────────────────────                                \n",
       "               2                                                              \n",
       "            4⋅π                                                               \n",
       "\n",
       "                                                                              \n",
       "             8⋅h⋅y⋅(w + x)                    ⎞ ⎛      ⎛     2⋅h⋅(-w + x)    ⎞\n",
       "──────────────────────────────────────────────⎟⋅⎜- atan⎜─────────────────────⎟\n",
       "  2        2         ⎞                       2⎟ ⎜      ⎜   2    2           2⎟\n",
       "⋅h ⋅(w + x)          ⎟ ⎛   2    2          2⎞ ⎟ ⎝      ⎝- h  + y  + (-w + x) ⎠\n",
       "───────────────── + 1⎟⋅⎝- h  + y  + (w + x) ⎠ ⎟                               \n",
       "                2    ⎟                        ⎟                               \n",
       "   2          2⎞     ⎟                        ⎟                               \n",
       "+ y  + (w + x) ⎠     ⎠                        ⎠                               \n",
       "──────────────────────────────────────────────────────────────────────────────\n",
       "                    2                                                         \n",
       "                 8⋅π                                                          \n",
       "──────────────────────────────────────────────────────────────────────────────\n",
       "                                                                              \n",
       "                                                                              \n",
       "                                                                              \n",
       "                                                                              \n",
       "                                                                              \n",
       "                                                                              \n",
       "                                                                              \n",
       "                                                                              \n",
       "                                                                              \n",
       "                                                                              \n",
       "\n",
       "                              \n",
       "       ⎛    2⋅h⋅(w + x)     ⎞⎞\n",
       " + atan⎜────────────────────⎟⎟\n",
       "       ⎜   2    2          2⎟⎟\n",
       "       ⎝- h  + y  + (w + x) ⎠⎠\n",
       "                              \n",
       "                              \n",
       "                              \n",
       "                              \n",
       "──────────────────────────────\n",
       "                              \n",
       "                              \n",
       "──────────────────────────────\n",
       "                              \n",
       "                              \n",
       "                              \n",
       "                              \n",
       "                              \n",
       "                              \n",
       "                              \n",
       "                              \n",
       "                              \n",
       "                              "
      ]
     },
     "execution_count": 7,
     "metadata": {},
     "output_type": "execute_result"
    }
   ],
   "source": [
    "diffy = sp.diff(H, y)\n",
    "diffy"
   ]
  },
  {
   "cell_type": "code",
   "execution_count": 8,
   "metadata": {},
   "outputs": [
    {
     "data": {
      "image/png": "[encoded data removed]",
      "text/latex": [
       "$$\\frac{a^{2} x}{\\nu \\left(\\beta t - 1\\right)^{2}}$$"
      ],
      "text/plain": [
       "     2      \n",
       "    a ⋅x    \n",
       "────────────\n",
       "           2\n",
       "ν⋅(β⋅t - 1) "
      ]
     },
     "execution_count": 8,
     "metadata": {},
     "output_type": "execute_result"
    }
   ],
   "source": [
    "g = sp.simplify(((a*x)/(1-beta*t)) * sp.sqrt(a/(nu*(1-beta*t))) * sp.sqrt(a/(nu*(1-beta*t))))\n",
    "g"
   ]
  },
  {
   "cell_type": "code",
   "execution_count": 9,
   "metadata": {},
   "outputs": [
    {
     "data": {
      "image/png": "[encoded data removed]",
      "text/latex": [
       "$$\\frac{a^{3} x^{2}}{\\nu \\left(- \\beta t + 1\\right)^{3}}$$"
      ],
      "text/plain": [
       "     3  2    \n",
       "    a ⋅x     \n",
       "─────────────\n",
       "            3\n",
       "ν⋅(-β⋅t + 1) "
      ]
     },
     "execution_count": 9,
     "metadata": {},
     "output_type": "execute_result"
    }
   ],
   "source": [
    "gg = ((a*x)/(1-beta*t)) * sp.sqrt(a/(nu*(1-beta*t)))\n",
    "gg**2"
   ]
  },
  {
   "cell_type": "code",
   "execution_count": 10,
   "metadata": {},
   "outputs": [
    {
     "data": {
      "image/png": "[encoded data removed]",
      "text/latex": [
       "$$y \\sqrt{\\frac{a}{\\nu \\left(- \\beta t + 1\\right)}}$$"
      ],
      "text/plain": [
       "      ______________\n",
       "     ╱      a       \n",
       "y⋅  ╱  ──────────── \n",
       "  ╲╱   ν⋅(-β⋅t + 1) "
      ]
     },
     "execution_count": 10,
     "metadata": {},
     "output_type": "execute_result"
    }
   ],
   "source": [
    "eta = y * sp.sqrt(a/(nu*(1 - beta*t)))\n",
    "eta"
   ]
  },
  {
   "cell_type": "code",
   "execution_count": 11,
   "metadata": {},
   "outputs": [
    {
     "data": {
      "image/png": "[encoded data removed]",
      "text/latex": [
       "$$\\frac{\\beta y \\sqrt{\\frac{a}{\\nu \\left(- \\beta t + 1\\right)}}}{2 \\left(- \\beta t + 1\\right)}$$"
      ],
      "text/plain": [
       "        ______________\n",
       "       ╱      a       \n",
       "β⋅y⋅  ╱  ──────────── \n",
       "    ╲╱   ν⋅(-β⋅t + 1) \n",
       "──────────────────────\n",
       "     2⋅(-β⋅t + 1)     "
      ]
     },
     "execution_count": 11,
     "metadata": {},
     "output_type": "execute_result"
    }
   ],
   "source": [
    "ddt = sp.diff(eta, t)\n",
    "ddt"
   ]
  },
  {
   "cell_type": "code",
   "execution_count": 12,
   "metadata": {},
   "outputs": [
    {
     "data": {
      "image/png": "[encoded data removed]",
      "text/latex": [
       "$$\\left(- \\frac{a}{\\nu \\left(\\beta t - 1\\right)}\\right)^{\\frac{3}{2}}$$"
      ],
      "text/plain": [
       "             3/2\n",
       "⎛    -a     ⎞   \n",
       "⎜───────────⎟   \n",
       "⎝ν⋅(β⋅t - 1)⎠   "
      ]
     },
     "execution_count": 12,
     "metadata": {},
     "output_type": "execute_result"
    }
   ],
   "source": [
    "sp.simplify((a/(nu*(1-beta*t))) * sp.sqrt(a/(nu*(1-beta*t))))"
   ]
  },
  {
   "cell_type": "code",
   "execution_count": 13,
   "metadata": {},
   "outputs": [
    {
     "data": {
      "image/png": "[encoded data removed]",
      "text/latex": [
       "$$\\sqrt{- \\frac{a}{\\nu \\left(\\beta t - 1\\right)}} \\sqrt{- \\frac{a \\nu}{\\beta t - 1}}$$"
      ],
      "text/plain": [
       "    _____________     _________\n",
       "   ╱     -a          ╱  -a⋅ν   \n",
       "  ╱  ─────────── ⋅  ╱  ─────── \n",
       "╲╱   ν⋅(β⋅t - 1)  ╲╱   β⋅t - 1 "
      ]
     },
     "execution_count": 13,
     "metadata": {},
     "output_type": "execute_result"
    }
   ],
   "source": [
    "bb = sp.sqrt((a*nu)/(1-beta*t)) * sp.sqrt(a/(nu*(1-beta*t)))\n",
    "sp.simplify(bb)"
   ]
  },
  {
   "cell_type": "code",
   "execution_count": 14,
   "metadata": {},
   "outputs": [
    {
     "data": {
      "image/png": "[encoded data removed]",
      "text/latex": [
       "$$\\frac{M_{s}^{2} \\left(- 4 h \\left(\\left(4 h^{2} \\left(w - x\\right)^{2} + \\left(- h^{2} + y^{2} + \\left(w - x\\right)^{2}\\right)^{2}\\right) \\left(- h^{2} + y^{2} - \\left(w + x\\right)^{2}\\right) + \\left(4 h^{2} \\left(w + x\\right)^{2} + \\left(- h^{2} + y^{2} + \\left(w + x\\right)^{2}\\right)^{2}\\right) \\left(h^{2} - y^{2} + \\left(w - x\\right)^{2}\\right)\\right) \\left(\\left(- h + y\\right)^{2} + \\left(- w + x\\right)^{2}\\right) \\left(\\left(- h + y\\right)^{2} + \\left(w + x\\right)^{2}\\right) \\left(\\left(h + y\\right)^{2} + \\left(- w + x\\right)^{2}\\right) \\left(\\left(h + y\\right)^{2} + \\left(w + x\\right)^{2}\\right) \\left(\\operatorname{atan}{\\left (\\frac{2 h \\left(- w + x\\right)}{- h^{2} + y^{2} + \\left(- w + x\\right)^{2}} \\right )} - \\operatorname{atan}{\\left (\\frac{2 h \\left(w + x\\right)}{- h^{2} + y^{2} + \\left(w + x\\right)^{2}} \\right )}\\right) + \\left(4 h^{2} \\left(w - x\\right)^{2} + \\left(- h^{2} + y^{2} + \\left(w - x\\right)^{2}\\right)^{2}\\right) \\left(4 h^{2} \\left(w + x\\right)^{2} + \\left(- h^{2} + y^{2} + \\left(w + x\\right)^{2}\\right)^{2}\\right) \\left(- \\left(w + x\\right) \\left(- \\left(- h + y\\right)^{2} + \\left(h + y\\right)^{2}\\right) \\left(\\left(- h + y\\right)^{2} + \\left(- w + x\\right)^{2}\\right) \\left(\\left(h + y\\right)^{2} + \\left(- w + x\\right)^{2}\\right) + \\left(\\left(- w + x\\right) \\left(\\left(h + y\\right)^{2} + \\left(- w + x\\right)^{2}\\right) + \\left(w - x\\right) \\left(\\left(- h + y\\right)^{2} + \\left(- w + x\\right)^{2}\\right)\\right) \\left(\\left(- h + y\\right)^{2} + \\left(w + x\\right)^{2}\\right) \\left(\\left(h + y\\right)^{2} + \\left(w + x\\right)^{2}\\right)\\right) \\left(\\log{\\left (\\frac{\\left(- h + y\\right)^{2} + \\left(- w + x\\right)^{2}}{\\left(h + y\\right)^{2} + \\left(- w + x\\right)^{2}} \\right )} - \\log{\\left (\\frac{\\left(- h + y\\right)^{2} + \\left(w + x\\right)^{2}}{\\left(h + y\\right)^{2} + \\left(w + x\\right)^{2}} \\right )}\\right)\\right)}{2 \\pi \\sqrt{M_{s}^{2} \\left(\\left(\\log{\\left (\\frac{\\left(h - y\\right)^{2} + \\left(w - x\\right)^{2}}{\\left(h + y\\right)^{2} + \\left(w - x\\right)^{2}} \\right )} - \\log{\\left (\\frac{\\left(h - y\\right)^{2} + \\left(w + x\\right)^{2}}{\\left(h + y\\right)^{2} + \\left(w + x\\right)^{2}} \\right )}\\right)^{2} + 4 \\left(\\operatorname{atan}{\\left (\\frac{2 h \\left(w - x\\right)}{- h^{2} + y^{2} + \\left(w - x\\right)^{2}} \\right )} + \\operatorname{atan}{\\left (\\frac{2 h \\left(w + x\\right)}{- h^{2} + y^{2} + \\left(w + x\\right)^{2}} \\right )}\\right)^{2}\\right)} \\left(4 h^{2} \\left(w - x\\right)^{2} + \\left(- h^{2} + y^{2} + \\left(w - x\\right)^{2}\\right)^{2}\\right) \\left(4 h^{2} \\left(w + x\\right)^{2} + \\left(- h^{2} + y^{2} + \\left(w + x\\right)^{2}\\right)^{2}\\right) \\left(\\left(- h + y\\right)^{2} + \\left(- w + x\\right)^{2}\\right) \\left(\\left(- h + y\\right)^{2} + \\left(w + x\\right)^{2}\\right) \\left(\\left(h + y\\right)^{2} + \\left(- w + x\\right)^{2}\\right) \\left(\\left(h + y\\right)^{2} + \\left(w + x\\right)^{2}\\right)}$$"
      ],
      "text/plain": [
       "    ⎛      ⎛⎛                                      2⎞                         \n",
       "  2 ⎜      ⎜⎜   2        2   ⎛   2    2          2⎞ ⎟ ⎛   2    2          2⎞  \n",
       "Mₛ ⋅⎜- 4⋅h⋅⎝⎝4⋅h ⋅(w - x)  + ⎝- h  + y  + (w - x) ⎠ ⎠⋅⎝- h  + y  - (w + x) ⎠ +\n",
       "    ⎜                                                                         \n",
       "    ⎝                                                                         \n",
       "──────────────────────────────────────────────────────────────────────────────\n",
       "                                                                              \n",
       "                                                                              \n",
       "                                                                              \n",
       "                                                                              \n",
       "                                                                              \n",
       "                                                                              \n",
       "                                                                              \n",
       "\n",
       " ⎛                                      2⎞                     ⎞              \n",
       " ⎜   2        2   ⎛   2    2          2⎞ ⎟ ⎛ 2    2          2⎞⎟ ⎛        2   \n",
       " ⎝4⋅h ⋅(w + x)  + ⎝- h  + y  + (w + x) ⎠ ⎠⋅⎝h  - y  + (w - x) ⎠⎠⋅⎝(-h + y)  + \n",
       "                                                                              \n",
       "                                                                              \n",
       "──────────────────────────────────────────────────────────────────────────────\n",
       "                                                                              \n",
       "                                                                              \n",
       "                                                                              \n",
       "                                                                              \n",
       "                                                                              \n",
       "                                                                              \n",
       "                                                                              \n",
       "\n",
       "                                                                              \n",
       "        2⎞ ⎛        2          2⎞ ⎛       2           2⎞ ⎛       2          2⎞\n",
       "(-w + x) ⎠⋅⎝(-h + y)  + (w + x) ⎠⋅⎝(h + y)  + (-w + x) ⎠⋅⎝(h + y)  + (w + x) ⎠\n",
       "                                                                              \n",
       "                                                                              \n",
       "──────────────────────────────────────────────────────────────────────────────\n",
       "                 _____________________________________________________________\n",
       "                ╱     ⎛                                                     2 \n",
       "               ╱      ⎜⎛   ⎛       2          2⎞      ⎛       2          2⎞⎞  \n",
       "              ╱     2 ⎜⎜   ⎜(h - y)  + (w - x) ⎟      ⎜(h - y)  + (w + x) ⎟⎟  \n",
       "      2⋅π⋅   ╱    Mₛ ⋅⎜⎜log⎜───────────────────⎟ - log⎜───────────────────⎟⎟  \n",
       "            ╱         ⎜⎜   ⎜       2          2⎟      ⎜       2          2⎟⎟  \n",
       "          ╲╱          ⎝⎝   ⎝(h + y)  + (w - x) ⎠      ⎝(h + y)  + (w + x) ⎠⎠  \n",
       "\n",
       "                                                              ⎛               \n",
       " ⎛    ⎛     2⋅h⋅(-w + x)    ⎞       ⎛    2⋅h⋅(w + x)     ⎞⎞   ⎜   2        2  \n",
       "⋅⎜atan⎜─────────────────────⎟ - atan⎜────────────────────⎟⎟ + ⎝4⋅h ⋅(w - x)  +\n",
       " ⎜    ⎜   2    2           2⎟       ⎜   2    2          2⎟⎟                   \n",
       " ⎝    ⎝- h  + y  + (-w + x) ⎠       ⎝- h  + y  + (w + x) ⎠⎠                   \n",
       "──────────────────────────────────────────────────────────────────────────────\n",
       "________________________________________________________________              \n",
       "                                                              ⎞               \n",
       "                                                             2⎟  ⎛            \n",
       "    ⎛    ⎛    2⋅h⋅(w - x)     ⎞       ⎛    2⋅h⋅(w + x)     ⎞⎞ ⎟  ⎜   2        \n",
       "+ 4⋅⎜atan⎜────────────────────⎟ + atan⎜────────────────────⎟⎟ ⎟ ⋅⎝4⋅h ⋅(w - x)\n",
       "    ⎜    ⎜   2    2          2⎟       ⎜   2    2          2⎟⎟ ⎟               \n",
       "    ⎝    ⎝- h  + y  + (w - x) ⎠       ⎝- h  + y  + (w + x) ⎠⎠ ⎠               \n",
       "\n",
       "                       2⎞ ⎛                                      2⎞           \n",
       " ⎛   2    2          2⎞ ⎟ ⎜   2        2   ⎛   2    2          2⎞ ⎟ ⎛         \n",
       " ⎝- h  + y  + (w - x) ⎠ ⎠⋅⎝4⋅h ⋅(w + x)  + ⎝- h  + y  + (w + x) ⎠ ⎠⋅⎝- (w + x)\n",
       "                                                                              \n",
       "                                                                              \n",
       "──────────────────────────────────────────────────────────────────────────────\n",
       "                                                                              \n",
       "                                                                              \n",
       "                          2⎞ ⎛                                      2⎞        \n",
       "2   ⎛   2    2          2⎞ ⎟ ⎜   2        2   ⎛   2    2          2⎞ ⎟ ⎛      \n",
       "  + ⎝- h  + y  + (w - x) ⎠ ⎠⋅⎝4⋅h ⋅(w + x)  + ⎝- h  + y  + (w + x) ⎠ ⎠⋅⎝(-h + \n",
       "                                                                              \n",
       "                                                                              \n",
       "\n",
       "                                                                              \n",
       " ⎛          2          2⎞ ⎛        2           2⎞ ⎛       2           2⎞   ⎛  \n",
       "⋅⎝- (-h + y)  + (h + y) ⎠⋅⎝(-h + y)  + (-w + x) ⎠⋅⎝(h + y)  + (-w + x) ⎠ + ⎝(-\n",
       "                                                                              \n",
       "                                                                              \n",
       "──────────────────────────────────────────────────────────────────────────────\n",
       "                                                                              \n",
       "                                                                              \n",
       "                                                                              \n",
       "  2           2⎞ ⎛        2          2⎞ ⎛       2           2⎞ ⎛       2      \n",
       "y)  + (-w + x) ⎠⋅⎝(-h + y)  + (w + x) ⎠⋅⎝(h + y)  + (-w + x) ⎠⋅⎝(h + y)  + (w \n",
       "                                                                              \n",
       "                                                                              \n",
       "\n",
       "                                                                              \n",
       "       ⎛       2           2⎞           ⎛        2           2⎞⎞ ⎛        2   \n",
       "w + x)⋅⎝(h + y)  + (-w + x) ⎠ + (w - x)⋅⎝(-h + y)  + (-w + x) ⎠⎠⋅⎝(-h + y)  + \n",
       "                                                                              \n",
       "                                                                              \n",
       "──────────────────────────────────────────────────────────────────────────────\n",
       "                                                                              \n",
       "                                                                              \n",
       "                                                                              \n",
       "    2⎞                                                                        \n",
       "+ x) ⎠                                                                        \n",
       "                                                                              \n",
       "                                                                              \n",
       "\n",
       "                                 ⎛   ⎛        2           2⎞      ⎛        2  \n",
       "       2⎞ ⎛       2          2⎞⎞ ⎜   ⎜(-h + y)  + (-w + x) ⎟      ⎜(-h + y)  +\n",
       "(w + x) ⎠⋅⎝(h + y)  + (w + x) ⎠⎠⋅⎜log⎜─────────────────────⎟ - log⎜───────────\n",
       "                                 ⎜   ⎜        2           2⎟      ⎜       2   \n",
       "                                 ⎝   ⎝ (h + y)  + (-w + x) ⎠      ⎝(h + y)  + \n",
       "──────────────────────────────────────────────────────────────────────────────\n",
       "                                                                              \n",
       "                                                                              \n",
       "                                                                              \n",
       "                                                                              \n",
       "                                                                              \n",
       "                                                                              \n",
       "                                                                              \n",
       "\n",
       "        2⎞⎞⎞\n",
       " (w + x) ⎟⎟⎟\n",
       "─────────⎟⎟⎟\n",
       "       2 ⎟⎟⎟\n",
       "(w + x)  ⎠⎠⎠\n",
       "────────────\n",
       "            \n",
       "            \n",
       "            \n",
       "            \n",
       "            \n",
       "            \n",
       "            "
      ]
     },
     "execution_count": 14,
     "metadata": {},
     "output_type": "execute_result"
    }
   ],
   "source": [
    "sp.simplify(diffx)"
   ]
  },
  {
   "cell_type": "code",
   "execution_count": 15,
   "metadata": {},
   "outputs": [
    {
     "name": "stdout",
     "output_type": "stream",
     "text": [
      "M_s**2*(-4*h*((4*h**2*(w - x)**2 + (-h**2 + y**2 + (w - x)**2)**2)*(-h**2 + y**2 - (w + x)**2) + (4*h**2*(w + x)**2 + (-h**2 + y**2 + (w + x)**2)**2)*(h**2 - y**2 + (w - x)**2))*((-h + y)**2 + (-w + x)**2)*((-h + y)**2 + (w + x)**2)*((h + y)**2 + (-w + x)**2)*((h + y)**2 + (w + x)**2)*(atan(2*h*(-w + x)/(-h**2 + y**2 + (-w + x)**2)) - atan(2*h*(w + x)/(-h**2 + y**2 + (w + x)**2))) + (4*h**2*(w - x)**2 + (-h**2 + y**2 + (w - x)**2)**2)*(4*h**2*(w + x)**2 + (-h**2 + y**2 + (w + x)**2)**2)*(-(w + x)*(-(-h + y)**2 + (h + y)**2)*((-h + y)**2 + (-w + x)**2)*((h + y)**2 + (-w + x)**2) + ((-w + x)*((h + y)**2 + (-w + x)**2) + (w - x)*((-h + y)**2 + (-w + x)**2))*((-h + y)**2 + (w + x)**2)*((h + y)**2 + (w + x)**2))*(log(((-h + y)**2 + (-w + x)**2)/((h + y)**2 + (-w + x)**2)) - log(((-h + y)**2 + (w + x)**2)/((h + y)**2 + (w + x)**2))))/(2*pi*sqrt(M_s**2*((log(((h - y)**2 + (w - x)**2)/((h + y)**2 + (w - x)**2)) - log(((h - y)**2 + (w + x)**2)/((h + y)**2 + (w + x)**2)))**2 + 4*(atan(2*h*(w - x)/(-h**2 + y**2 + (w - x)**2)) + atan(2*h*(w + x)/(-h**2 + y**2 + (w + x)**2)))**2))*(4*h**2*(w - x)**2 + (-h**2 + y**2 + (w - x)**2)**2)*(4*h**2*(w + x)**2 + (-h**2 + y**2 + (w + x)**2)**2)*((-h + y)**2 + (-w + x)**2)*((-h + y)**2 + (w + x)**2)*((h + y)**2 + (-w + x)**2)*((h + y)**2 + (w + x)**2))\n"
     ]
    }
   ],
   "source": [
    "print(sp.simplify(diffx))"
   ]
  }
 ],
 "metadata": {
  "kernelspec": {
   "display_name": "Python 3",
   "language": "python",
   "name": "python3"
  },
  "language_info": {
   "codemirror_mode": {
    "name": "ipython",
    "version": 3
   },
   "file_extension": ".py",
   "mimetype": "text/x-python",
   "name": "python",
   "nbconvert_exporter": "python",
   "pygments_lexer": "ipython3",
   "version": "3.7.0"
  }
 },
 "nbformat": 4,
 "nbformat_minor": 2
}
