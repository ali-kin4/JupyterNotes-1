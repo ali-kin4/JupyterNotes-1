{
 "cells": [
  {
   "cell_type": "code",
   "execution_count": 1,
   "metadata": {},
   "outputs": [],
   "source": [
    "from mpl_toolkits.mplot3d import Axes3D\n",
    "from matplotlib import pyplot as pp\n",
    "import numpy as np\n",
    "import csv\n",
    "import os\n",
    "\n",
    "import time\n",
    "import sys\n",
    "\n",
    "from matplotlib import cm\n",
    "from numpy import arctan, log, pi, sqrt\n",
    "\n",
    "\n",
    "%matplotlib notebook\n",
    "\n",
    "os.chdir(\"D:\")"
   ]
  },
  {
   "cell_type": "markdown",
   "metadata": {},
   "source": [
    "# Mesh Generation:"
   ]
  },
  {
   "cell_type": "code",
   "execution_count": 2,
   "metadata": {},
   "outputs": [],
   "source": [
    "nx  = 50\n",
    "ny  = 50\n",
    "nt  = 300\n",
    "\n",
    "xmin = -5\n",
    "xmax = 5\n",
    "ymin = 0\n",
    "ymax = 10\n",
    "\n",
    "dx = (xmax - xmin) / (nx - 1)\n",
    "dy = (ymax - ymin) / (ny - 1)\n",
    "dt = 0.001\n",
    "\n",
    "x  = np.linspace(xmin, xmax, nx)\n",
    "y  = np.linspace(ymin, ymax, ny)\n",
    "\n",
    "X, Y = np.meshgrid(x, y)\n",
    "\n",
    "L = ymax\n",
    "\n",
    "aa = int(nx/2) #this is x range because it is half in negetive and half in positive part"
   ]
  },
  {
   "cell_type": "markdown",
   "metadata": {},
   "source": [
    "# Creating fields for equation parameters:"
   ]
  },
  {
   "cell_type": "code",
   "execution_count": 3,
   "metadata": {},
   "outputs": [],
   "source": [
    "u  = np.zeros((ny, nx))\n",
    "un = np.zeros((ny, nx))\n",
    "\n",
    "v  = np.zeros((ny, nx))\n",
    "# vn = np.zeros((ny, nx))\n",
    "\n",
    "T  = np.zeros((ny, nx))\n",
    "Tn = np.zeros((ny, nx))\n",
    "\n",
    "C  = np.zeros((ny, nx))\n",
    "Cn = np.zeros((ny, nx))\n",
    "\n",
    "H  = np.zeros((ny, nx))\n",
    "Hx = np.zeros((ny, nx))\n",
    "Hy = np.zeros((ny, nx))"
   ]
  },
  {
   "cell_type": "markdown",
   "metadata": {},
   "source": [
    "# Fluid Specs:"
   ]
  },
  {
   "cell_type": "code",
   "execution_count": 4,
   "metadata": {},
   "outputs": [],
   "source": [
    "nu  = 0.801-6\n",
    "mu  = 0.001\n",
    "Cp  = 4178\n",
    "Cv  = 4.15\n",
    "tau = Cp/Cv\n",
    "rho = 997.5\n",
    "kf  = 0.6129 #heat transfer coeff. fluid\n",
    "kp  = 80.4   #heat transfer coeff. particle"
   ]
  },
  {
   "cell_type": "markdown",
   "metadata": {},
   "source": [
    "# Flow Specs:"
   ]
  },
  {
   "cell_type": "code",
   "execution_count": 5,
   "metadata": {},
   "outputs": [],
   "source": [
    "a      = 0.1\n",
    "beta   = 0.001 #unsteadiness paramepter\n",
    "mu0    = 4e-7*pi\n",
    "M      = 8.6e5\n",
    "h      = 12.5e-6   #height of magnet\n",
    "w      = 25e-6     #width of magnet\n",
    "eps    = 0.1\n",
    "Q0     = 30 #heat generation\n",
    "H0     = 253843.822358745\n",
    "alpha = 0.143e-6  #thermal diffusivity"
   ]
  },
  {
   "cell_type": "code",
   "execution_count": 6,
   "metadata": {},
   "outputs": [],
   "source": [
    "V0    = -5\n",
    "ts    = nt*dt #Final time\n",
    "Cf    = 0.02 #0.2/100\n",
    "Cinf  = 0.04 #0.4/100\n",
    "delC  = Cf - Cinf\n",
    "Tinf  = 333.15 #333\n",
    "Tf    = 303.15 #293 #initial Temp\n",
    "delT  = Tf - Tinf\n",
    "Pr    = nu/alpha\n",
    "Re    = abs(V0*L/nu)\n",
    "# Nu = 0.05928 * ((0.44 + Cf)**0.536) * Re**0.7 * Pr**0.4\n",
    "Nu    = 0.2497091666\n",
    "Sh    = 0.922369"
   ]
  },
  {
   "cell_type": "code",
   "execution_count": 7,
   "metadata": {},
   "outputs": [],
   "source": [
    "kB = 1.385e-23\n",
    "dp = 1e-8 #particle diameter\n",
    "TF = (Tinf + Tf)/2 #Film temperature\n",
    "DB = (kB*TF)/(3 * pi * mu * dp) #Brownian motion coeff.\n",
    "DT = (mu/rho) * (0.26 * kf/(kf + kp)) #Thmoforesis coeff"
   ]
  },
  {
   "cell_type": "code",
   "execution_count": 8,
   "metadata": {},
   "outputs": [],
   "source": [
    "u.fill(a*L/V0) \n",
    "v.fill(V0)\n",
    "T.fill(Tf)\n",
    "C.fill(Cf)"
   ]
  },
  {
   "cell_type": "markdown",
   "metadata": {},
   "source": [
    "# Calculating magnitization intensity (H):"
   ]
  },
  {
   "cell_type": "code",
   "execution_count": 9,
   "metadata": {},
   "outputs": [],
   "source": [
    "def Hcalc(i, j):\n",
    "    H = (sqrt(M**2*(-log(((-h + j)**2 +\n",
    "                          (-w + i)**2)/((h + j)**2 +\n",
    "                          (-w + i)**2)) +\n",
    "                          log(((-h + j)**2 + (w + i)**2)/((h + j)**2 +\n",
    "                          (w + i)**2)))**2/(16*pi**2) +\n",
    "                          M**2*(-arctan(2*h*(-w + i)/(-h**2 + j**2 +\n",
    "                          (-w + i)**2)) + arctan(2*h*(w + i)/(-h**2 + j**2 + (w + i)**2)))**2/(4*pi**2)))\n",
    "    H = H/H0\n",
    "    return H"
   ]
  },
  {
   "cell_type": "markdown",
   "metadata": {},
   "source": [
    "# Derivative of H: $\\frac{\\partial H}{\\partial x}$ or $\\frac{\\partial H}{\\partial y}$"
   ]
  },
  {
   "cell_type": "code",
   "execution_count": 10,
   "metadata": {},
   "outputs": [],
   "source": [
    "def Hdiff(i, j, d, var):\n",
    "    if (var == \"x\"):\n",
    "        dH = (Hcalc(i+1, j) - Hcalc(i, j))/d\n",
    "    elif (var == \"y\"):\n",
    "        dH = (Hcalc(i, j+1) - Hcalc(i, j))/d\n",
    "    return dH"
   ]
  },
  {
   "cell_type": "code",
   "execution_count": 11,
   "metadata": {},
   "outputs": [],
   "source": [
    "for i in range(-aa, aa+1):\n",
    "    for  j in range(ny):\n",
    "        H[j, i] = Hcalc(i, j)\n",
    "        Hx[j, i] = Hdiff(i, j, dx, \"x\")\n",
    "        Hy[j, i] = Hdiff(i, j, dy, \"y\")"
   ]
  },
  {
   "cell_type": "markdown",
   "metadata": {},
   "source": [
    "# 1st Derivative: $\\frac{\\partial F}{\\partial x}$ or $\\frac{\\partial F}{\\partial y}$"
   ]
  },
  {
   "cell_type": "code",
   "execution_count": 12,
   "metadata": {},
   "outputs": [],
   "source": [
    "def diff1(i, j, F, d, var):\n",
    "    if (var == \"x\"):\n",
    "        dF = (F[j, i+1] - F[j, i-1])/(2*d)\n",
    "    elif (var == \"y\"):\n",
    "        dF = (F[j+1, i] - F[j-1, i])/(2*d)\n",
    "    return dF"
   ]
  },
  {
   "cell_type": "markdown",
   "metadata": {},
   "source": [
    "# 2nd Derivative: $\\frac{\\partial^2 F}{\\partial x^2}$ or $\\frac{\\partial^2 F}{\\partial y^2}$"
   ]
  },
  {
   "cell_type": "code",
   "execution_count": 13,
   "metadata": {},
   "outputs": [],
   "source": [
    "def diff2(i, j, F, d, var): #derivative 2\n",
    "    if (var == \"x\"):\n",
    "        d2F = (F[j, i+1] - 2*F[j, i] + F[j, i-1])/(2*d)\n",
    "    elif (var == \"y\"):\n",
    "        d2F = (F[j+1, i] - 2*F[j, i] + F[j-1, i])/(2*d)\n",
    "    return d2F"
   ]
  },
  {
   "cell_type": "markdown",
   "metadata": {},
   "source": [
    "# 1st Diff:"
   ]
  },
  {
   "cell_type": "code",
   "execution_count": 14,
   "metadata": {},
   "outputs": [],
   "source": [
    "def d1ux():\n",
    "    d = (un[1:-1, 2:] - un[1:-1, 0:-2])/(2*dx)\n",
    "    return d\n",
    "\n",
    "def d1uy():\n",
    "    d = (un[2:, 1:-1] - un[0:-2, 1:-1])/(2*dy)\n",
    "    return d\n",
    "\n",
    "def d1Tx():\n",
    "    d = (Tn[1:-1, 2:] - Tn[1:-1, 0:-2])/(2*dx)\n",
    "    return d\n",
    "\n",
    "def d1Ty():\n",
    "    d = (Tn[2:, 1:-1] - Tn[0:-2, 1:-1])/(2*dy)\n",
    "    return d\n",
    "\n",
    "def d1Cx():\n",
    "    d = (Cn[1:-1, 2:] - Cn[1:-1, 0:-2])/(2*dx)\n",
    "    return d\n",
    "\n",
    "def d1Cy():\n",
    "    d = (Cn[2:, 1:-1] - Cn[0:-2, 1:-1])/(2*dy)\n",
    "    return d"
   ]
  },
  {
   "cell_type": "markdown",
   "metadata": {},
   "source": [
    "# 2nd Diff:"
   ]
  },
  {
   "cell_type": "code",
   "execution_count": 15,
   "metadata": {},
   "outputs": [],
   "source": [
    "def d2ux():\n",
    "    d = (un[1:-1, 2:] - 2*un[1:-1, 1:-1] + un[1:-1, 0:-2])/(2*dx)\n",
    "    return d\n",
    "\n",
    "def d2uy():\n",
    "    d = (un[2:, 1:-1] - 2*un[1:-1, 1:-1] + un[0:-2, 1:-1])/(2*dy)\n",
    "    return d\n",
    "\n",
    "def d2Tx():\n",
    "    d = (Tn[1:-1, 2:] - 2*Tn[1:-1, 1:-1] + Tn[1:-1, 0:-2])/(2*dx)\n",
    "    return d\n",
    "\n",
    "def d2Ty():\n",
    "    d = (Tn[2:, 1:-1] - 2*Tn[1:-1, 1:-1] + Tn[0:-2, 1:-1])/(2*dy)\n",
    "    return d\n",
    "\n",
    "def d2Cx():\n",
    "    d = (Cn[1:-1, 2:] - 2*Cn[1:-1, 1:-1] + Cn[1:-1, 0:-2])/(2*dx)\n",
    "    return d\n",
    "\n",
    "def d2Cy():\n",
    "    d = (Cn[2:, 1:-1] - 2*Cn[1:-1, 1:-1] + Cn[0:-2, 1:-1])/(2*dy)\n",
    "    return d"
   ]
  },
  {
   "cell_type": "markdown",
   "metadata": {},
   "source": [
    "# Calculate U field:"
   ]
  },
  {
   "cell_type": "code",
   "execution_count": 16,
   "metadata": {},
   "outputs": [],
   "source": [
    "def uCalc():\n",
    "    un = u.copy()\n",
    "    \n",
    "    #Boundary Condition:\n",
    "    v[-1, :] = 0 #y = oo\n",
    "    \n",
    "    for t in range(nt):\n",
    "        v[0, :] = -1/(V0 * (1 - beta*ts*t)) #y = 0\n",
    "    \n",
    "    for t in range(nt):\n",
    "        for i in range(-aa, aa+1):\n",
    "            u[0, i]  = (a*L*i)/(V0 * (1 - beta*ts*t)) #y = 0\n",
    "            u[-1, i] = (a*L*i)/(V0 * (1 - beta*ts*t)) #y = oo\n",
    "    \n",
    "    for t in range(nt):\n",
    "        for i in range(-aa+1, aa-1):\n",
    "            for j in range(1, ny-1):\n",
    "                u[j, i] = (((ts*dt)/V0) * ((a*L*i*(a+beta))/(1-beta*ts*t) + \n",
    "                               ((nu*V0)/(L**2)) * diff2(i, j, un, dy, \"y\") + \n",
    "                               ((1/rho)*mu0*M*H0/L) * Hdiff(i, j, dx, \"x\") -\n",
    "                               (((V0**2)/L) * un[j, i] * diff1(i, j, un, dx, \"x\") +\n",
    "                               (((V0**2)/L) * v[j, i] * diff1(i, j, un, dy, \"y\"))) +\n",
    "                               un[j, i]))\n",
    "    return (u, v, un)"
   ]
  },
  {
   "cell_type": "markdown",
   "metadata": {},
   "source": [
    "# Calculate T field:"
   ]
  },
  {
   "cell_type": "code",
   "execution_count": 17,
   "metadata": {},
   "outputs": [],
   "source": [
    "def TCalc():\n",
    "    Tn = T.copy()\n",
    "    T[1:-1, 1:-1] = (((ts*dt)/delT) * (tau *\n",
    "                             ((DB/(L**2)) * delC * (delT) * d1Cy() * d1Ty()) + \n",
    "                             (DT/(Tinf * (L**2))) * (delT**2) * (d1Ty()**2)) + \n",
    "                             (Q0/(rho*Cp)) * delT * (Tn[1:-1, 1:-1] + 1) +\n",
    "                             ((alpha * delT)/L) * d2Ty() - \n",
    "                             ((V0/L) * un[1:-1, 1:-1] * delT * d1Tx() + \n",
    "                             (V0/L) * v[i, j] * delT * d1Ty())\n",
    "                              + Tn[1:-1, 1:-1])\n",
    "    #Boundary Condition:\n",
    "    T[0, :]  = T[1, :]/((Nu * dy) + 1) #y = 0\n",
    "    T[-1, :] = -1                      #y = oo\n",
    "    return (T, Tn)"
   ]
  },
  {
   "cell_type": "markdown",
   "metadata": {},
   "source": [
    "# Calculate C field"
   ]
  },
  {
   "cell_type": "code",
   "execution_count": 18,
   "metadata": {},
   "outputs": [],
   "source": [
    "def CCalc():\n",
    "    Cn = C.copy()\n",
    "    C[1:-1, 1:-1] = (((ts*dt)/delC) * ((DB/(L**2)) * delC * d2Cy() +\n",
    "                        (DT/((L**2)*Tinf)) * delT * d1Ty() - \n",
    "                        ((V0/L) * un[1:-1, 1:-1] * delC * d1Cx() + \n",
    "                        (V0/L) * v[1:-1, 1:-1] * delC * d1Cy())) +\n",
    "                         Cn[1:-1, 1:-1])\n",
    "    #Boundary Condition:\n",
    "    C[0, :]  = C[1, :]/((Nu * dy) + 1) #y = 0\n",
    "    C[-1, :] = -1                      #y = oo\n",
    "    return (C, Cn)"
   ]
  },
  {
   "cell_type": "markdown",
   "metadata": {},
   "source": [
    "# FHD Solver:"
   ]
  },
  {
   "cell_type": "code",
   "execution_count": 19,
   "metadata": {
    "scrolled": true
   },
   "outputs": [
    {
     "ename": "KeyboardInterrupt",
     "evalue": "",
     "output_type": "error",
     "traceback": [
      "\u001b[1;31m---------------------------------------------------------------------------\u001b[0m",
      "\u001b[1;31mKeyboardInterrupt\u001b[0m                         Traceback (most recent call last)",
      "\u001b[1;32m<ipython-input-19-c42522ee18f4>\u001b[0m in \u001b[0;36m<module>\u001b[1;34m\u001b[0m\n\u001b[0;32m     16\u001b[0m \u001b[1;33m\u001b[0m\u001b[0m\n\u001b[0;32m     17\u001b[0m \u001b[1;32mwhile\u001b[0m \u001b[1;33m(\u001b[0m\u001b[0mabs\u001b[0m\u001b[1;33m(\u001b[0m\u001b[0mudiff\u001b[0m\u001b[1;33m)\u001b[0m \u001b[1;33m>\u001b[0m \u001b[0maccu\u001b[0m\u001b[1;33m)\u001b[0m \u001b[1;32mor\u001b[0m \u001b[1;33m(\u001b[0m\u001b[0mabs\u001b[0m\u001b[1;33m(\u001b[0m\u001b[0mTdiff\u001b[0m\u001b[1;33m)\u001b[0m \u001b[1;33m>\u001b[0m \u001b[0maccu\u001b[0m\u001b[1;33m)\u001b[0m \u001b[1;32mor\u001b[0m \u001b[1;33m(\u001b[0m\u001b[0mabs\u001b[0m\u001b[1;33m(\u001b[0m\u001b[0mCdiff\u001b[0m\u001b[1;33m)\u001b[0m \u001b[1;33m>\u001b[0m \u001b[0maccu\u001b[0m\u001b[1;33m)\u001b[0m\u001b[1;33m:\u001b[0m\u001b[1;33m\u001b[0m\u001b[1;33m\u001b[0m\u001b[0m\n\u001b[1;32m---> 18\u001b[1;33m     \u001b[1;33m(\u001b[0m\u001b[0mu\u001b[0m\u001b[1;33m,\u001b[0m \u001b[0mv\u001b[0m\u001b[1;33m,\u001b[0m \u001b[0mun\u001b[0m\u001b[1;33m)\u001b[0m \u001b[1;33m=\u001b[0m \u001b[0muCalc\u001b[0m\u001b[1;33m(\u001b[0m\u001b[1;33m)\u001b[0m\u001b[1;33m\u001b[0m\u001b[1;33m\u001b[0m\u001b[0m\n\u001b[0m\u001b[0;32m     19\u001b[0m     \u001b[1;33m(\u001b[0m\u001b[0mT\u001b[0m\u001b[1;33m,\u001b[0m \u001b[0mTn\u001b[0m\u001b[1;33m)\u001b[0m \u001b[1;33m=\u001b[0m \u001b[0mTCalc\u001b[0m\u001b[1;33m(\u001b[0m\u001b[1;33m)\u001b[0m\u001b[1;33m\u001b[0m\u001b[1;33m\u001b[0m\u001b[0m\n\u001b[0;32m     20\u001b[0m     \u001b[1;33m(\u001b[0m\u001b[0mC\u001b[0m\u001b[1;33m,\u001b[0m \u001b[0mCn\u001b[0m\u001b[1;33m)\u001b[0m \u001b[1;33m=\u001b[0m \u001b[0mCCalc\u001b[0m\u001b[1;33m(\u001b[0m\u001b[1;33m)\u001b[0m\u001b[1;33m\u001b[0m\u001b[1;33m\u001b[0m\u001b[0m\n",
      "\u001b[1;32m<ipython-input-16-e24ea1c25140>\u001b[0m in \u001b[0;36muCalc\u001b[1;34m()\u001b[0m\n\u001b[0;32m     20\u001b[0m                                \u001b[1;33m(\u001b[0m\u001b[1;33m(\u001b[0m\u001b[1;36m1\u001b[0m\u001b[1;33m/\u001b[0m\u001b[0mrho\u001b[0m\u001b[1;33m)\u001b[0m\u001b[1;33m*\u001b[0m\u001b[0mmu0\u001b[0m\u001b[1;33m*\u001b[0m\u001b[0mM\u001b[0m\u001b[1;33m*\u001b[0m\u001b[0mH0\u001b[0m\u001b[1;33m/\u001b[0m\u001b[0mL\u001b[0m\u001b[1;33m)\u001b[0m \u001b[1;33m*\u001b[0m \u001b[0mHdiff\u001b[0m\u001b[1;33m(\u001b[0m\u001b[0mi\u001b[0m\u001b[1;33m,\u001b[0m \u001b[0mj\u001b[0m\u001b[1;33m,\u001b[0m \u001b[0mdx\u001b[0m\u001b[1;33m,\u001b[0m \u001b[1;34m\"x\"\u001b[0m\u001b[1;33m)\u001b[0m \u001b[1;33m-\u001b[0m\u001b[1;33m\u001b[0m\u001b[1;33m\u001b[0m\u001b[0m\n\u001b[0;32m     21\u001b[0m                                (((V0**2)/L) * un[j, i] * diff1(i, j, un, dx, \"x\") +\n\u001b[1;32m---> 22\u001b[1;33m                                (((V0**2)/L) * v[j, i] * diff1(i, j, un, dy, \"y\"))) +\n\u001b[0m\u001b[0;32m     23\u001b[0m                                un[j, i]))\n\u001b[0;32m     24\u001b[0m     \u001b[1;32mreturn\u001b[0m \u001b[1;33m(\u001b[0m\u001b[0mu\u001b[0m\u001b[1;33m,\u001b[0m \u001b[0mv\u001b[0m\u001b[1;33m,\u001b[0m \u001b[0mun\u001b[0m\u001b[1;33m)\u001b[0m\u001b[1;33m\u001b[0m\u001b[1;33m\u001b[0m\u001b[0m\n",
      "\u001b[1;32m<ipython-input-10-a38a4bfef049>\u001b[0m in \u001b[0;36mHdiff\u001b[1;34m(i, j, d, var)\u001b[0m\n\u001b[0;32m      1\u001b[0m \u001b[1;32mdef\u001b[0m \u001b[0mHdiff\u001b[0m\u001b[1;33m(\u001b[0m\u001b[0mi\u001b[0m\u001b[1;33m,\u001b[0m \u001b[0mj\u001b[0m\u001b[1;33m,\u001b[0m \u001b[0md\u001b[0m\u001b[1;33m,\u001b[0m \u001b[0mvar\u001b[0m\u001b[1;33m)\u001b[0m\u001b[1;33m:\u001b[0m\u001b[1;33m\u001b[0m\u001b[1;33m\u001b[0m\u001b[0m\n\u001b[0;32m      2\u001b[0m     \u001b[1;32mif\u001b[0m \u001b[1;33m(\u001b[0m\u001b[0mvar\u001b[0m \u001b[1;33m==\u001b[0m \u001b[1;34m\"x\"\u001b[0m\u001b[1;33m)\u001b[0m\u001b[1;33m:\u001b[0m\u001b[1;33m\u001b[0m\u001b[1;33m\u001b[0m\u001b[0m\n\u001b[1;32m----> 3\u001b[1;33m         \u001b[0mdH\u001b[0m \u001b[1;33m=\u001b[0m \u001b[1;33m(\u001b[0m\u001b[0mHcalc\u001b[0m\u001b[1;33m(\u001b[0m\u001b[0mi\u001b[0m\u001b[1;33m+\u001b[0m\u001b[1;36m1\u001b[0m\u001b[1;33m,\u001b[0m \u001b[0mj\u001b[0m\u001b[1;33m)\u001b[0m \u001b[1;33m-\u001b[0m \u001b[0mHcalc\u001b[0m\u001b[1;33m(\u001b[0m\u001b[0mi\u001b[0m\u001b[1;33m,\u001b[0m \u001b[0mj\u001b[0m\u001b[1;33m)\u001b[0m\u001b[1;33m)\u001b[0m\u001b[1;33m/\u001b[0m\u001b[0md\u001b[0m\u001b[1;33m\u001b[0m\u001b[1;33m\u001b[0m\u001b[0m\n\u001b[0m\u001b[0;32m      4\u001b[0m     \u001b[1;32melif\u001b[0m \u001b[1;33m(\u001b[0m\u001b[0mvar\u001b[0m \u001b[1;33m==\u001b[0m \u001b[1;34m\"y\"\u001b[0m\u001b[1;33m)\u001b[0m\u001b[1;33m:\u001b[0m\u001b[1;33m\u001b[0m\u001b[1;33m\u001b[0m\u001b[0m\n\u001b[0;32m      5\u001b[0m         \u001b[0mdH\u001b[0m \u001b[1;33m=\u001b[0m \u001b[1;33m(\u001b[0m\u001b[0mHcalc\u001b[0m\u001b[1;33m(\u001b[0m\u001b[0mi\u001b[0m\u001b[1;33m,\u001b[0m \u001b[0mj\u001b[0m\u001b[1;33m+\u001b[0m\u001b[1;36m1\u001b[0m\u001b[1;33m)\u001b[0m \u001b[1;33m-\u001b[0m \u001b[0mHcalc\u001b[0m\u001b[1;33m(\u001b[0m\u001b[0mi\u001b[0m\u001b[1;33m,\u001b[0m \u001b[0mj\u001b[0m\u001b[1;33m)\u001b[0m\u001b[1;33m)\u001b[0m\u001b[1;33m/\u001b[0m\u001b[0md\u001b[0m\u001b[1;33m\u001b[0m\u001b[1;33m\u001b[0m\u001b[0m\n",
      "\u001b[1;32m<ipython-input-9-ecbb3b23a011>\u001b[0m in \u001b[0;36mHcalc\u001b[1;34m(i, j)\u001b[0m\n\u001b[0;32m      4\u001b[0m                           (-w + i)**2)) +\n\u001b[0;32m      5\u001b[0m                           log(((-h + j)**2 + (w + i)**2)/((h + j)**2 +\n\u001b[1;32m----> 6\u001b[1;33m                           (w + i)**2)))**2/(16*pi**2) +\n\u001b[0m\u001b[0;32m      7\u001b[0m                           M**2*(-arctan(2*h*(-w + i)/(-h**2 + j**2 +\n\u001b[0;32m      8\u001b[0m                           (-w + i)**2)) + arctan(2*h*(w + i)/(-h**2 + j**2 + (w + i)**2)))**2/(4*pi**2)))\n",
      "\u001b[1;31mKeyboardInterrupt\u001b[0m: "
     ]
    }
   ],
   "source": [
    "STEP = 100\n",
    "\n",
    "udiff     = 1\n",
    "Tdiff     = 1\n",
    "Cdiff     = 1\n",
    "accu      = 0.0001\n",
    "\n",
    "iteration = []\n",
    "\n",
    "udiffDat = []\n",
    "TdiffDat = []\n",
    "CdiffDat = []\n",
    "CORD     = []\n",
    "\n",
    "stepcount = 0\n",
    "\n",
    "while (abs(udiff) > accu) or (abs(Tdiff) > accu) or (abs(Cdiff) > accu):     \n",
    "    (u, v, un) = uCalc()\n",
    "    (T, Tn) = TCalc()\n",
    "    (C, Cn) = CCalc()\n",
    "\n",
    "    udiff = (np.sum(u) - np.sum(un))/np.sum(u)\n",
    "    Tdiff = (np.sum(T) - np.sum(Tn))/np.sum(T)\n",
    "    Cdiff = (np.sum(C) - np.sum(Cn))/np.sum(C)\n",
    "\n",
    "    udiffDat.append(abs(udiff))\n",
    "    TdiffDat.append(abs(Tdiff))\n",
    "    CdiffDat.append(abs(Cdiff))\n",
    "    COR = (u*dt)/dx\n",
    "    COR = COR.max()\n",
    "    CORD.append(COR)\n",
    "    \n",
    "    stepcount += 1\n",
    "    print(\"Iteration number: \" + str(stepcount) + \" | Courant Number: \" + str(COR) + \"\\n\")\n",
    "    print(\"X_Velocity: \" + str(udiff) \n",
    "          + \" | \" + \"Temperature: \" + str(Tdiff) \n",
    "          + \" | \" + \"Concentration: \" + str(Cdiff) + \"\\n\")\n",
    "    print(\"---------------------------------------------------------------------------\\n\")\n",
    "    iteration.append(stepcount)\n",
    "\n",
    "    if stepcount == STEP:\n",
    "        print(\"Calculation is finished!\")\n",
    "        break"
   ]
  },
  {
   "cell_type": "markdown",
   "metadata": {},
   "source": [
    "# Residuals:"
   ]
  },
  {
   "cell_type": "code",
   "execution_count": null,
   "metadata": {},
   "outputs": [],
   "source": [
    "%matplotlib notebook\n",
    "\n",
    "pp.figure()\n",
    "\n",
    "pp.autoscale(enable=True, axis='x', tight=True)\n",
    "\n",
    "pp.plot(iteration, udiffDat, label = \"X_Velocity\")\n",
    "pp.plot(iteration, TdiffDat, label = \"Temperature\")\n",
    "pp.plot(iteration, CdiffDat, label = \"Concentration\")\n",
    "# pp.plot(iteration, CORD, label = \"Courant Number\")\n",
    "\n",
    "# pp.grid(True)\n",
    "pp.legend();\n",
    "pp.xlabel(\"Iterations\")\n",
    "pp.ylabel(\"Residuals\")\n",
    "\n",
    "pp.grid(True)\n",
    "\n",
    "pp.tight_layout()\n",
    "fig = pp.gcf()\n",
    "fig.set_size_inches(6, 5)"
   ]
  },
  {
   "cell_type": "markdown",
   "metadata": {},
   "source": [
    "# Contours:"
   ]
  },
  {
   "cell_type": "code",
   "execution_count": null,
   "metadata": {
    "scrolled": true
   },
   "outputs": [],
   "source": [
    "pp.figure()\n",
    "z = 2\n",
    "pp.quiver(X[::z, ::z], Y[::z, ::z], u[::z, ::z], v[::z, ::z], color = \"blue\");\n",
    "pp.tight_layout()"
   ]
  },
  {
   "cell_type": "markdown",
   "metadata": {},
   "source": [
    "# Contour Plot Function :"
   ]
  },
  {
   "cell_type": "code",
   "execution_count": null,
   "metadata": {},
   "outputs": [],
   "source": [
    "def CPlot(F, title):\n",
    "    fig = pp.figure()\n",
    "    contour_res = 100\n",
    "    #\n",
    "    pp.contourf(X, Y, F, contour_res, cmap = \"seismic\")  \n",
    "    pp.colorbar()\n",
    "    #\n",
    "    # pp.quiver(X[::z, ::z], Y[::z, ::z], u[::z, ::z], v[::z, ::z]) \n",
    "    pp.xlabel('X')\n",
    "    pp.ylabel('Y')\n",
    "    #\n",
    "    fig = pp.gcf()\n",
    "    fig.set_size_inches(6, 5)\n",
    "    pp.title(title)"
   ]
  },
  {
   "cell_type": "code",
   "execution_count": null,
   "metadata": {},
   "outputs": [],
   "source": [
    "CPlot(T, \"Temperature Distribution Contour\")"
   ]
  },
  {
   "cell_type": "code",
   "execution_count": null,
   "metadata": {
    "scrolled": false
   },
   "outputs": [],
   "source": [
    "CPlot(C, \"Concentration Distribution Contour\")"
   ]
  },
  {
   "cell_type": "code",
   "execution_count": null,
   "metadata": {},
   "outputs": [],
   "source": [
    "fig = pp.figure(figsize=(11, 7), dpi=100)\n",
    "\n",
    "pp.streamplot(X, Y, u, v, color='black') #, linewidth=2, density=0.6\n",
    "pp.xlabel('X')\n",
    "pp.ylabel('Y');\n",
    "fig = pp.gcf()\n",
    "fig.set_size_inches(6, 5)"
   ]
  }
 ],
 "metadata": {
  "kernelspec": {
   "display_name": "Python 3",
   "language": "python",
   "name": "python3"
  },
  "language_info": {
   "codemirror_mode": {
    "name": "ipython",
    "version": 3
   },
   "file_extension": ".py",
   "mimetype": "text/x-python",
   "name": "python",
   "nbconvert_exporter": "python",
   "pygments_lexer": "ipython3",
   "version": "3.6.7"
  }
 },
 "nbformat": 4,
 "nbformat_minor": 2
}
