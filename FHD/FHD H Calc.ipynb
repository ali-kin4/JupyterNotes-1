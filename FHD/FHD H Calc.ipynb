{
 "cells": [
  {
   "cell_type": "code",
   "execution_count": 1,
   "metadata": {},
   "outputs": [],
   "source": [
    "import sympy as sp\n",
    "sp.init_printing(use_latex = True)\n",
    "%matplotlib inline"
   ]
  },
  {
   "cell_type": "code",
   "execution_count": 2,
   "metadata": {},
   "outputs": [],
   "source": [
    "M_s, x, w, y, h, a, beta, t, nu = sp.symbols('M_s, x, w, y, h, a, beta, t, nu')"
   ]
  },
  {
   "cell_type": "code",
   "execution_count": 3,
   "metadata": {},
   "outputs": [
    {
     "data": {
      "image/png": "[encoded data removed]",
      "text/latex": [
       "$$\\frac{M_{s} \\left(- \\log{\\left (\\frac{\\left(- h + y\\right)^{2} + \\left(- w + x\\right)^{2}}{\\left(h + y\\right)^{2} + \\left(- w + x\\right)^{2}} \\right )} + \\log{\\left (\\frac{\\left(- h + y\\right)^{2} + \\left(w + x\\right)^{2}}{\\left(h + y\\right)^{2} + \\left(w + x\\right)^{2}} \\right )}\\right)}{4 \\pi}$$"
      ],
      "text/plain": [
       "   ⎛     ⎛        2           2⎞      ⎛        2          2⎞⎞\n",
       "   ⎜     ⎜(-h + y)  + (-w + x) ⎟      ⎜(-h + y)  + (w + x) ⎟⎟\n",
       "Mₛ⋅⎜- log⎜─────────────────────⎟ + log⎜────────────────────⎟⎟\n",
       "   ⎜     ⎜        2           2⎟      ⎜       2          2 ⎟⎟\n",
       "   ⎝     ⎝ (h + y)  + (-w + x) ⎠      ⎝(h + y)  + (w + x)  ⎠⎠\n",
       "─────────────────────────────────────────────────────────────\n",
       "                             4⋅π                             "
      ]
     },
     "execution_count": 3,
     "metadata": {},
     "output_type": "execute_result"
    }
   ],
   "source": [
    "H_x = M_s/(4*sp.pi) * (sp.log(((x+w)**2 + (y-h)**2)/((x+w)**2 + (y+h)**2)) - sp.log(((x-w)**2 + (y-h)**2)/((x-w)**2 + (y+h)**2)))\n",
    "H_x"
   ]
  },
  {
   "cell_type": "code",
   "execution_count": 4,
   "metadata": {},
   "outputs": [
    {
     "data": {
      "image/png": "[encoded data removed]",
      "text/latex": [
       "$$\\frac{M_{s} \\left(- \\operatorname{atan}{\\left (\\frac{2 h \\left(- w + x\\right)}{- h^{2} + y^{2} + \\left(- w + x\\right)^{2}} \\right )} + \\operatorname{atan}{\\left (\\frac{2 h \\left(w + x\\right)}{- h^{2} + y^{2} + \\left(w + x\\right)^{2}} \\right )}\\right)}{2 \\pi}$$"
      ],
      "text/plain": [
       "   ⎛      ⎛     2⋅h⋅(-w + x)    ⎞       ⎛    2⋅h⋅(w + x)     ⎞⎞\n",
       "Mₛ⋅⎜- atan⎜─────────────────────⎟ + atan⎜────────────────────⎟⎟\n",
       "   ⎜      ⎜   2    2           2⎟       ⎜   2    2          2⎟⎟\n",
       "   ⎝      ⎝- h  + y  + (-w + x) ⎠       ⎝- h  + y  + (w + x) ⎠⎠\n",
       "───────────────────────────────────────────────────────────────\n",
       "                              2⋅π                              "
      ]
     },
     "execution_count": 4,
     "metadata": {},
     "output_type": "execute_result"
    }
   ],
   "source": [
    "H_y = M_s/(2*sp.pi) * (sp.atan((2*h*(x+w))/((x+w)**2 + y**2 - h**2)) - sp.atan((2*h*(x-w))/((x-w)**2 + y**2 - h**2)))\n",
    "H_y"
   ]
  },
  {
   "cell_type": "code",
   "execution_count": 5,
   "metadata": {
    "scrolled": true
   },
   "outputs": [
    {
     "data": {
      "image/png": "[encoded data removed]",
      "text/latex": [
       "$$\\sqrt{\\frac{M_{s}^{2} \\left(- \\log{\\left (\\frac{\\left(- h + y\\right)^{2} + \\left(- w + x\\right)^{2}}{\\left(h + y\\right)^{2} + \\left(- w + x\\right)^{2}} \\right )} + \\log{\\left (\\frac{\\left(- h + y\\right)^{2} + \\left(w + x\\right)^{2}}{\\left(h + y\\right)^{2} + \\left(w + x\\right)^{2}} \\right )}\\right)^{2}}{16 \\pi^{2}} + \\frac{M_{s}^{2} \\left(- \\operatorname{atan}{\\left (\\frac{2 h \\left(- w + x\\right)}{- h^{2} + y^{2} + \\left(- w + x\\right)^{2}} \\right )} + \\operatorname{atan}{\\left (\\frac{2 h \\left(w + x\\right)}{- h^{2} + y^{2} + \\left(w + x\\right)^{2}} \\right )}\\right)^{2}}{4 \\pi^{2}}}$$"
      ],
      "text/plain": [
       "          ____________________________________________________________________\n",
       "         ╱                                                               2    \n",
       "        ╱      ⎛     ⎛        2           2⎞      ⎛        2          2⎞⎞     \n",
       "       ╱     2 ⎜     ⎜(-h + y)  + (-w + x) ⎟      ⎜(-h + y)  + (w + x) ⎟⎟     \n",
       "      ╱    Mₛ ⋅⎜- log⎜─────────────────────⎟ + log⎜────────────────────⎟⎟    M\n",
       "     ╱         ⎜     ⎜        2           2⎟      ⎜       2          2 ⎟⎟     \n",
       "    ╱          ⎝     ⎝ (h + y)  + (-w + x) ⎠      ⎝(h + y)  + (w + x)  ⎠⎠     \n",
       "   ╱       ─────────────────────────────────────────────────────────────── + ─\n",
       "  ╱                                         2                                 \n",
       "╲╱                                      16⋅π                                  \n",
       "\n",
       "_________________________________________________________________\n",
       "                                                                 \n",
       "                                                               2 \n",
       " 2 ⎛      ⎛     2⋅h⋅(-w + x)    ⎞       ⎛    2⋅h⋅(w + x)     ⎞⎞  \n",
       "ₛ ⋅⎜- atan⎜─────────────────────⎟ + atan⎜────────────────────⎟⎟  \n",
       "   ⎜      ⎜   2    2           2⎟       ⎜   2    2          2⎟⎟  \n",
       "   ⎝      ⎝- h  + y  + (-w + x) ⎠       ⎝- h  + y  + (w + x) ⎠⎠  \n",
       "──────────────────────────────────────────────────────────────── \n",
       "                                 2                               \n",
       "                              4⋅π                                "
      ]
     },
     "execution_count": 5,
     "metadata": {},
     "output_type": "execute_result"
    }
   ],
   "source": [
    "H = sp.sqrt(H_x**2 + H_y**2)\n",
    "H"
   ]
  },
  {
   "cell_type": "code",
   "execution_count": 16,
   "metadata": {},
   "outputs": [
    {
     "name": "stdout",
     "output_type": "stream",
     "text": [
      "(M_s**2*(2*(2*h*(-2*w - 2*x)*(w + x)/(-h**2 + x**2 + (w + x)**2)**2 + 2*h/(-h**2 + x**2 + (w + x)**2))/(4*h**2*(w + x)**2/(-h**2 + x**2 + (w + x)**2)**2 + 1) - 2*(2*h*(-w + x)*(2*w - 2*x)/(-h**2 + x**2 + (-w + x)**2)**2 + 2*h/(-h**2 + x**2 + (-w + x)**2))/(4*h**2*(-w + x)**2/(-h**2 + x**2 + (-w + x)**2)**2 + 1))*(-atan(2*h*(-w + x)/(-h**2 + x**2 + (-w + x)**2)) + atan(2*h*(w + x)/(-h**2 + x**2 + (w + x)**2)))/(8*pi**2) + M_s**2*(-2*((-2*w + 2*x)/((h + x)**2 + (-w + x)**2) + (2*w - 2*x)*((-h + x)**2 + (-w + x)**2)/((h + x)**2 + (-w + x)**2)**2)*((h + x)**2 + (-w + x)**2)/((-h + x)**2 + (-w + x)**2) + 2*((-2*w - 2*x)*((-h + x)**2 + (w + x)**2)/((h + x)**2 + (w + x)**2)**2 + (2*w + 2*x)/((h + x)**2 + (w + x)**2))*((h + x)**2 + (w + x)**2)/((-h + x)**2 + (w + x)**2))*(-log(((-h + x)**2 + (-w + x)**2)/((h + x)**2 + (-w + x)**2)) + log(((-h + x)**2 + (w + x)**2)/((h + x)**2 + (w + x)**2)))/(32*pi**2))/sqrt(M_s**2*(-log(((-h + x)**2 + (-w + x)**2)/((h + x)**2 + (-w + x)**2)) + log(((-h + x)**2 + (w + x)**2)/((h + x)**2 + (w + x)**2)))**2/(16*pi**2) + M_s**2*(-atan(2*h*(-w + x)/(-h**2 + x**2 + (-w + x)**2)) + atan(2*h*(w + x)/(-h**2 + x**2 + (w + x)**2)))**2/(4*pi**2))\n"
     ]
    }
   ],
   "source": [
    "Hx = sp.diff(H, x)\n",
    "HX = Hx.subs(y, x)\n",
    "print(HX)"
   ]
  },
  {
   "cell_type": "code",
   "execution_count": 7,
   "metadata": {},
   "outputs": [
    {
     "data": {
      "image/png": "[encoded data removed]",
      "text/latex": [
       "$$\\frac{\\sqrt{M_{s}^{2} \\operatorname{atan}^{2}{\\left (\\frac{2 h w}{- h^{2} + w^{2} + y^{2}} \\right )}}}{\\pi}$$"
      ],
      "text/plain": [
       "     ___________________________\n",
       "    ╱   2     2⎛    2⋅h⋅w     ⎞ \n",
       "   ╱  Mₛ ⋅atan ⎜──────────────⎟ \n",
       "  ╱            ⎜   2    2    2⎟ \n",
       "╲╱             ⎝- h  + w  + y ⎠ \n",
       "────────────────────────────────\n",
       "               π                "
      ]
     },
     "execution_count": 7,
     "metadata": {},
     "output_type": "execute_result"
    }
   ],
   "source": [
    "H1 = H.subs(x, 0)\n",
    "H1"
   ]
  },
  {
   "cell_type": "code",
   "execution_count": 8,
   "metadata": {},
   "outputs": [
    {
     "data": {
      "image/png": "[encoded data removed]",
      "text/latex": [
       "$$\\frac{\\sqrt{M_{s}^{2} \\operatorname{atan}^{2}{\\left (\\frac{2 h w}{- h^{2} + w^{2}} \\right )}}}{\\pi}$$"
      ],
      "text/plain": [
       "     ______________________\n",
       "    ╱   2     2⎛  2⋅h⋅w  ⎞ \n",
       "   ╱  Mₛ ⋅atan ⎜─────────⎟ \n",
       "  ╱            ⎜   2    2⎟ \n",
       "╲╱             ⎝- h  + w ⎠ \n",
       "───────────────────────────\n",
       "             π             "
      ]
     },
     "execution_count": 8,
     "metadata": {},
     "output_type": "execute_result"
    }
   ],
   "source": [
    "H2 = H1.subs(y, 0)\n",
    "H2"
   ]
  },
  {
   "cell_type": "code",
   "execution_count": 9,
   "metadata": {},
   "outputs": [
    {
     "data": {
      "image/png": "[encoded data removed]",
      "text/latex": [
       "$$\\frac{\\sqrt{M_{s}^{2} \\operatorname{atan}^{2}{\\left (\\frac{2.5 \\cdot 10^{-5} w}{w^{2} - 1.5625 \\cdot 10^{-10}} \\right )}}}{\\pi}$$"
      ],
      "text/plain": [
       "     ____________________________\n",
       "    ╱   2     2⎛    2.5e-5⋅w   ⎞ \n",
       "   ╱  Mₛ ⋅atan ⎜───────────────⎟ \n",
       "  ╱            ⎜ 2             ⎟ \n",
       "╲╱             ⎝w  - 1.5625e-10⎠ \n",
       "─────────────────────────────────\n",
       "                π                "
      ]
     },
     "execution_count": 9,
     "metadata": {},
     "output_type": "execute_result"
    }
   ],
   "source": [
    "H3 = H2.subs(h, 12.5e-6)\n",
    "H3"
   ]
  },
  {
   "cell_type": "code",
   "execution_count": 10,
   "metadata": {},
   "outputs": [
    {
     "data": {
      "image/png": "[encoded data removed]",
      "text/latex": [
       "$$\\frac{0.927295218001612 \\sqrt{M_{s}^{2}}}{\\pi}$$"
      ],
      "text/plain": [
       "                     _____\n",
       "                    ╱   2 \n",
       "0.927295218001612⋅╲╱  Mₛ  \n",
       "──────────────────────────\n",
       "            π             "
      ]
     },
     "execution_count": 10,
     "metadata": {},
     "output_type": "execute_result"
    }
   ],
   "source": [
    "H4 = H3.subs(w, 25e-6)\n",
    "H4"
   ]
  },
  {
   "cell_type": "code",
   "execution_count": 11,
   "metadata": {},
   "outputs": [
    {
     "data": {
      "image/png": "[encoded data removed]",
      "text/latex": [
       "$$\\frac{797473.887481386}{\\pi}$$"
      ],
      "text/plain": [
       "797473.887481386\n",
       "────────────────\n",
       "       π        "
      ]
     },
     "execution_count": 11,
     "metadata": {},
     "output_type": "execute_result"
    }
   ],
   "source": [
    "H5 = H4.subs(M_s, 8.6e5)\n",
    "H5"
   ]
  },
  {
   "cell_type": "code",
   "execution_count": 12,
   "metadata": {},
   "outputs": [
    {
     "data": {
      "image/png": "[encoded data removed]",
      "text/latex": [
       "$$253843.822358745$$"
      ],
      "text/plain": [
       "253843.822358745"
      ]
     },
     "execution_count": 12,
     "metadata": {},
     "output_type": "execute_result"
    }
   ],
   "source": [
    "H5.evalf()   #H5 = H0"
   ]
  },
  {
   "cell_type": "code",
   "execution_count": 13,
   "metadata": {},
   "outputs": [
    {
     "name": "stdout",
     "output_type": "stream",
     "text": [
      "sqrt(M_s**2*(-log(((-h + y)**2 + (-w + x)**2)/((h + y)**2 + (-w + x)**2)) + log(((-h + y)**2 + (w + x)**2)/((h + y)**2 + (w + x)**2)))**2/(16*pi**2) + M_s**2*(-atan(2*h*(-w + x)/(-h**2 + y**2 + (-w + x)**2)) + atan(2*h*(w + x)/(-h**2 + y**2 + (w + x)**2)))**2/(4*pi**2))\n"
     ]
    }
   ],
   "source": [
    "print(H)"
   ]
  }
 ],
 "metadata": {
  "kernelspec": {
   "display_name": "Python 3",
   "language": "python",
   "name": "python3"
  },
  "language_info": {
   "codemirror_mode": {
    "name": "ipython",
    "version": 3
   },
   "file_extension": ".py",
   "mimetype": "text/x-python",
   "name": "python",
   "nbconvert_exporter": "python",
   "pygments_lexer": "ipython3",
   "version": "3.6.7"
  }
 },
 "nbformat": 4,
 "nbformat_minor": 2
}
