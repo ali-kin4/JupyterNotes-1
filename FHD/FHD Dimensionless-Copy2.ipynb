{
 "cells": [
  {
   "cell_type": "code",
   "execution_count": 1,
   "metadata": {},
   "outputs": [],
   "source": [
    "from mpl_toolkits.mplot3d import Axes3D\n",
    "from matplotlib import pyplot as pp\n",
    "import numpy as np\n",
    "import csv\n",
    "import os\n",
    "import itertools\n",
    "import threading\n",
    "import time\n",
    "import sys\n",
    "\n",
    "from matplotlib import cm\n",
    "from numpy import arctan, log, pi, sqrt\n",
    "\n",
    "\n",
    "%matplotlib notebook\n",
    "\n",
    "os.chdir(\"D:\")"
   ]
  },
  {
   "cell_type": "markdown",
   "metadata": {},
   "source": [
    "# Loading animation function:"
   ]
  },
  {
   "cell_type": "code",
   "execution_count": 2,
   "metadata": {},
   "outputs": [],
   "source": [
    "done = False\n",
    "\n",
    "def animate():\n",
    "    for c in itertools.cycle(['|', '/', '-', '\\\\']):\n",
    "        if done:\n",
    "            break\n",
    "        sys.stdout.write('\\rloading ' + c)\n",
    "        sys.stdout.flush()\n",
    "        time.sleep(0.1)\n",
    "    sys.stdout.write('\\rDone!     ')"
   ]
  },
  {
   "cell_type": "markdown",
   "metadata": {},
   "source": [
    "# Mesh Generation"
   ]
  },
  {
   "cell_type": "code",
   "execution_count": 3,
   "metadata": {},
   "outputs": [],
   "source": [
    "nx  = 50\n",
    "ny  = 50\n",
    "nt  = 300\n",
    "\n",
    "xmin = -5\n",
    "xmax = 5\n",
    "ymin = 0\n",
    "ymax = 10\n",
    "\n",
    "dx = (xmax - xmin) / (nx - 1)\n",
    "dy = (ymax - ymin) / (ny - 1)\n",
    "dt = 0.01\n",
    "\n",
    "x  = np.linspace(xmin, xmax, nx)\n",
    "y  = np.linspace(xmin, xmax, ny)\n",
    "\n",
    "X, Y = np.meshgrid(x, y)\n",
    "\n",
    "L = ymax"
   ]
  },
  {
   "cell_type": "code",
   "execution_count": 4,
   "metadata": {},
   "outputs": [],
   "source": [
    "u  = np.zeros((nx, ny))\n",
    "un = np.zeros((nx, ny))\n",
    "\n",
    "v  = np.zeros((nx, ny))\n",
    "vn = np.zeros((nx, ny))\n",
    "\n",
    "T  = np.zeros((nx, ny))\n",
    "Tn = np.zeros((nx, ny))\n",
    "\n",
    "C  = np.zeros((nx, ny))\n",
    "Cn = np.zeros((nx, ny))"
   ]
  },
  {
   "cell_type": "markdown",
   "metadata": {},
   "source": [
    "# Flow Specs:"
   ]
  },
  {
   "cell_type": "code",
   "execution_count": 5,
   "metadata": {},
   "outputs": [],
   "source": [
    "a      = 1\n",
    "beta   = 0.0001 #unsteadiness paramepter\n",
    "nu     = 0.000829\n",
    "rho    = 997.5\n",
    "mu0    = 4e-7*pi\n",
    "M      = 8.6e5\n",
    "h      = 12.5e-6   #height of magnet\n",
    "w      = 25e-6     #width of magnet\n",
    "c      = 4178      #spcefic heat  Cp\n",
    "Cv     = 4.15\n",
    "eps    = 0.2\n",
    "tau    = c/Cv\n",
    "Q0     = 50 #heat generation\n",
    "mu     = 0.001\n",
    "H0     = 253843.822358745\n",
    "kf     = 0.6129\n",
    "kp     = 80.4\n",
    "gamma2 = 0.2"
   ]
  },
  {
   "cell_type": "code",
   "execution_count": 6,
   "metadata": {},
   "outputs": [],
   "source": [
    "V0    = -5\n",
    "ts    = nt*dt #Final time\n",
    "Cf    = 0.2/100\n",
    "Cinf  = 0.4/100\n",
    "delC  = Cf - Cinf\n",
    "Tinf  = 333\n",
    "Tf    = 293 #initial Temp\n",
    "delT  = Tf - Tinf\n",
    "alpha = kf/(rho*c)  #thermal diffusity\n",
    "Pr    = nu/alpha\n",
    "Re    = V0*L/nu\n",
    "# Nu = 0.05928 * ((0.44 + Cf)**0.536) * Re**0.7 * Pr**0.4\n",
    "Nu    = 0.45\n",
    "hf    = kf*Nu/L"
   ]
  },
  {
   "cell_type": "code",
   "execution_count": 7,
   "metadata": {},
   "outputs": [],
   "source": [
    "kB = 1.385e-23\n",
    "dp = 1e-8 #particle diameter\n",
    "TF = (Tinf + Tf)/2 #Film temperature\n",
    "DB = (kB*TF)/(3 * pi * mu * dp)"
   ]
  },
  {
   "cell_type": "code",
   "execution_count": 8,
   "metadata": {},
   "outputs": [],
   "source": [
    "DT = (mu/rho) * (0.26 * kf/(kf + kp))"
   ]
  },
  {
   "cell_type": "code",
   "execution_count": 9,
   "metadata": {},
   "outputs": [],
   "source": [
    "hm = gamma2 * DB * sqrt(alpha/nu)"
   ]
  },
  {
   "cell_type": "markdown",
   "metadata": {},
   "source": [
    "# Calculating magnitization intensity (H):"
   ]
  },
  {
   "cell_type": "code",
   "execution_count": 10,
   "metadata": {},
   "outputs": [],
   "source": [
    "def Hcalc(M, i, j, h, w):\n",
    "    H = (sqrt(M**2*(-log(((-h + j)**2 +\n",
    "                          (-w + i)**2)/((h + j)**2 +\n",
    "                          (-w + i)**2)) +\n",
    "                          log(((-h + j)**2 + (w + i)**2)/((h + j)**2 +\n",
    "                          (w + i)**2)))**2/(16*pi**2) +\n",
    "                          M**2*(-arctan(2*h*(-w + i)/(-h**2 + j**2 +\n",
    "                          (-w + i)**2)) + arctan(2*h*(w + i)/(-h**2 + j**2 + (w + i)**2)))**2/(4*pi**2)))\n",
    "    H = H/H0\n",
    "    return H"
   ]
  },
  {
   "cell_type": "markdown",
   "metadata": {},
   "source": [
    "# Boundary conditions (1):"
   ]
  },
  {
   "cell_type": "code",
   "execution_count": 11,
   "metadata": {},
   "outputs": [],
   "source": [
    "T[:, 1]    = (dy * Nu) + T[:, 0]      # y = 0\n",
    "C[:, 1]    = ((hm*L*dy)/DB) + C[:, 0] # y = 0\n",
    "T[:, ny-1] = -1 # y = oo\n",
    "C[:, ny-1] = -1 # y = oo\n",
    "v[:, ny-1] = 0    # y = oo"
   ]
  },
  {
   "cell_type": "markdown",
   "metadata": {},
   "source": [
    "# Boundary conditions (2):"
   ]
  },
  {
   "cell_type": "code",
   "execution_count": 12,
   "metadata": {},
   "outputs": [],
   "source": [
    "for n in range(nt): # n = t\n",
    "    for i in range(nx):\n",
    "        u[i, ny-1] = (a*L*i)/(V0 * (1-beta*ts*n))    # y = oo\n",
    "        u[i, 0]    = (a*L*i)/(V0 * (1-(beta*ts*n))) # y = 0\n",
    "        v[i, 0]    = (-1)/sqrt((1-(beta*ts*n)))"
   ]
  },
  {
   "cell_type": "markdown",
   "metadata": {},
   "source": [
    "# First Derivative: $\\frac{\\partial F}{\\partial x}$ or $\\frac{\\partial F}{\\partial y}$"
   ]
  },
  {
   "cell_type": "code",
   "execution_count": 13,
   "metadata": {},
   "outputs": [],
   "source": [
    "def diff1(i, j, F, d, var): #derivative 1\n",
    "    if (var == \"x\"):\n",
    "        dF = (F[i+1, j] - F[i, j])/d\n",
    "    elif (var == \"y\"):\n",
    "        dF = (F[i, j+1] - F[i, j])/d\n",
    "    return dF"
   ]
  },
  {
   "cell_type": "markdown",
   "metadata": {},
   "source": [
    "# First Derivative: $\\frac{\\partial^2 F}{\\partial x^2}$ or $\\frac{\\partial^2 F}{\\partial y^2}$"
   ]
  },
  {
   "cell_type": "code",
   "execution_count": 14,
   "metadata": {},
   "outputs": [],
   "source": [
    "def diff2(i, j, F, d, var): #derivative 2\n",
    "    if (var == \"x\"):\n",
    "        d2F = (F[i+1, j] - 2*F[i, j] + F[i-1, j])/(2*d)\n",
    "    elif (var == \"y\"):\n",
    "        d2F = (F[i, j+1] - 2*F[i, j] + F[i, j-1])/(2*d)\n",
    "    return d2F"
   ]
  },
  {
   "cell_type": "markdown",
   "metadata": {},
   "source": [
    "# Derivative of H: $\\frac{\\partial H}{\\partial x}$ or $\\frac{\\partial H}{\\partial y}$"
   ]
  },
  {
   "cell_type": "code",
   "execution_count": 15,
   "metadata": {},
   "outputs": [],
   "source": [
    "def Hdiff(i, j, d, var):\n",
    "    if (var == \"x\"):\n",
    "        dH = (Hcalc(M, i+1, j, h, w) - Hcalc(M, i, j, h, w))/d\n",
    "    elif (var == \"y\"):\n",
    "        dH = (Hcalc(M, i, j+1, h, w) - Hcalc(M, i, j, h, w))/d\n",
    "    return dH"
   ]
  },
  {
   "cell_type": "markdown",
   "metadata": {},
   "source": [
    "# Initialize the equations:"
   ]
  },
  {
   "cell_type": "code",
   "execution_count": 16,
   "metadata": {},
   "outputs": [],
   "source": [
    "u.fill(a*L/V0)\n",
    "v.fill(V0)\n",
    "T.fill(Tf)\n",
    "C.fill(Cf)"
   ]
  },
  {
   "cell_type": "code",
   "execution_count": 17,
   "metadata": {},
   "outputs": [],
   "source": [
    "udiff     = 1\n",
    "Tdiff     = 1\n",
    "Cdiff     = 1\n",
    "accu      = 0.01\n",
    "\n",
    "iteration = []\n",
    "\n",
    "udiffDat = []\n",
    "TdiffDat = []\n",
    "CdiffDat = []"
   ]
  },
  {
   "cell_type": "markdown",
   "metadata": {},
   "source": [
    "# Iteration:"
   ]
  },
  {
   "cell_type": "code",
   "execution_count": 18,
   "metadata": {
    "scrolled": true
   },
   "outputs": [
    {
     "name": "stdout",
     "output_type": "stream",
     "text": [
      "loading /"
     ]
    },
    {
     "ename": "KeyboardInterrupt",
     "evalue": "",
     "output_type": "error",
     "traceback": [
      "\u001b[1;31m---------------------------------------------------------------------------\u001b[0m",
      "\u001b[1;31mKeyboardInterrupt\u001b[0m                         Traceback (most recent call last)",
      "\u001b[1;32m<ipython-input-18-07de9c432f1d>\u001b[0m in \u001b[0;36m<module>\u001b[1;34m\u001b[0m\n\u001b[0;32m      8\u001b[0m     \u001b[0mCn\u001b[0m \u001b[1;33m=\u001b[0m \u001b[0mC\u001b[0m\u001b[1;33m.\u001b[0m\u001b[0mcopy\u001b[0m\u001b[1;33m(\u001b[0m\u001b[1;33m)\u001b[0m\u001b[1;33m\u001b[0m\u001b[1;33m\u001b[0m\u001b[0m\n\u001b[0;32m      9\u001b[0m \u001b[1;33m\u001b[0m\u001b[0m\n\u001b[1;32m---> 10\u001b[1;33m     \u001b[0mtt\u001b[0m \u001b[1;33m=\u001b[0m \u001b[0mthreading\u001b[0m\u001b[1;33m.\u001b[0m\u001b[0mThread\u001b[0m\u001b[1;33m(\u001b[0m\u001b[0mtarget\u001b[0m\u001b[1;33m=\u001b[0m\u001b[0manimate\u001b[0m\u001b[1;33m(\u001b[0m\u001b[1;33m)\u001b[0m\u001b[1;33m)\u001b[0m\u001b[1;33m\u001b[0m\u001b[1;33m\u001b[0m\u001b[0m\n\u001b[0m\u001b[0;32m     11\u001b[0m     \u001b[0mtt\u001b[0m\u001b[1;33m.\u001b[0m\u001b[0mstart\u001b[0m\u001b[1;33m(\u001b[0m\u001b[1;33m)\u001b[0m\u001b[1;33m\u001b[0m\u001b[1;33m\u001b[0m\u001b[0m\n\u001b[0;32m     12\u001b[0m \u001b[1;33m\u001b[0m\u001b[0m\n",
      "\u001b[1;32m<ipython-input-2-c5e28afb2d5d>\u001b[0m in \u001b[0;36manimate\u001b[1;34m()\u001b[0m\n\u001b[0;32m      6\u001b[0m             \u001b[1;32mbreak\u001b[0m\u001b[1;33m\u001b[0m\u001b[1;33m\u001b[0m\u001b[0m\n\u001b[0;32m      7\u001b[0m         \u001b[0msys\u001b[0m\u001b[1;33m.\u001b[0m\u001b[0mstdout\u001b[0m\u001b[1;33m.\u001b[0m\u001b[0mwrite\u001b[0m\u001b[1;33m(\u001b[0m\u001b[1;34m'\\rloading '\u001b[0m \u001b[1;33m+\u001b[0m \u001b[0mc\u001b[0m\u001b[1;33m)\u001b[0m\u001b[1;33m\u001b[0m\u001b[1;33m\u001b[0m\u001b[0m\n\u001b[1;32m----> 8\u001b[1;33m         \u001b[0msys\u001b[0m\u001b[1;33m.\u001b[0m\u001b[0mstdout\u001b[0m\u001b[1;33m.\u001b[0m\u001b[0mflush\u001b[0m\u001b[1;33m(\u001b[0m\u001b[1;33m)\u001b[0m\u001b[1;33m\u001b[0m\u001b[1;33m\u001b[0m\u001b[0m\n\u001b[0m\u001b[0;32m      9\u001b[0m         \u001b[0mtime\u001b[0m\u001b[1;33m.\u001b[0m\u001b[0msleep\u001b[0m\u001b[1;33m(\u001b[0m\u001b[1;36m0.1\u001b[0m\u001b[1;33m)\u001b[0m\u001b[1;33m\u001b[0m\u001b[1;33m\u001b[0m\u001b[0m\n\u001b[0;32m     10\u001b[0m     \u001b[0msys\u001b[0m\u001b[1;33m.\u001b[0m\u001b[0mstdout\u001b[0m\u001b[1;33m.\u001b[0m\u001b[0mwrite\u001b[0m\u001b[1;33m(\u001b[0m\u001b[1;34m'\\rDone!     '\u001b[0m\u001b[1;33m)\u001b[0m\u001b[1;33m\u001b[0m\u001b[1;33m\u001b[0m\u001b[0m\n",
      "\u001b[1;32mc:\\users\\light\\appdata\\local\\programs\\python\\python36\\lib\\site-packages\\ipykernel\\iostream.py\u001b[0m in \u001b[0;36mflush\u001b[1;34m(self)\u001b[0m\n\u001b[0;32m    347\u001b[0m                 \u001b[0mself\u001b[0m\u001b[1;33m.\u001b[0m\u001b[0mpub_thread\u001b[0m\u001b[1;33m.\u001b[0m\u001b[0mschedule\u001b[0m\u001b[1;33m(\u001b[0m\u001b[0mevt\u001b[0m\u001b[1;33m.\u001b[0m\u001b[0mset\u001b[0m\u001b[1;33m)\u001b[0m\u001b[1;33m\u001b[0m\u001b[1;33m\u001b[0m\u001b[0m\n\u001b[0;32m    348\u001b[0m                 \u001b[1;31m# and give a timeout to avoid\u001b[0m\u001b[1;33m\u001b[0m\u001b[1;33m\u001b[0m\u001b[1;33m\u001b[0m\u001b[0m\n\u001b[1;32m--> 349\u001b[1;33m                 \u001b[1;32mif\u001b[0m \u001b[1;32mnot\u001b[0m \u001b[0mevt\u001b[0m\u001b[1;33m.\u001b[0m\u001b[0mwait\u001b[0m\u001b[1;33m(\u001b[0m\u001b[0mself\u001b[0m\u001b[1;33m.\u001b[0m\u001b[0mflush_timeout\u001b[0m\u001b[1;33m)\u001b[0m\u001b[1;33m:\u001b[0m\u001b[1;33m\u001b[0m\u001b[1;33m\u001b[0m\u001b[0m\n\u001b[0m\u001b[0;32m    350\u001b[0m                     \u001b[1;31m# write directly to __stderr__ instead of warning because\u001b[0m\u001b[1;33m\u001b[0m\u001b[1;33m\u001b[0m\u001b[1;33m\u001b[0m\u001b[0m\n\u001b[0;32m    351\u001b[0m                     \u001b[1;31m# if this is happening sys.stderr may be the problem.\u001b[0m\u001b[1;33m\u001b[0m\u001b[1;33m\u001b[0m\u001b[1;33m\u001b[0m\u001b[0m\n",
      "\u001b[1;32mc:\\users\\light\\appdata\\local\\programs\\python\\python36\\lib\\threading.py\u001b[0m in \u001b[0;36mwait\u001b[1;34m(self, timeout)\u001b[0m\n\u001b[0;32m    549\u001b[0m             \u001b[0msignaled\u001b[0m \u001b[1;33m=\u001b[0m \u001b[0mself\u001b[0m\u001b[1;33m.\u001b[0m\u001b[0m_flag\u001b[0m\u001b[1;33m\u001b[0m\u001b[1;33m\u001b[0m\u001b[0m\n\u001b[0;32m    550\u001b[0m             \u001b[1;32mif\u001b[0m \u001b[1;32mnot\u001b[0m \u001b[0msignaled\u001b[0m\u001b[1;33m:\u001b[0m\u001b[1;33m\u001b[0m\u001b[1;33m\u001b[0m\u001b[0m\n\u001b[1;32m--> 551\u001b[1;33m                 \u001b[0msignaled\u001b[0m \u001b[1;33m=\u001b[0m \u001b[0mself\u001b[0m\u001b[1;33m.\u001b[0m\u001b[0m_cond\u001b[0m\u001b[1;33m.\u001b[0m\u001b[0mwait\u001b[0m\u001b[1;33m(\u001b[0m\u001b[0mtimeout\u001b[0m\u001b[1;33m)\u001b[0m\u001b[1;33m\u001b[0m\u001b[1;33m\u001b[0m\u001b[0m\n\u001b[0m\u001b[0;32m    552\u001b[0m             \u001b[1;32mreturn\u001b[0m \u001b[0msignaled\u001b[0m\u001b[1;33m\u001b[0m\u001b[1;33m\u001b[0m\u001b[0m\n\u001b[0;32m    553\u001b[0m \u001b[1;33m\u001b[0m\u001b[0m\n",
      "\u001b[1;32mc:\\users\\light\\appdata\\local\\programs\\python\\python36\\lib\\threading.py\u001b[0m in \u001b[0;36mwait\u001b[1;34m(self, timeout)\u001b[0m\n\u001b[0;32m    297\u001b[0m             \u001b[1;32melse\u001b[0m\u001b[1;33m:\u001b[0m\u001b[1;33m\u001b[0m\u001b[1;33m\u001b[0m\u001b[0m\n\u001b[0;32m    298\u001b[0m                 \u001b[1;32mif\u001b[0m \u001b[0mtimeout\u001b[0m \u001b[1;33m>\u001b[0m \u001b[1;36m0\u001b[0m\u001b[1;33m:\u001b[0m\u001b[1;33m\u001b[0m\u001b[1;33m\u001b[0m\u001b[0m\n\u001b[1;32m--> 299\u001b[1;33m                     \u001b[0mgotit\u001b[0m \u001b[1;33m=\u001b[0m \u001b[0mwaiter\u001b[0m\u001b[1;33m.\u001b[0m\u001b[0macquire\u001b[0m\u001b[1;33m(\u001b[0m\u001b[1;32mTrue\u001b[0m\u001b[1;33m,\u001b[0m \u001b[0mtimeout\u001b[0m\u001b[1;33m)\u001b[0m\u001b[1;33m\u001b[0m\u001b[1;33m\u001b[0m\u001b[0m\n\u001b[0m\u001b[0;32m    300\u001b[0m                 \u001b[1;32melse\u001b[0m\u001b[1;33m:\u001b[0m\u001b[1;33m\u001b[0m\u001b[1;33m\u001b[0m\u001b[0m\n\u001b[0;32m    301\u001b[0m                     \u001b[0mgotit\u001b[0m \u001b[1;33m=\u001b[0m \u001b[0mwaiter\u001b[0m\u001b[1;33m.\u001b[0m\u001b[0macquire\u001b[0m\u001b[1;33m(\u001b[0m\u001b[1;32mFalse\u001b[0m\u001b[1;33m)\u001b[0m\u001b[1;33m\u001b[0m\u001b[1;33m\u001b[0m\u001b[0m\n",
      "\u001b[1;31mKeyboardInterrupt\u001b[0m: "
     ]
    }
   ],
   "source": [
    "STEP = 100\n",
    "stepcount = 0\n",
    "\n",
    "while (udiff > accu) and (Tdiff > accu) and (Cdiff > accu):\n",
    "    un = u.copy()\n",
    "    vn = v.copy()\n",
    "    Tn = T.copy()\n",
    "    Cn = C.copy()\n",
    "    \n",
    "    tt = threading.Thread(target=animate())\n",
    "    tt.start()\n",
    "\n",
    "    \n",
    "    for n in range(nt):\n",
    "        for i in range(nx-2):\n",
    "            for j in range(1, ny-2):\n",
    "                #Velocity\n",
    "                u[i, j] = (((ts*dt)/V0) * ((a*L*i*(a+beta))/(1-beta*ts*nt) + \n",
    "                                           ((nu*V0)/(L**2)) * diff2(i, j, un, dy, \"y\") + \n",
    "                                           ((1/rho)*mu0*M*H0/L) * Hdiff(i, j, dx, \"x\") -\n",
    "                                           (((V0**2)/L) * un[i, j] * diff1(i, j, un, dx, \"x\") +\n",
    "                                           (((V0**2)/L) * vn[i, j] * diff1(i, j, un, dy, \"y\")))\n",
    "                                          + un[i, j]))\n",
    "\n",
    "                #Temperature\n",
    "                T[i, j] = (((ts*dt)/delT) * (tau *\n",
    "                                             ((DB/(L**2)) * delC * (delT) * diff1(i, j, Cn, dy, \"y\") * diff1(i, j, Tn, dy, \"y\")) + \n",
    "                                             (DT/(Tinf * (L**2))) * (delT**2) * ((diff1(i, j, Tn, dy, \"y\"))**2)) + \n",
    "                                             (Q0/(rho*c)) * delT * (Tn[i, j] + 1) - \n",
    "                                             ((V0/L) * un[i, j] * delT * diff1(i, j, Tn, dx, \"x\") + \n",
    "                                             (V0/L) * vn[i, j] * delT * diff1(i, j, Tn, dy, \"y\"))\n",
    "                                              + Tn[i, j])\n",
    "                #Concentration\n",
    "                C[i, j] = (((ts*dt)/delC) * ((DB/(L**2)) * delC * diff2(i, j, Cn, dy, \"y\") +\n",
    "                                            (DT/((L**2)*Tinf)) * delT * diff1(i, j, Tn, dy, \"y\") - \n",
    "                                            ((V0/L) * un[i, j] * delC * diff1(i, j, Cn, dx, \"x\") + \n",
    "                                            (V0/L) * vn[i, j] * delC * diff1(i, j, Cn, dy, \"y\"))) +\n",
    "                                             Cn[i, j])\n",
    "\n",
    "\n",
    "\n",
    "\n",
    "                udiff = (np.sum(u) - np.sum(un))/np.sum(u)\n",
    "                Tdiff = (np.sum(T) - np.sum(Tn))/np.sum(T)\n",
    "                Cdiff = (np.sum(C) - np.sum(Cn))/np.sum(C)\n",
    "\n",
    "                udiffDat.append(udiff)\n",
    "                TdiffDat.append(Tdiff)\n",
    "                CdiffDat.append(Cdiff)\n",
    "                \n",
    "        stepcount += 1\n",
    "        stepcount\n",
    "    if stepcount == STEP:\n",
    "        done = True\n",
    "    break"
   ]
  },
  {
   "cell_type": "code",
   "execution_count": 19,
   "metadata": {},
   "outputs": [
    {
     "data": {
      "text/plain": [
       "0"
      ]
     },
     "execution_count": 19,
     "metadata": {},
     "output_type": "execute_result"
    }
   ],
   "source": [
    "stepcount"
   ]
  },
  {
   "cell_type": "markdown",
   "metadata": {},
   "source": [
    "# Plot Residuals:"
   ]
  },
  {
   "cell_type": "code",
   "execution_count": null,
   "metadata": {
    "scrolled": false
   },
   "outputs": [],
   "source": [
    "xu = np.linspace(0, stepcount, stepcount)\n",
    "\n",
    "%matplotlib notebook\n",
    "pp.figure()\n",
    "\n",
    "pp.autoscale(enable=True, axis='x', tight=True)\n",
    "\n",
    "pp.plot(xu, udiffDat, label = \"uDiff\")\n",
    "pp.plot(xu, TdiffDat, label = \"TDiff\")\n",
    "pp.plot(xu, CdiffDat, label = \"CDiff\")\n",
    "\n",
    "# pp.grid(True)\n",
    "pp.legend();\n",
    "pp.xlabel(\"Iterations\")\n",
    "pp.ylabel(\"Residuals\")\n",
    "\n",
    "pp.tight_layout()\n",
    "fig = pp.gcf()\n",
    "fig.set_size_inches(6, 5)"
   ]
  },
  {
   "cell_type": "markdown",
   "metadata": {},
   "source": [
    "# Velocity Vectors:"
   ]
  },
  {
   "cell_type": "code",
   "execution_count": null,
   "metadata": {
    "scrolled": false
   },
   "outputs": [],
   "source": [
    "pp.figure()\n",
    "z = 3\n",
    "pp.quiver(X[::z, ::z], Y[::z, ::z], u[::z, ::z], v[::z, ::z]);\n",
    "pp.tight_layout()"
   ]
  },
  {
   "cell_type": "markdown",
   "metadata": {},
   "source": [
    "# Contours:"
   ]
  },
  {
   "cell_type": "code",
   "execution_count": null,
   "metadata": {
    "scrolled": false
   },
   "outputs": [],
   "source": [
    "fig = pp.figure()\n",
    "\n",
    "pp.contourf(X, Y, T, alpha=0.7, cmap = \"seismic\")  \n",
    "pp.colorbar()\n",
    "\n",
    "# pp.contour(X, Y, T, cmap=cm.viridis)\n",
    "\n",
    "# plotting velocity field\n",
    "# pp.quiver(X[::2, ::2], Y[::2, ::2], u[::2, ::2], v[::2, ::2]) \n",
    "pp.xlabel('X')\n",
    "pp.ylabel('Y');\n",
    "\n",
    "fig = pp.gcf()\n",
    "fig.set_size_inches(6, 5)"
   ]
  }
 ],
 "metadata": {
  "kernelspec": {
   "display_name": "Python 3",
   "language": "python",
   "name": "python3"
  },
  "language_info": {
   "codemirror_mode": {
    "name": "ipython",
    "version": 3
   },
   "file_extension": ".py",
   "mimetype": "text/x-python",
   "name": "python",
   "nbconvert_exporter": "python",
   "pygments_lexer": "ipython3",
   "version": "3.6.7"
  }
 },
 "nbformat": 4,
 "nbformat_minor": 2
}
