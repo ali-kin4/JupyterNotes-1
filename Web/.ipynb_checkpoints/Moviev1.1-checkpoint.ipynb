{
 "cells": [
  {
   "cell_type": "code",
   "execution_count": 1,
   "metadata": {},
   "outputs": [],
   "source": [
    "import time, os, re\n",
    "from tqdm import tqdm\n",
    "from bs4 import BeautifulSoup\n",
    "import pandas as pd\n",
    "import requests\n",
    "import clipboard"
   ]
  },
  {
   "cell_type": "code",
   "execution_count": 283,
   "metadata": {},
   "outputs": [],
   "source": [
    "def source_maker(link):\n",
    "    req = requests.get(link)\n",
    "    soup = BeautifulSoup(req.text)\n",
    "    return soup"
   ]
  },
  {
   "cell_type": "code",
   "execution_count": 94,
   "metadata": {},
   "outputs": [],
   "source": [
    "def num_fixer(value):\n",
    "    res = value.replace(\",\", \"\")\n",
    "    return int(res)"
   ]
  },
  {
   "cell_type": "code",
   "execution_count": null,
   "metadata": {},
   "outputs": [],
   "source": [
    "page_links = []"
   ]
  },
  {
   "cell_type": "code",
   "execution_count": 161,
   "metadata": {},
   "outputs": [],
   "source": [
    "for i in range(1, 100+1):\n",
    "    page_links.append('https://mymojoo.in/page/' + str(i))"
   ]
  },
  {
   "cell_type": "code",
   "execution_count": 240,
   "metadata": {},
   "outputs": [],
   "source": [
    "soup = source_maker(url)"
   ]
  },
  {
   "cell_type": "code",
   "execution_count": 263,
   "metadata": {},
   "outputs": [],
   "source": [
    "movie_links = []\n",
    "imdb_links = []\n",
    "names = []\n",
    "rate = []\n",
    "number = []"
   ]
  },
  {
   "cell_type": "code",
   "execution_count": 264,
   "metadata": {},
   "outputs": [],
   "source": [
    "imbd = soup.find_all(\"div\", {\"class\": 'imdb'})\n",
    "working_i = []\n",
    "for i in range(len(soup.find_all(\"div\", {\"class\": 'imdb'}))):\n",
    "    try:\n",
    "        imdb_link = soup.find_all(\"div\", {\"class\": 'imdb'})[i].find(\"a\", {\"class\": 'postimdb tips-teh'}).get('href').split()[0]\n",
    "        imdb_links.append(imdb_link)\n",
    "        working_i.append(i)\n",
    "    except:\n",
    "        pass"
   ]
  },
  {
   "cell_type": "code",
   "execution_count": 265,
   "metadata": {},
   "outputs": [
    {
     "name": "stderr",
     "output_type": "stream",
     "text": [
      "100%|████████████████████████████████████████████| 8/8 [00:26<00:00,  3.27s/it]\n"
     ]
    }
   ],
   "source": [
    "for link in tqdm(imdb_links):\n",
    "    soup_imdb = source_maker(link)\n",
    "    rating = soup_imdb.find(\"div\", {\"class\": \"ratings_wrapper\"}).find(\"div\", {\"class\": 'ratingValue'}).find(\"strong\").get(\"title\")\n",
    "    rating = rating.split()\n",
    "    rate.append(float(rating[0]))\n",
    "    number.append(num_fixer(rating[3]))"
   ]
  },
  {
   "cell_type": "code",
   "execution_count": 266,
   "metadata": {},
   "outputs": [],
   "source": [
    "movie_loc = soup.find_all(\"div\", {\"class\": \"title_post_list\"})\n",
    "for i in working_i:\n",
    "    link = movie_loc[i].find(\"a\").get(\"href\")\n",
    "    movie_links.append(link)\n",
    "    name = movie_loc[i].find(\"h2\").text.split()\n",
    "    name.pop(0)\n",
    "    name.pop(0)\n",
    "    name = ' '.join(name)\n",
    "    names.append(name)"
   ]
  },
  {
   "cell_type": "code",
   "execution_count": null,
   "metadata": {},
   "outputs": [],
   "source": [
    "for link in page_links:\n",
    "    soup = source_maker(link)\n",
    "    \n",
    "    imbd = soup.find_all(\"div\", {\"class\": 'imdb'})\n",
    "    working_i = []\n",
    "    for i in range(len(soup.find_all(\"div\", {\"class\": 'imdb'}))):\n",
    "        try:\n",
    "            imdb_link = soup.find_all(\"div\", {\"class\": 'imdb'})[i].find(\"a\", {\"class\": 'postimdb tips-teh'}).get('href').split()[0]\n",
    "            imdb_links.append(imdb_link)\n",
    "            working_i.append(i)\n",
    "        except:\n",
    "            pass\n",
    "    \n",
    "    for link in tqdm(imdb_links):\n",
    "        soup_imdb = source_maker(link)\n",
    "        rating = soup_imdb.find(\"div\", {\"class\": \"ratings_wrapper\"}).find(\"div\", {\"class\": 'ratingValue'}).find(\"strong\").get(\"title\")\n",
    "        rating = rating.split()\n",
    "        rate.append(float(rating[0]))\n",
    "        number.append(num_fixer(rating[3]))\n",
    "    \n",
    "    movie_loc = soup.find_all(\"div\", {\"class\": \"title_post_list\"})\n",
    "    for i in working_i:\n",
    "        link = movie_loc[i].find(\"a\").get(\"href\")\n",
    "        movie_links.append(link)\n",
    "        name = movie_loc[i].find(\"h2\").text.split()\n",
    "        name.pop(0)\n",
    "        name.pop(0)\n",
    "        name = ' '.join(name)\n",
    "        names.append(name)"
   ]
  },
  {
   "cell_type": "code",
   "execution_count": 267,
   "metadata": {},
   "outputs": [],
   "source": [
    "data = {'name': names,\n",
    "       'link': movie_links,\n",
    "       'rate': rate,\n",
    "       'number': number}\n",
    "df = pd.DataFrame(data)"
   ]
  }
 ],
 "metadata": {
  "kernelspec": {
   "display_name": "Python 3",
   "language": "python",
   "name": "python3"
  },
  "language_info": {
   "codemirror_mode": {
    "name": "ipython",
    "version": 3
   },
   "file_extension": ".py",
   "mimetype": "text/x-python",
   "name": "python",
   "nbconvert_exporter": "python",
   "pygments_lexer": "ipython3",
   "version": "3.8.5"
  }
 },
 "nbformat": 4,
 "nbformat_minor": 4
}
