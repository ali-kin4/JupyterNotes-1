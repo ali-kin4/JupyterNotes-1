{
 "cells": [
  {
   "cell_type": "code",
   "execution_count": 7,
   "metadata": {},
   "outputs": [],
   "source": [
    "from selenium import webdriver\n",
    "options = webdriver.ChromeOptions()\n",
    "# options.add_argument('--headless')\n",
    "# options.add_argument('--no-sandbox')\n",
    "# options.add_argument('--disable-dev-shm-usage')\n",
    "\n",
    "driver = webdriver.Chrome('chromedriver',options=options)"
   ]
  },
  {
   "cell_type": "code",
   "execution_count": 14,
   "metadata": {},
   "outputs": [],
   "source": [
    "from selenium.webdriver.common.keys import Keys\n",
    "from selenium.webdriver.support.ui import Select\n",
    "from bs4 import BeautifulSoup\n",
    "import time"
   ]
  },
  {
   "cell_type": "code",
   "execution_count": 9,
   "metadata": {},
   "outputs": [],
   "source": [
    "text = '''درک کسر توده هیدروژن و الگوی حمل و نقل آن یک عنصر مهم در افزایش عملکرد سلول است. شکل 14 کسر جرمی H2 مدل ها را نشان می دهد. هیدروژن به قسمت آند می رسد و در داخل GDL پخش می شود. سپس از طریق لایه کاتالیزور نفوذ کرده و یون و الکترون تولید می کند. یون های هیدروژن توسط غشا ، جریان الکترون از طریق آند GDL و جمع کننده های جریان پراکنده می شوند. سرانجام ، هیدروژن به کاتد منتقل می شود و در آنجا به گاز هیدروژن تبدیل می شود. این فرآیند انرژی بیش از مصرف را تولید می کند.\n",
    " در مقابل ، ما دریافتیم که می توان از آب برای انتقال الکترون بدون کاتالیزور اضافی استفاده کرد. به نظر می رسد که می توان این نتیجه را با استفاده از مولکول های آلی دیگر مانند گلیسرول ، گلیکولیپیدها یا گلیکوپروتئین ها بدست آورد. با این حال ، استفاده از آب به عنوان یک گیرنده الکترون یک عامل اساسی در عملکرد سلول است.\n",
    " یون های هیدروژن توسط غشا ، جریان الکترون از طریق آند GDL و جمع کننده های جریان پراکنده می شوند. این الکترون ها به قسمت کاتد متصل شده و به جمع کننده های فعلی و GDL منتهی می شوند. وقتی وارد CL کاتد شوند ، با یون های هیدروژن و اکسیژن ترکیب شده و آب تولید می کنند و گرما آزاد می کنند. کسر جرم هیدروژن با مسیر جریان برای همه مدل های سلول سوختی کاهش می یابد.'''"
   ]
  },
  {
   "cell_type": "code",
   "execution_count": 8,
   "metadata": {},
   "outputs": [],
   "source": [
    "url = 'https://www.spellchecker.net/iran_spell_checker.html#'\n",
    "driver.get(url)"
   ]
  },
  {
   "cell_type": "code",
   "execution_count": 11,
   "metadata": {},
   "outputs": [],
   "source": [
    "type_xpath = '//*[@id=\"ltForm\"]/div/div[2]'\n",
    "inputElement = driver.find_element_by_xpath(type_xpath)\n",
    "inputElement.send_keys(text)"
   ]
  },
  {
   "cell_type": "code",
   "execution_count": 13,
   "metadata": {},
   "outputs": [],
   "source": [
    "click_xpath = '//*[@id=\"lt\"]/div/div[1]/h2/a'\n",
    "click_element = driver.find_element_by_xpath(click_xpath)\n",
    "click_element.click()"
   ]
  },
  {
   "cell_type": "code",
   "execution_count": 21,
   "metadata": {},
   "outputs": [],
   "source": [
    "xpath1 = '//*[@id=\"id0\"]'\n",
    "text_element = driver.find_element_by_xpath(xpath1)\n",
    "text_element.click()"
   ]
  },
  {
   "cell_type": "code",
   "execution_count": null,
   "metadata": {},
   "outputs": [],
   "source": []
  }
 ],
 "metadata": {
  "kernelspec": {
   "display_name": "Python 3",
   "language": "python",
   "name": "python3"
  },
  "language_info": {
   "codemirror_mode": {
    "name": "ipython",
    "version": 3
   },
   "file_extension": ".py",
   "mimetype": "text/x-python",
   "name": "python",
   "nbconvert_exporter": "python",
   "pygments_lexer": "ipython3",
   "version": "3.8.5"
  }
 },
 "nbformat": 4,
 "nbformat_minor": 4
}
