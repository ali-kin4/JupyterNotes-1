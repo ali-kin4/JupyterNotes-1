{
  "nbformat": 4,
  "nbformat_minor": 0,
  "metadata": {
    "colab": {
      "name": "Telegram Bot.ipynb",
      "provenance": []
    },
    "kernelspec": {
      "name": "python3",
      "display_name": "Python 3"
    }
  },
  "cells": [
    {
      "cell_type": "code",
      "metadata": {
        "id": "-JQLB9_I9WxI",
        "colab_type": "code",
        "colab": {}
      },
      "source": [
        "!pip install requests beautifulsoup4 google-cloud-texttospeech pandas python-telegram-bot googletrans gtts"
      ],
      "execution_count": null,
      "outputs": []
    },
    {
      "cell_type": "code",
      "metadata": {
        "id": "rQyVdK6h9ilX",
        "colab_type": "code",
        "colab": {}
      },
      "source": [
        "from telegram.ext import Updater, CommandHandler, MessageHandler, Filters\n",
        "import requests\n",
        "import re"
      ],
      "execution_count": 4,
      "outputs": []
    },
    {
      "cell_type": "code",
      "metadata": {
        "id": "M95yTLcFGLn6",
        "colab_type": "code",
        "colab": {}
      },
      "source": [
        "import logging\n",
        "\n",
        "from telegram.ext import Updater, CommandHandler, MessageHandler, Filters\n",
        "from googletrans import Translator\n",
        "\n",
        "TOKEN = '1265374227:AAFXt3m8PHFbjPMa4hfyL0efnSK_-Q-FP4Y'\n",
        "\n",
        "# Enable logging\n",
        "logging.basicConfig(format='%(asctime)s - %(name)s - %(levelname)s - %(message)s',\n",
        "                    level=logging.INFO)\n",
        "\n",
        "logger = logging.getLogger(__name__)"
      ],
      "execution_count": 20,
      "outputs": []
    },
    {
      "cell_type": "code",
      "metadata": {
        "id": "Ahad8eXWD7Yt",
        "colab_type": "code",
        "colab": {}
      },
      "source": [
        "def trans(text):\n",
        "\ttranslator = Translator()\n",
        "\ttranslated_text = translator.translate(text, dest = 'fa').text\n",
        "\treturn translated_text"
      ],
      "execution_count": 21,
      "outputs": []
    },
    {
      "cell_type": "code",
      "metadata": {
        "id": "Fxw4qmX4VqAF",
        "colab_type": "code",
        "colab": {}
      },
      "source": [
        "def start(bot, update):\n",
        "  update.message.reply_text(\"Welcome. This bot can translate any language to Farsi!\")"
      ],
      "execution_count": 32,
      "outputs": []
    },
    {
      "cell_type": "code",
      "metadata": {
        "id": "eKfOfIf_VwNi",
        "colab_type": "code",
        "colab": {}
      },
      "source": [
        "def convert_uppercase(bot, update):\n",
        "  update.message.reply_text(trans(update.message.text))"
      ],
      "execution_count": 33,
      "outputs": []
    },
    {
      "cell_type": "code",
      "metadata": {
        "id": "FFDurcXtIXAC",
        "colab_type": "code",
        "colab": {}
      },
      "source": [
        "def main():\n",
        "  # Create Updater object and attach dispatcher to it\n",
        "  updater = Updater(TOKEN)\n",
        "  dispatcher = updater.dispatcher\n",
        "  print(\"Bot started\")\n",
        "\n",
        "  # Add command handler to dispatcher\n",
        "  start_handler = CommandHandler('start',start)\n",
        "  upper_case = MessageHandler(Filters.text, convert_uppercase)\n",
        "  dispatcher.add_handler(start_handler)\n",
        "  dispatcher.add_handler(upper_case)\n",
        "\n",
        "  # Start the bot\n",
        "  updater.start_polling()\n",
        "\n",
        "  # Run the bot until you press Ctrl-C\n",
        "  updater.idle()"
      ],
      "execution_count": 34,
      "outputs": []
    },
    {
      "cell_type": "code",
      "metadata": {
        "id": "dA9bRle8Inh4",
        "colab_type": "code",
        "colab": {}
      },
      "source": [
        "main()"
      ],
      "execution_count": null,
      "outputs": []
    }
  ]
}