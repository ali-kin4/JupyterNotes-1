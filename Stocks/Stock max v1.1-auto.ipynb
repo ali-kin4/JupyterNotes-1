{
 "cells": [
  {
   "cell_type": "code",
   "execution_count": 1,
   "metadata": {},
   "outputs": [],
   "source": [
    "import pandas as pd\n",
    "import numpy as np\n",
    "import pylab as pp\n",
    "import os\n",
    "import requests\n",
    "import io\n",
    "import urllib.request\n",
    "\n",
    "os.chdir(\"D:\\Stocks\\PersianCal\")\n",
    "import PersianCal"
   ]
  },
  {
   "cell_type": "code",
   "execution_count": 2,
   "metadata": {},
   "outputs": [],
   "source": [
    "os.chdir('D:/Stocks/')\n",
    "file = 'Codes.csv'\n",
    "codes = pd.read_csv(file)\n",
    "# code = str(codes.Codes[code_number])"
   ]
  },
  {
   "cell_type": "code",
   "execution_count": 3,
   "metadata": {},
   "outputs": [],
   "source": [
    "# code_number = 98\n",
    "# code = str(codes.Codes[code_number])\n",
    "\n",
    "code = '70474983732269112'\n",
    "\n",
    "url = \"http://www.tsetmc.com/tsev2/data/Export-txt.aspx?t=i&a=1&b=0&i=\" + code\n",
    "r = requests.get(url, allow_redirects=True).content\n",
    "\n",
    "# open('7769065543658313.csv', 'wb').write(r.content);\n",
    "\n",
    "df = pd.read_csv(io.StringIO(r.decode('utf-8')))"
   ]
  },
  {
   "cell_type": "code",
   "execution_count": 4,
   "metadata": {},
   "outputs": [],
   "source": [
    "## Datetime conversion\n",
    "df.rename(columns={\"<DTYYYYMMDD>\": \"Date\"}, inplace=True)\n",
    "df['Date'] = pd.to_datetime(df['Date'], format='%Y%m%d')\n",
    "\n",
    "# Dropping any NaNs\n",
    "df.dropna(inplace=True)"
   ]
  },
  {
   "cell_type": "code",
   "execution_count": 5,
   "metadata": {},
   "outputs": [],
   "source": [
    "df['Date'] =pd.to_datetime(df.Date)\n",
    "df = df.sort_values(by=['Date'])"
   ]
  },
  {
   "cell_type": "code",
   "execution_count": 6,
   "metadata": {
    "scrolled": true
   },
   "outputs": [],
   "source": [
    "d = []\n",
    "for i in range(len(df[\"Date\"])):\n",
    "    d.append(PersianCal.Christian(str(df[\"Date\"][i])[0:10]).persian_string()) #Tabdil tarikh be Irani"
   ]
  },
  {
   "cell_type": "code",
   "execution_count": 7,
   "metadata": {},
   "outputs": [],
   "source": [
    "for i in range(len(df[\"Date\"])):\n",
    "    df[\"Date\"] = df[\"Date\"].replace(df[\"Date\"][i], d[i])"
   ]
  },
  {
   "cell_type": "code",
   "execution_count": 8,
   "metadata": {},
   "outputs": [],
   "source": [
    "date_list = []\n",
    "for date in df[\"Date\"]:\n",
    "    date_list.append(date[:7])\n",
    "    \n",
    "Dates = df[\"Date\"].tolist() #kole tarikh ha\n",
    "myDates = list(dict.fromkeys(date_list)) #Eshterake Tatikh ha"
   ]
  },
  {
   "cell_type": "code",
   "execution_count": 9,
   "metadata": {},
   "outputs": [],
   "source": [
    "ext = np.zeros((len(myDates), 2)) #[[max], [min]]\n",
    "ind = np.zeros((len(myDates), 1)).tolist()\n",
    "\n",
    "#first indicator\n",
    "for date in Dates:\n",
    "    if (date[:7] in myDates[0]):\n",
    "        ind1 = Dates.index(date) #یافتن مکان آخرین روز ماه\n",
    "\n",
    "ind[0] = ind1"
   ]
  },
  {
   "cell_type": "markdown",
   "metadata": {},
   "source": [
    "# First max and min:"
   ]
  },
  {
   "cell_type": "code",
   "execution_count": 10,
   "metadata": {
    "scrolled": false
   },
   "outputs": [],
   "source": [
    "a = [[], [], [], []]\n",
    "# names = [\"<Open>\", \"<High>\", \"<Low>\", \"<Close>\"]\n",
    "names = [\"<FIRST>\", \"<HIGH>\", \"<LOW>\", \"<CLOSE>\"]\n",
    "\n",
    "for i in range(4):\n",
    "    for j in names:\n",
    "        a[i] = df[j][0:ind1+1].tolist()\n",
    "\n",
    "ext[0][0] = max(max(a))\n",
    "ext[0][1] = min(min(a))"
   ]
  },
  {
   "cell_type": "markdown",
   "metadata": {},
   "source": [
    "# Calculating all of the extremums:"
   ]
  },
  {
   "cell_type": "code",
   "execution_count": 11,
   "metadata": {},
   "outputs": [],
   "source": [
    "for i in range(1, len(myDates)):\n",
    "    for date in Dates:\n",
    "        if (date[:7] in myDates[i]):\n",
    "            ind1 = Dates.index(date)\n",
    "    ind[i] = ind1\n",
    "    a = [[], [], [], []]\n",
    "    for ii in range(4):\n",
    "        for j in names:\n",
    "            a[ii] = df[j][ind[i-1]+1:ind[i]+1].tolist()\n",
    "    ext[i][0] = max(max(a))\n",
    "    ext[i][1] = min(min(a))"
   ]
  },
  {
   "cell_type": "code",
   "execution_count": 12,
   "metadata": {},
   "outputs": [],
   "source": [
    "# import pylab as pp\n",
    "\n",
    "# %matplotlib notebook\n",
    "# import pylab as pp\n",
    "\n",
    "# pp.plot(DataF[\"Date\"], DataF[\"Max\"], color='skyblue', label = \"Max\")\n",
    "# pp.plot(DataF[\"Date\"], DataF[\"Min\"], color='red', label = \"Min\")\n",
    "# pp.legend();"
   ]
  },
  {
   "cell_type": "code",
   "execution_count": 13,
   "metadata": {},
   "outputs": [],
   "source": [
    "def getIndexes(dfObj, value):\n",
    "    ''' Get index positions of value in dataframe i.e. dfObj.'''\n",
    "    listOfPos = list()\n",
    "    # Get bool dataframe with True at positions where the given value exists\n",
    "    result = dfObj.isin([value])\n",
    "    # Get list of columns that contains the value\n",
    "    seriesObj = result.any()\n",
    "    columnNames = list(seriesObj[seriesObj == True].index)\n",
    "    # Iterate over list of columns and fetch the rows indexes where value exists\n",
    "    for col in columnNames:\n",
    "        rows = list(result[col][result[col] == True].index)\n",
    "        for row in rows:\n",
    "            listOfPos.append((row, col))\n",
    "    # Return a list of tuples indicating the positions of value in the dataframe\n",
    "    return listOfPos"
   ]
  },
  {
   "cell_type": "code",
   "execution_count": 14,
   "metadata": {
    "scrolled": true
   },
   "outputs": [],
   "source": [
    "# listOfPositions = getIndexes(df[ind[4]+1:ind[5]+1], ext[5][1])\n",
    "# print('Index positions of 1835000 in Dataframe: ')\n",
    "# for i in range(len(listOfPositions)):\n",
    "#     print('Position ', i, ' (Row index , Column Name) : ', listOfPositions[i])"
   ]
  },
  {
   "cell_type": "code",
   "execution_count": 15,
   "metadata": {
    "scrolled": false
   },
   "outputs": [],
   "source": [
    "minDate = []\n",
    "firstPos = getIndexes(df[0:ind[0]+1], ext[0][1])\n",
    "minDate.append(df.Date[firstPos[0][0]])\n",
    "\n",
    "for j in range(len(ext)-1):\n",
    "    listOfPositions = getIndexes(df[ind[j]+1:ind[j+1]+1], ext[j+1][1])\n",
    "    for i in range(len(listOfPositions)):\n",
    "        minDate.append(df.Date[listOfPositions[0][0]])\n",
    "\n",
    "minDate = list(dict.fromkeys(minDate))"
   ]
  },
  {
   "cell_type": "code",
   "execution_count": 16,
   "metadata": {
    "scrolled": false
   },
   "outputs": [],
   "source": [
    "maxDate = []\n",
    "firstPos2 = getIndexes(df[0:ind[0]+1], ext[0][0])\n",
    "maxDate.append(df.Date[firstPos2[0][0]])\n",
    "\n",
    "for j in range(len(ext)-1):\n",
    "    listOfPositions = getIndexes(df[ind[j]+1:ind[j+1]+1], ext[j+1][0])\n",
    "    for i in range(len(listOfPositions)):\n",
    "        maxDate.append(df.Date[listOfPositions[0][0]])\n",
    "        \n",
    "maxDate = list(dict.fromkeys(maxDate))"
   ]
  },
  {
   "cell_type": "code",
   "execution_count": 17,
   "metadata": {},
   "outputs": [],
   "source": [
    "first = []\n",
    "last = []\n",
    "\n",
    "for i in range(len(maxDate)):\n",
    "    if (int(maxDate[i][8:10]) < int(minDate[i][8:10])):\n",
    "        first.append(ext[i, 0])\n",
    "        last.append(ext[i, 1])\n",
    "    else:\n",
    "        first.append(ext[i, 1])\n",
    "        last.append(ext[i, 0])"
   ]
  },
  {
   "cell_type": "code",
   "execution_count": 20,
   "metadata": {},
   "outputs": [],
   "source": [
    "# res = {\"Date\": myDates,\n",
    "#        \"First\": first,\n",
    "#        \"Last\": last}\n",
    "\n",
    "res = {\"Date\": myDates,\n",
    "       \"First\": first,\n",
    "       \"Last\": last,\n",
    "       \"Max\": ext[:, 0],\n",
    "       \"Min\": ext[:, 1]}\n",
    "\n",
    "resF = pd.DataFrame(res)"
   ]
  },
  {
   "cell_type": "code",
   "execution_count": 21,
   "metadata": {},
   "outputs": [],
   "source": [
    "os.chdir(\"D:/\")\n",
    "\n",
    "file_name = str(df['<TICKER>'][1]).replace('*', '')\n",
    "\n",
    "resF.set_index('Date', inplace=True)\n",
    "resF.to_csv(file_name + '_output' + '.csv')"
   ]
  }
 ],
 "metadata": {
  "kernelspec": {
   "display_name": "Python 3",
   "language": "python",
   "name": "python3"
  },
  "language_info": {
   "codemirror_mode": {
    "name": "ipython",
    "version": 3
   },
   "file_extension": ".py",
   "mimetype": "text/x-python",
   "name": "python",
   "nbconvert_exporter": "python",
   "pygments_lexer": "ipython3",
   "version": "3.8.1"
  }
 },
 "nbformat": 4,
 "nbformat_minor": 4
}
