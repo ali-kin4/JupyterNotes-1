{
 "cells": [
  {
   "cell_type": "code",
   "execution_count": 1,
   "metadata": {},
   "outputs": [],
   "source": [
    "import os\n",
    "import requests\n",
    "import pandas as pd\n",
    "import io\n",
    "import urllib.request\n",
    "\n",
    "os.chdir(\"D:\\Stocks\\PersianCal\")\n",
    "import PersianCal\n",
    "import numpy as np"
   ]
  },
  {
   "cell_type": "code",
   "execution_count": 2,
   "metadata": {},
   "outputs": [],
   "source": [
    "os.chdir('D:/Stocks/')\n",
    "file = 'Codes.csv'\n",
    "codes = pd.read_csv(file)\n",
    "# code = str(codes.Codes[code_number])"
   ]
  },
  {
   "cell_type": "code",
   "execution_count": 3,
   "metadata": {},
   "outputs": [],
   "source": [
    "code_number = 100\n",
    "\n",
    "# code = str(codes.Codes[code_number])\n",
    "\n",
    "code = '49776615757150035'\n",
    "\n",
    "url = \"http://www.tsetmc.com/tsev2/data/Export-txt.aspx?t=i&a=1&b=0&i=\" + code\n",
    "r = requests.get(url, allow_redirects=True).content\n",
    "\n",
    "# open('7769065543658313.csv', 'wb').write(r.content);"
   ]
  },
  {
   "cell_type": "code",
   "execution_count": 4,
   "metadata": {
    "scrolled": true
   },
   "outputs": [],
   "source": [
    "df = pd.read_csv(io.StringIO(r.decode('utf-8')))"
   ]
  },
  {
   "cell_type": "code",
   "execution_count": 5,
   "metadata": {},
   "outputs": [],
   "source": [
    "## Datetime conversion\n",
    "df['<DTYYYYMMDD>'] = pd.to_datetime(df['<DTYYYYMMDD>'], format='%Y%m%d')\n",
    "\n",
    "# Dropping any NaNs\n",
    "df.dropna(inplace=True)\n",
    "\n",
    "df.rename(columns={\"<DTYYYYMMDD>\": \"Date\"}, inplace=True)"
   ]
  },
  {
   "cell_type": "code",
   "execution_count": 6,
   "metadata": {},
   "outputs": [],
   "source": [
    "df['Date'] =pd.to_datetime(df.Date)\n",
    "df = df.sort_values(by=['Date'])"
   ]
  },
  {
   "cell_type": "code",
   "execution_count": 7,
   "metadata": {},
   "outputs": [],
   "source": [
    "d = []\n",
    "for i in range(len(df[\"Date\"])):\n",
    "    d.append(PersianCal.Gregorian(str(df[\"Date\"][i])[0:10]).persian_string()) #Tabdil tarikh be Irani"
   ]
  },
  {
   "cell_type": "code",
   "execution_count": 8,
   "metadata": {},
   "outputs": [],
   "source": [
    "for i in range(len(df[\"Date\"])):\n",
    "    df[\"Date\"] = df[\"Date\"].replace(df[\"Date\"][i], d[i])"
   ]
  },
  {
   "cell_type": "code",
   "execution_count": 9,
   "metadata": {},
   "outputs": [],
   "source": [
    "date_list = []\n",
    "for date in df[\"Date\"]:\n",
    "    date_list.append(date[:7])\n",
    "    \n",
    "Dates = df[\"Date\"].tolist() #kole tarikh ha\n",
    "myDates = list(dict.fromkeys(date_list)) #Eshterake Tatikh ha"
   ]
  },
  {
   "cell_type": "code",
   "execution_count": 10,
   "metadata": {},
   "outputs": [],
   "source": [
    "ext = np.zeros((len(myDates), 2)) #[[max], [min]]\n",
    "ind = np.zeros((len(myDates), 1)).tolist()\n",
    "\n",
    "#first indicator\n",
    "for date in Dates:\n",
    "    if (date[:7] in myDates[0]):\n",
    "        ind1 = Dates.index(date) #یافتن مکان آخرین روز ماه\n",
    "\n",
    "ind[0] = ind1\n",
    "\n",
    "a = [[], [], [], []]\n",
    "names = [\"<FIRST>\", \"<HIGH>\", \"<LOW>\", \"<CLOSE>\"]\n",
    "for i in range(4):\n",
    "    for j in names:\n",
    "        a[i] = df[j][0:ind1].tolist()\n",
    "        \n",
    "ext[0][0] = max(max(a))\n",
    "ext[0][1] = min(min(a))"
   ]
  },
  {
   "cell_type": "code",
   "execution_count": 11,
   "metadata": {
    "scrolled": true
   },
   "outputs": [],
   "source": [
    "for i in range(1, len(myDates)):\n",
    "    for date in Dates:\n",
    "        if (date[:7] in myDates[i]):\n",
    "            ind1 = Dates.index(date)\n",
    "    ind[i] = ind1\n",
    "    a = [[], [], [], []]\n",
    "    for ii in range(4):\n",
    "        for j in names:\n",
    "            a[ii] = df[j][ind[i-1]:ind[i]].tolist()\n",
    "    ext[i][0] = max(max(a))\n",
    "    ext[i][1] = min(min(a))"
   ]
  },
  {
   "cell_type": "code",
   "execution_count": 12,
   "metadata": {},
   "outputs": [],
   "source": [
    "Data = {\"Date\": myDates,\n",
    "        \"Max\": ext[:, 0],\n",
    "        \"Min\": ext[:, 1]}\n",
    "DataF = pd.DataFrame(Data)\n",
    "\n",
    "DataF.set_index('Date', inplace=True)"
   ]
  },
  {
   "cell_type": "code",
   "execution_count": 13,
   "metadata": {},
   "outputs": [],
   "source": [
    "os.chdir(\"D:/\")\n",
    "\n",
    "file_name = str(df['<TICKER>'][1]).replace('*', '')\n",
    "\n",
    "DataF.to_csv(file_name + '.csv')"
   ]
  },
  {
   "cell_type": "code",
   "execution_count": 14,
   "metadata": {},
   "outputs": [],
   "source": [
    "# import pylab as pp\n",
    "# %matplotlib notebook\n",
    "# pp.plot(DataF[\"Date\"], DataF[\"Max\"], color='skyblue', label = \"Max\")\n",
    "# pp.plot(DataF[\"Date\"], DataF[\"Min\"], color='red', label = \"Min\")\n",
    "# pp.legend();"
   ]
  }
 ],
 "metadata": {
  "kernelspec": {
   "display_name": "Python 3",
   "language": "python",
   "name": "python3"
  },
  "language_info": {
   "codemirror_mode": {
    "name": "ipython",
    "version": 3
   },
   "file_extension": ".py",
   "mimetype": "text/x-python",
   "name": "python",
   "nbconvert_exporter": "python",
   "pygments_lexer": "ipython3",
   "version": "3.8.1"
  }
 },
 "nbformat": 4,
 "nbformat_minor": 4
}
