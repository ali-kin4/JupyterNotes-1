{
 "cells": [
  {
   "cell_type": "code",
   "execution_count": 1,
   "metadata": {},
   "outputs": [],
   "source": [
    "import numpy as np\n",
    "import glob, os, csv\n",
    "import pandas as pd\n",
    "import tkinter as tk\n",
    "from tkinter import filedialog"
   ]
  },
  {
   "cell_type": "markdown",
   "metadata": {},
   "source": [
    "# Index Section:"
   ]
  },
  {
   "cell_type": "code",
   "execution_count": 2,
   "metadata": {},
   "outputs": [],
   "source": [
    "# root = tk.Tk()\n",
    "# root.withdraw()\n",
    "\n",
    "# root.filename =  filedialog.askopenfilename(initialdir = \"/\",title = \"Select Index Data\",filetypes = ((\"txt files\",\"*.txt\"), (\"CSV files\",\"*.csv\"), (\"all files\",\"*.*\")))\n",
    "\n",
    "filename = \"D:\\Stocks\\Data\\ASIA_D_SH.txt\"\n"
   ]
  },
  {
   "cell_type": "code",
   "execution_count": 3,
   "metadata": {},
   "outputs": [],
   "source": [
    "# a_file = open(root.filename, \"r+\")\n",
    "# list_of_lines = a_file.readlines()\n",
    "\n",
    "# if ('a,b' in list_of_lines[0]) == False:\n",
    "#     list_of_lines[0] = list_of_lines[0][:-1] + ',a,b\\n'\n",
    "\n",
    "# a_file = open(root.filename, \"w\")\n",
    "# a_file.writelines(list_of_lines)\n",
    "# a_file.close()\n",
    "\n",
    "a_file = open(filename, \"r+\")\n",
    "list_of_lines = a_file.readlines()\n",
    "\n",
    "if ('a,b' in list_of_lines[0]) == False:\n",
    "    list_of_lines[0] = list_of_lines[0][:-1] + ',a,b\\n'\n",
    "\n",
    "a_file = open(filename, \"w\")\n",
    "a_file.writelines(list_of_lines)\n",
    "a_file.close()"
   ]
  },
  {
   "cell_type": "code",
   "execution_count": 6,
   "metadata": {},
   "outputs": [],
   "source": [
    "# pd.read_csv(root.filename)\n",
    "index_data = pd.read_csv(filename)"
   ]
  },
  {
   "cell_type": "code",
   "execution_count": 9,
   "metadata": {},
   "outputs": [],
   "source": [
    "loc = 'D:/Stocks/Data/1'\n",
    "Format = \"txt\"\n",
    "\n",
    "os.chdir(loc)"
   ]
  },
  {
   "cell_type": "code",
   "execution_count": 14,
   "metadata": {},
   "outputs": [],
   "source": [
    "files = glob.glob(\"*.{}\".format(Format))"
   ]
  },
  {
   "cell_type": "code",
   "execution_count": 15,
   "metadata": {},
   "outputs": [],
   "source": [
    "for file in files:\n",
    "    a_file = open(file, \"r+\")\n",
    "    list_of_lines = a_file.readlines()\n",
    "\n",
    "    if ('a,b' in list_of_lines[0]) == False:\n",
    "        list_of_lines[0] = list_of_lines[0][:-1] + ',a,b\\n'\n",
    "\n",
    "    a_file = open(file, \"w\")\n",
    "    a_file.writelines(list_of_lines)\n",
    "    a_file.close()"
   ]
  },
  {
   "cell_type": "code",
   "execution_count": 17,
   "metadata": {},
   "outputs": [],
   "source": [
    "df = []\n",
    "for file in files:\n",
    "    df.append(pd.read_csv(file))"
   ]
  },
  {
   "cell_type": "code",
   "execution_count": 22,
   "metadata": {},
   "outputs": [],
   "source": [
    "#Results:\n",
    "Rdate    = []\n",
    "ROpen    = []\n",
    "Rhigh    = []\n",
    "Rlow     = []\n",
    "Rclose   = []\n",
    "\n",
    "DNum = [] #the intersection date number\n",
    "iNum = [] #index of intersection date\n",
    "idNum = [] #index of intersection date in index stocks"
   ]
  },
  {
   "cell_type": "code",
   "execution_count": 25,
   "metadata": {},
   "outputs": [],
   "source": [
    "n = len(files)\n",
    "\n",
    "for i in range(n):\n",
    "    Rdate.append(0)\n",
    "    ROpen.append(0)\n",
    "    Rhigh.append(0)\n",
    "    Rlow.append(0)\n",
    "    Rclose.append(0)\n",
    "    DNum.append(0)\n",
    "    iNum.append(0)\n",
    "    idNum.append(0)\n",
    "    (DNum[i], iNum[i], Rdate[i], ROpen[i], Rhigh[i], \n",
    "     Rlow[i], Rclose[i], idNum[i]) = ([], [], [], [], [], [], [], [])"
   ]
  },
  {
   "cell_type": "code",
   "execution_count": 29,
   "metadata": {},
   "outputs": [],
   "source": [
    "for i in range(n):\n",
    "    DNum[i] = list(set(index_data['<DTYYYYMMDD>']) & (set(df[i]['<DTYYYYMMDD>'])))"
   ]
  },
  {
   "cell_type": "code",
   "execution_count": 39,
   "metadata": {},
   "outputs": [],
   "source": [
    "for i in range(n):\n",
    "    for j in range(len(DNum[i])):\n",
    "        iNum[i].append(df[i]['<DTYYYYMMDD>'].tolist().index(DNum[i][j]))\n",
    "        idNum[i].append(index_data['<DTYYYYMMDD>'].tolist().index(DNum[i][j]))"
   ]
  },
  {
   "cell_type": "code",
   "execution_count": 41,
   "metadata": {},
   "outputs": [],
   "source": [
    "names = [\"<Open>\", \"<High>\", \"<Low>\", \"<Close>\"]\n",
    "\n",
    "for i in range(n):\n",
    "    for j in range(len(iNum[i])):\n",
    "        ROpen[i].append(df[i][names[0]][iNum[i][j]]/index_data[names[0]][idNum[i][j]])\n",
    "        Rhigh[i].append(df[i][names[1]][iNum[i][j]]/index_data[names[1]][idNum[i][j]])\n",
    "        Rlow[i].append(df[i][names[2]][iNum[i][j]]/index_data[names[2]][idNum[i][j]])\n",
    "        Rclose[i].append(df[i][names[3]][iNum[i][j]]/index_data[names[3]][idNum[i][j]])"
   ]
  },
  {
   "cell_type": "code",
   "execution_count": 42,
   "metadata": {},
   "outputs": [],
   "source": [
    "if os.path.isdir(loc + \"/Results\") == False:\n",
    "    os.makedirs(loc + \"/Results\")\n",
    "os.chdir(loc + \"/Results\")"
   ]
  },
  {
   "cell_type": "code",
   "execution_count": 43,
   "metadata": {},
   "outputs": [],
   "source": [
    "d  = []\n",
    "df = []\n",
    "for i in range(n):\n",
    "    d.append(0)\n",
    "    df.append(0)\n",
    "    d[i], df[i] = {}, []"
   ]
  },
  {
   "cell_type": "code",
   "execution_count": 44,
   "metadata": {},
   "outputs": [],
   "source": [
    "Rdate = DNum\n",
    "for i in range(n):\n",
    "    d[i] = {\"Date\": Rdate[i], \"Open\": ROpen[i], \"High\": Rhigh[i], \"Low\": Rlow[i], \"Close\": Rclose[i]}\n",
    "    df[i] = pd.DataFrame(data=d[i])\n",
    "    df[i].set_index('Date', inplace=True)\n",
    "    df[i] = df[i].sort_values(by=['Date'])"
   ]
  },
  {
   "cell_type": "code",
   "execution_count": 46,
   "metadata": {},
   "outputs": [],
   "source": [
    "for i in range(n):\n",
    "    df[i].to_csv(files[i], sep=',')"
   ]
  }
 ],
 "metadata": {
  "kernelspec": {
   "display_name": "Python 3",
   "language": "python",
   "name": "python3"
  },
  "language_info": {
   "codemirror_mode": {
    "name": "ipython",
    "version": 3
   },
   "file_extension": ".py",
   "mimetype": "text/x-python",
   "name": "python",
   "nbconvert_exporter": "python",
   "pygments_lexer": "ipython3",
   "version": "3.8.1"
  }
 },
 "nbformat": 4,
 "nbformat_minor": 2
}
