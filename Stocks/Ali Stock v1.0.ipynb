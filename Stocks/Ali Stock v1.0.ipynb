{
 "cells": [
  {
   "cell_type": "code",
   "execution_count": 9,
   "metadata": {},
   "outputs": [],
   "source": [
    "import numpy as np\n",
    "import pylab as pp\n",
    "import pandas as pd\n",
    "import os\n",
    "\n",
    "pp.style.use(\"bmh\")"
   ]
  },
  {
   "cell_type": "code",
   "execution_count": 10,
   "metadata": {},
   "outputs": [],
   "source": [
    "filename = \"Dollar_D_CUR.txt\"\n",
    "loc = \"D:\\Stocks\"\n",
    "\n",
    "os.chdir(loc)\n",
    "\n",
    "import alical\n",
    "\n",
    "# Loading in the Data\n",
    "df = pd.read_csv(filename, delimiter=\",\")"
   ]
  },
  {
   "cell_type": "code",
   "execution_count": 11,
   "metadata": {},
   "outputs": [
    {
     "data": {
      "text/html": [
       "<div>\n",
       "<style scoped>\n",
       "    .dataframe tbody tr th:only-of-type {\n",
       "        vertical-align: middle;\n",
       "    }\n",
       "\n",
       "    .dataframe tbody tr th {\n",
       "        vertical-align: top;\n",
       "    }\n",
       "\n",
       "    .dataframe thead th {\n",
       "        text-align: right;\n",
       "    }\n",
       "</style>\n",
       "<table border=\"1\" class=\"dataframe\">\n",
       "  <thead>\n",
       "    <tr style=\"text-align: right;\">\n",
       "      <th></th>\n",
       "      <th></th>\n",
       "      <th>&lt;Ticker&gt;</th>\n",
       "      <th>&lt;Per&gt;</th>\n",
       "      <th>&lt;DTYYYYMMDD&gt;</th>\n",
       "      <th>&lt;TIME&gt;</th>\n",
       "      <th>&lt;Open&gt;</th>\n",
       "      <th>&lt;High&gt;</th>\n",
       "      <th>&lt;Low&gt;</th>\n",
       "      <th>&lt;Close&gt;</th>\n",
       "      <th>&lt;Vol&gt;</th>\n",
       "      <th>&lt;Openint&gt;</th>\n",
       "    </tr>\n",
       "  </thead>\n",
       "  <tbody>\n",
       "    <tr>\n",
       "      <th rowspan=\"11\" valign=\"top\">Dollar</th>\n",
       "      <th>d</th>\n",
       "      <td>20060320</td>\n",
       "      <td>0</td>\n",
       "      <td>9040.0</td>\n",
       "      <td>9040.0</td>\n",
       "      <td>9040.0</td>\n",
       "      <td>9040.0</td>\n",
       "      <td>0</td>\n",
       "      <td>9040.0</td>\n",
       "      <td>type5</td>\n",
       "      <td>111862</td>\n",
       "    </tr>\n",
       "    <tr>\n",
       "      <th>d</th>\n",
       "      <td>20070320</td>\n",
       "      <td>0</td>\n",
       "      <td>9220.0</td>\n",
       "      <td>9220.0</td>\n",
       "      <td>9220.0</td>\n",
       "      <td>9220.0</td>\n",
       "      <td>0</td>\n",
       "      <td>9220.0</td>\n",
       "      <td>type5</td>\n",
       "      <td>111862</td>\n",
       "    </tr>\n",
       "    <tr>\n",
       "      <th>d</th>\n",
       "      <td>20071213</td>\n",
       "      <td>0</td>\n",
       "      <td>9400.0</td>\n",
       "      <td>9400.0</td>\n",
       "      <td>9400.0</td>\n",
       "      <td>9400.0</td>\n",
       "      <td>0</td>\n",
       "      <td>9400.0</td>\n",
       "      <td>type5</td>\n",
       "      <td>111862</td>\n",
       "    </tr>\n",
       "    <tr>\n",
       "      <th>d</th>\n",
       "      <td>20071215</td>\n",
       "      <td>0</td>\n",
       "      <td>9430.0</td>\n",
       "      <td>9430.0</td>\n",
       "      <td>9430.0</td>\n",
       "      <td>9430.0</td>\n",
       "      <td>0</td>\n",
       "      <td>9430.0</td>\n",
       "      <td>type5</td>\n",
       "      <td>111862</td>\n",
       "    </tr>\n",
       "    <tr>\n",
       "      <th>d</th>\n",
       "      <td>20071216</td>\n",
       "      <td>0</td>\n",
       "      <td>9470.0</td>\n",
       "      <td>9470.0</td>\n",
       "      <td>9470.0</td>\n",
       "      <td>9470.0</td>\n",
       "      <td>0</td>\n",
       "      <td>9470.0</td>\n",
       "      <td>type5</td>\n",
       "      <td>111862</td>\n",
       "    </tr>\n",
       "    <tr>\n",
       "      <th>...</th>\n",
       "      <td>...</td>\n",
       "      <td>...</td>\n",
       "      <td>...</td>\n",
       "      <td>...</td>\n",
       "      <td>...</td>\n",
       "      <td>...</td>\n",
       "      <td>...</td>\n",
       "      <td>...</td>\n",
       "      <td>...</td>\n",
       "      <td>...</td>\n",
       "    </tr>\n",
       "    <tr>\n",
       "      <th>d</th>\n",
       "      <td>20200625</td>\n",
       "      <td>0</td>\n",
       "      <td>191620.0</td>\n",
       "      <td>191620.0</td>\n",
       "      <td>188410.0</td>\n",
       "      <td>188430.0</td>\n",
       "      <td>0</td>\n",
       "      <td>188430.0</td>\n",
       "      <td>type5</td>\n",
       "      <td>111862</td>\n",
       "    </tr>\n",
       "    <tr>\n",
       "      <th>d</th>\n",
       "      <td>20200627</td>\n",
       "      <td>0</td>\n",
       "      <td>188450.0</td>\n",
       "      <td>188520.0</td>\n",
       "      <td>188410.0</td>\n",
       "      <td>188410.0</td>\n",
       "      <td>0</td>\n",
       "      <td>188410.0</td>\n",
       "      <td>type5</td>\n",
       "      <td>111862</td>\n",
       "    </tr>\n",
       "    <tr>\n",
       "      <th>d</th>\n",
       "      <td>20200628</td>\n",
       "      <td>0</td>\n",
       "      <td>188520.0</td>\n",
       "      <td>190520.0</td>\n",
       "      <td>188410.0</td>\n",
       "      <td>190430.0</td>\n",
       "      <td>0</td>\n",
       "      <td>190430.0</td>\n",
       "      <td>type5</td>\n",
       "      <td>111862</td>\n",
       "    </tr>\n",
       "    <tr>\n",
       "      <th>d</th>\n",
       "      <td>20200629</td>\n",
       "      <td>0</td>\n",
       "      <td>190490.0</td>\n",
       "      <td>190520.0</td>\n",
       "      <td>190410.0</td>\n",
       "      <td>190520.0</td>\n",
       "      <td>0</td>\n",
       "      <td>190520.0</td>\n",
       "      <td>type5</td>\n",
       "      <td>111862</td>\n",
       "    </tr>\n",
       "    <tr>\n",
       "      <th>d</th>\n",
       "      <td>20200630</td>\n",
       "      <td>0</td>\n",
       "      <td>190460.0</td>\n",
       "      <td>190520.0</td>\n",
       "      <td>189810.0</td>\n",
       "      <td>189920.0</td>\n",
       "      <td>0</td>\n",
       "      <td>189920.0</td>\n",
       "      <td>type5</td>\n",
       "      <td>111862</td>\n",
       "    </tr>\n",
       "  </tbody>\n",
       "</table>\n",
       "<p>3569 rows × 10 columns</p>\n",
       "</div>"
      ],
      "text/plain": [
       "          <Ticker>  <Per>  <DTYYYYMMDD>    <TIME>    <Open>    <High>  <Low>  \\\n",
       "Dollar d  20060320      0        9040.0    9040.0    9040.0    9040.0      0   \n",
       "       d  20070320      0        9220.0    9220.0    9220.0    9220.0      0   \n",
       "       d  20071213      0        9400.0    9400.0    9400.0    9400.0      0   \n",
       "       d  20071215      0        9430.0    9430.0    9430.0    9430.0      0   \n",
       "       d  20071216      0        9470.0    9470.0    9470.0    9470.0      0   \n",
       "...            ...    ...           ...       ...       ...       ...    ...   \n",
       "       d  20200625      0      191620.0  191620.0  188410.0  188430.0      0   \n",
       "       d  20200627      0      188450.0  188520.0  188410.0  188410.0      0   \n",
       "       d  20200628      0      188520.0  190520.0  188410.0  190430.0      0   \n",
       "       d  20200629      0      190490.0  190520.0  190410.0  190520.0      0   \n",
       "       d  20200630      0      190460.0  190520.0  189810.0  189920.0      0   \n",
       "\n",
       "           <Close>  <Vol>  <Openint>  \n",
       "Dollar d    9040.0  type5     111862  \n",
       "       d    9220.0  type5     111862  \n",
       "       d    9400.0  type5     111862  \n",
       "       d    9430.0  type5     111862  \n",
       "       d    9470.0  type5     111862  \n",
       "...            ...    ...        ...  \n",
       "       d  188430.0  type5     111862  \n",
       "       d  188410.0  type5     111862  \n",
       "       d  190430.0  type5     111862  \n",
       "       d  190520.0  type5     111862  \n",
       "       d  189920.0  type5     111862  \n",
       "\n",
       "[3569 rows x 10 columns]"
      ]
     },
     "execution_count": 11,
     "metadata": {},
     "output_type": "execute_result"
    }
   ],
   "source": [
    "df"
   ]
  },
  {
   "cell_type": "code",
   "execution_count": 3,
   "metadata": {},
   "outputs": [
    {
     "ename": "ValueError",
     "evalue": "time data '9040' does not match format '%Y%m%d' (match)",
     "output_type": "error",
     "traceback": [
      "\u001b[1;31m---------------------------------------------------------------------------\u001b[0m",
      "\u001b[1;31mTypeError\u001b[0m                                 Traceback (most recent call last)",
      "\u001b[1;32mc:\\users\\light\\appdata\\local\\programs\\python\\python38\\lib\\site-packages\\pandas\\core\\tools\\datetimes.py\u001b[0m in \u001b[0;36m_convert_listlike_datetimes\u001b[1;34m(arg, format, name, tz, unit, errors, infer_datetime_format, dayfirst, yearfirst, exact)\u001b[0m\n\u001b[0;32m    431\u001b[0m             \u001b[1;32mtry\u001b[0m\u001b[1;33m:\u001b[0m\u001b[1;33m\u001b[0m\u001b[1;33m\u001b[0m\u001b[0m\n\u001b[1;32m--> 432\u001b[1;33m                 \u001b[0mvalues\u001b[0m\u001b[1;33m,\u001b[0m \u001b[0mtz\u001b[0m \u001b[1;33m=\u001b[0m \u001b[0mconversion\u001b[0m\u001b[1;33m.\u001b[0m\u001b[0mdatetime_to_datetime64\u001b[0m\u001b[1;33m(\u001b[0m\u001b[0marg\u001b[0m\u001b[1;33m)\u001b[0m\u001b[1;33m\u001b[0m\u001b[1;33m\u001b[0m\u001b[0m\n\u001b[0m\u001b[0;32m    433\u001b[0m                 \u001b[1;32mreturn\u001b[0m \u001b[0mDatetimeIndex\u001b[0m\u001b[1;33m.\u001b[0m\u001b[0m_simple_new\u001b[0m\u001b[1;33m(\u001b[0m\u001b[0mvalues\u001b[0m\u001b[1;33m,\u001b[0m \u001b[0mname\u001b[0m\u001b[1;33m=\u001b[0m\u001b[0mname\u001b[0m\u001b[1;33m,\u001b[0m \u001b[0mtz\u001b[0m\u001b[1;33m=\u001b[0m\u001b[0mtz\u001b[0m\u001b[1;33m)\u001b[0m\u001b[1;33m\u001b[0m\u001b[1;33m\u001b[0m\u001b[0m\n",
      "\u001b[1;32mpandas\\_libs\\tslibs\\conversion.pyx\u001b[0m in \u001b[0;36mpandas._libs.tslibs.conversion.datetime_to_datetime64\u001b[1;34m()\u001b[0m\n",
      "\u001b[1;31mTypeError\u001b[0m: Unrecognized value type: <class 'int'>",
      "\nDuring handling of the above exception, another exception occurred:\n",
      "\u001b[1;31mValueError\u001b[0m                                Traceback (most recent call last)",
      "\u001b[1;32m<ipython-input-3-abf1717d9881>\u001b[0m in \u001b[0;36m<module>\u001b[1;34m\u001b[0m\n\u001b[0;32m      1\u001b[0m \u001b[1;31m## Datetime conversion\u001b[0m\u001b[1;33m\u001b[0m\u001b[1;33m\u001b[0m\u001b[1;33m\u001b[0m\u001b[0m\n\u001b[1;32m----> 2\u001b[1;33m \u001b[0mdf\u001b[0m\u001b[1;33m[\u001b[0m\u001b[1;34m'<DTYYYYMMDD>'\u001b[0m\u001b[1;33m]\u001b[0m \u001b[1;33m=\u001b[0m \u001b[0mpd\u001b[0m\u001b[1;33m.\u001b[0m\u001b[0mto_datetime\u001b[0m\u001b[1;33m(\u001b[0m\u001b[0mdf\u001b[0m\u001b[1;33m[\u001b[0m\u001b[1;34m'<DTYYYYMMDD>'\u001b[0m\u001b[1;33m]\u001b[0m\u001b[1;33m,\u001b[0m \u001b[0mformat\u001b[0m\u001b[1;33m=\u001b[0m\u001b[1;34m'%Y%m%d'\u001b[0m\u001b[1;33m)\u001b[0m\u001b[1;33m\u001b[0m\u001b[1;33m\u001b[0m\u001b[0m\n\u001b[0m\u001b[0;32m      3\u001b[0m \u001b[1;33m\u001b[0m\u001b[0m\n\u001b[0;32m      4\u001b[0m \u001b[1;31m# Dropping any NaNs\u001b[0m\u001b[1;33m\u001b[0m\u001b[1;33m\u001b[0m\u001b[1;33m\u001b[0m\u001b[0m\n\u001b[0;32m      5\u001b[0m \u001b[0mdf\u001b[0m\u001b[1;33m.\u001b[0m\u001b[0mdropna\u001b[0m\u001b[1;33m(\u001b[0m\u001b[0minplace\u001b[0m\u001b[1;33m=\u001b[0m\u001b[1;32mTrue\u001b[0m\u001b[1;33m)\u001b[0m\u001b[1;33m\u001b[0m\u001b[1;33m\u001b[0m\u001b[0m\n",
      "\u001b[1;32mc:\\users\\light\\appdata\\local\\programs\\python\\python38\\lib\\site-packages\\pandas\\core\\tools\\datetimes.py\u001b[0m in \u001b[0;36mto_datetime\u001b[1;34m(arg, errors, dayfirst, yearfirst, utc, format, exact, unit, infer_datetime_format, origin, cache)\u001b[0m\n\u001b[0;32m    722\u001b[0m                 \u001b[0mresult\u001b[0m \u001b[1;33m=\u001b[0m \u001b[0mresult\u001b[0m\u001b[1;33m.\u001b[0m\u001b[0mtz_localize\u001b[0m\u001b[1;33m(\u001b[0m\u001b[0mtz\u001b[0m\u001b[1;33m)\u001b[0m\u001b[1;33m\u001b[0m\u001b[1;33m\u001b[0m\u001b[0m\n\u001b[0;32m    723\u001b[0m     \u001b[1;32melif\u001b[0m \u001b[0misinstance\u001b[0m\u001b[1;33m(\u001b[0m\u001b[0marg\u001b[0m\u001b[1;33m,\u001b[0m \u001b[0mABCSeries\u001b[0m\u001b[1;33m)\u001b[0m\u001b[1;33m:\u001b[0m\u001b[1;33m\u001b[0m\u001b[1;33m\u001b[0m\u001b[0m\n\u001b[1;32m--> 724\u001b[1;33m         \u001b[0mcache_array\u001b[0m \u001b[1;33m=\u001b[0m \u001b[0m_maybe_cache\u001b[0m\u001b[1;33m(\u001b[0m\u001b[0marg\u001b[0m\u001b[1;33m,\u001b[0m \u001b[0mformat\u001b[0m\u001b[1;33m,\u001b[0m \u001b[0mcache\u001b[0m\u001b[1;33m,\u001b[0m \u001b[0mconvert_listlike\u001b[0m\u001b[1;33m)\u001b[0m\u001b[1;33m\u001b[0m\u001b[1;33m\u001b[0m\u001b[0m\n\u001b[0m\u001b[0;32m    725\u001b[0m         \u001b[1;32mif\u001b[0m \u001b[1;32mnot\u001b[0m \u001b[0mcache_array\u001b[0m\u001b[1;33m.\u001b[0m\u001b[0mempty\u001b[0m\u001b[1;33m:\u001b[0m\u001b[1;33m\u001b[0m\u001b[1;33m\u001b[0m\u001b[0m\n\u001b[0;32m    726\u001b[0m             \u001b[0mresult\u001b[0m \u001b[1;33m=\u001b[0m \u001b[0marg\u001b[0m\u001b[1;33m.\u001b[0m\u001b[0mmap\u001b[0m\u001b[1;33m(\u001b[0m\u001b[0mcache_array\u001b[0m\u001b[1;33m)\u001b[0m\u001b[1;33m\u001b[0m\u001b[1;33m\u001b[0m\u001b[0m\n",
      "\u001b[1;32mc:\\users\\light\\appdata\\local\\programs\\python\\python38\\lib\\site-packages\\pandas\\core\\tools\\datetimes.py\u001b[0m in \u001b[0;36m_maybe_cache\u001b[1;34m(arg, format, cache, convert_listlike)\u001b[0m\n\u001b[0;32m    150\u001b[0m         \u001b[0munique_dates\u001b[0m \u001b[1;33m=\u001b[0m \u001b[0munique\u001b[0m\u001b[1;33m(\u001b[0m\u001b[0marg\u001b[0m\u001b[1;33m)\u001b[0m\u001b[1;33m\u001b[0m\u001b[1;33m\u001b[0m\u001b[0m\n\u001b[0;32m    151\u001b[0m         \u001b[1;32mif\u001b[0m \u001b[0mlen\u001b[0m\u001b[1;33m(\u001b[0m\u001b[0munique_dates\u001b[0m\u001b[1;33m)\u001b[0m \u001b[1;33m<\u001b[0m \u001b[0mlen\u001b[0m\u001b[1;33m(\u001b[0m\u001b[0marg\u001b[0m\u001b[1;33m)\u001b[0m\u001b[1;33m:\u001b[0m\u001b[1;33m\u001b[0m\u001b[1;33m\u001b[0m\u001b[0m\n\u001b[1;32m--> 152\u001b[1;33m             \u001b[0mcache_dates\u001b[0m \u001b[1;33m=\u001b[0m \u001b[0mconvert_listlike\u001b[0m\u001b[1;33m(\u001b[0m\u001b[0munique_dates\u001b[0m\u001b[1;33m,\u001b[0m \u001b[0mformat\u001b[0m\u001b[1;33m)\u001b[0m\u001b[1;33m\u001b[0m\u001b[1;33m\u001b[0m\u001b[0m\n\u001b[0m\u001b[0;32m    153\u001b[0m             \u001b[0mcache_array\u001b[0m \u001b[1;33m=\u001b[0m \u001b[0mSeries\u001b[0m\u001b[1;33m(\u001b[0m\u001b[0mcache_dates\u001b[0m\u001b[1;33m,\u001b[0m \u001b[0mindex\u001b[0m\u001b[1;33m=\u001b[0m\u001b[0munique_dates\u001b[0m\u001b[1;33m)\u001b[0m\u001b[1;33m\u001b[0m\u001b[1;33m\u001b[0m\u001b[0m\n\u001b[0;32m    154\u001b[0m     \u001b[1;32mreturn\u001b[0m \u001b[0mcache_array\u001b[0m\u001b[1;33m\u001b[0m\u001b[1;33m\u001b[0m\u001b[0m\n",
      "\u001b[1;32mc:\\users\\light\\appdata\\local\\programs\\python\\python38\\lib\\site-packages\\pandas\\core\\tools\\datetimes.py\u001b[0m in \u001b[0;36m_convert_listlike_datetimes\u001b[1;34m(arg, format, name, tz, unit, errors, infer_datetime_format, dayfirst, yearfirst, exact)\u001b[0m\n\u001b[0;32m    433\u001b[0m                 \u001b[1;32mreturn\u001b[0m \u001b[0mDatetimeIndex\u001b[0m\u001b[1;33m.\u001b[0m\u001b[0m_simple_new\u001b[0m\u001b[1;33m(\u001b[0m\u001b[0mvalues\u001b[0m\u001b[1;33m,\u001b[0m \u001b[0mname\u001b[0m\u001b[1;33m=\u001b[0m\u001b[0mname\u001b[0m\u001b[1;33m,\u001b[0m \u001b[0mtz\u001b[0m\u001b[1;33m=\u001b[0m\u001b[0mtz\u001b[0m\u001b[1;33m)\u001b[0m\u001b[1;33m\u001b[0m\u001b[1;33m\u001b[0m\u001b[0m\n\u001b[0;32m    434\u001b[0m             \u001b[1;32mexcept\u001b[0m \u001b[1;33m(\u001b[0m\u001b[0mValueError\u001b[0m\u001b[1;33m,\u001b[0m \u001b[0mTypeError\u001b[0m\u001b[1;33m)\u001b[0m\u001b[1;33m:\u001b[0m\u001b[1;33m\u001b[0m\u001b[1;33m\u001b[0m\u001b[0m\n\u001b[1;32m--> 435\u001b[1;33m                 \u001b[1;32mraise\u001b[0m \u001b[0me\u001b[0m\u001b[1;33m\u001b[0m\u001b[1;33m\u001b[0m\u001b[0m\n\u001b[0m\u001b[0;32m    436\u001b[0m \u001b[1;33m\u001b[0m\u001b[0m\n\u001b[0;32m    437\u001b[0m     \u001b[1;32mif\u001b[0m \u001b[0mresult\u001b[0m \u001b[1;32mis\u001b[0m \u001b[1;32mNone\u001b[0m\u001b[1;33m:\u001b[0m\u001b[1;33m\u001b[0m\u001b[1;33m\u001b[0m\u001b[0m\n",
      "\u001b[1;32mc:\\users\\light\\appdata\\local\\programs\\python\\python38\\lib\\site-packages\\pandas\\core\\tools\\datetimes.py\u001b[0m in \u001b[0;36m_convert_listlike_datetimes\u001b[1;34m(arg, format, name, tz, unit, errors, infer_datetime_format, dayfirst, yearfirst, exact)\u001b[0m\n\u001b[0;32m    397\u001b[0m             \u001b[1;32mif\u001b[0m \u001b[0mresult\u001b[0m \u001b[1;32mis\u001b[0m \u001b[1;32mNone\u001b[0m\u001b[1;33m:\u001b[0m\u001b[1;33m\u001b[0m\u001b[1;33m\u001b[0m\u001b[0m\n\u001b[0;32m    398\u001b[0m                 \u001b[1;32mtry\u001b[0m\u001b[1;33m:\u001b[0m\u001b[1;33m\u001b[0m\u001b[1;33m\u001b[0m\u001b[0m\n\u001b[1;32m--> 399\u001b[1;33m                     result, timezones = array_strptime(\n\u001b[0m\u001b[0;32m    400\u001b[0m                         \u001b[0marg\u001b[0m\u001b[1;33m,\u001b[0m \u001b[0mformat\u001b[0m\u001b[1;33m,\u001b[0m \u001b[0mexact\u001b[0m\u001b[1;33m=\u001b[0m\u001b[0mexact\u001b[0m\u001b[1;33m,\u001b[0m \u001b[0merrors\u001b[0m\u001b[1;33m=\u001b[0m\u001b[0merrors\u001b[0m\u001b[1;33m\u001b[0m\u001b[1;33m\u001b[0m\u001b[0m\n\u001b[0;32m    401\u001b[0m                     )\n",
      "\u001b[1;32mpandas\\_libs\\tslibs\\strptime.pyx\u001b[0m in \u001b[0;36mpandas._libs.tslibs.strptime.array_strptime\u001b[1;34m()\u001b[0m\n",
      "\u001b[1;31mValueError\u001b[0m: time data '9040' does not match format '%Y%m%d' (match)"
     ]
    }
   ],
   "source": [
    "## Datetime conversion\n",
    "df['<DTYYYYMMDD>'] = pd.to_datetime(df['<DTYYYYMMDD>'], format='%Y%m%d')\n",
    "\n",
    "# Dropping any NaNs\n",
    "df.dropna(inplace=True)\n",
    "\n",
    "df.rename(columns={\"<DTYYYYMMDD>\": \"Date\"}, inplace=True)"
   ]
  },
  {
   "cell_type": "code",
   "execution_count": null,
   "metadata": {
    "scrolled": true
   },
   "outputs": [],
   "source": [
    "d = []\n",
    "for i in range(len(df[\"Date\"])):\n",
    "    d.append(alical.Gregorian(str(df[\"Date\"][i])[0:10]).persian_string()) #Tabdil tarikh be Irani"
   ]
  },
  {
   "cell_type": "code",
   "execution_count": null,
   "metadata": {},
   "outputs": [],
   "source": [
    "for i in range(len(df[\"Date\"])):\n",
    "    df[\"Date\"] = df[\"Date\"].replace(df[\"Date\"][i], d[i])"
   ]
  },
  {
   "cell_type": "code",
   "execution_count": null,
   "metadata": {},
   "outputs": [],
   "source": [
    "date_list = []\n",
    "for date in df[\"Date\"]:\n",
    "    date_list.append(date[:7])\n",
    "    \n",
    "Dates = df[\"Date\"].tolist() #kole tarikh ha\n",
    "myDates = list(dict.fromkeys(date_list)) #Eshterake Tatikh ha"
   ]
  },
  {
   "cell_type": "markdown",
   "metadata": {},
   "source": [
    "# First max and min:"
   ]
  },
  {
   "cell_type": "code",
   "execution_count": null,
   "metadata": {},
   "outputs": [],
   "source": [
    "ext = np.zeros((len(myDates), 2)) #[[max], [min]]\n",
    "ind = np.zeros((len(myDates), 1)).tolist()\n",
    "\n",
    "#first indicator\n",
    "for date in Dates:\n",
    "    if (date[:7] in myDates[0]):\n",
    "        ind1 = Dates.index(date) #یافتن مکان آخرین روز ماه\n",
    "\n",
    "ind[0] = ind1\n",
    "\n",
    "a = [[], [], [], []]\n",
    "names = [\"<Open>\", \"<High>\", \"<Low>\", \"<Close>\"]\n",
    "for i in range(4):\n",
    "    for j in names:\n",
    "        a[i] = df[j][0:ind1].tolist()\n",
    "        \n",
    "ext[0][0] = max(max(a))\n",
    "ext[0][1] = min(min(a))"
   ]
  },
  {
   "cell_type": "markdown",
   "metadata": {},
   "source": [
    "# Calculating all of the extremums:"
   ]
  },
  {
   "cell_type": "code",
   "execution_count": null,
   "metadata": {},
   "outputs": [],
   "source": [
    "for i in range(1, len(myDates)):\n",
    "    for date in Dates:\n",
    "        if (date[:7] in myDates[i]):\n",
    "            ind1 = Dates.index(date)\n",
    "    ind[i] = ind1\n",
    "    a = [[], [], [], []]\n",
    "    for ii in range(4):\n",
    "        for j in names:\n",
    "            a[ii] = df[j][ind[i-1]:ind[i]].tolist()\n",
    "    ext[i][0] = max(max(a))\n",
    "    ext[i][1] = min(min(a))"
   ]
  },
  {
   "cell_type": "code",
   "execution_count": null,
   "metadata": {
    "scrolled": false
   },
   "outputs": [],
   "source": [
    "Data = {\"Date\": myDates,\n",
    "        \"Max\": ext[:, 0],\n",
    "        \"Min\": ext[:, 1]}\n",
    "DataF = pd.DataFrame(Data)\n",
    "# DataF.set_index('Date', inplace=True)"
   ]
  },
  {
   "cell_type": "code",
   "execution_count": null,
   "metadata": {},
   "outputs": [],
   "source": [
    "DataF.to_csv(\"output.csv\")"
   ]
  },
  {
   "cell_type": "code",
   "execution_count": null,
   "metadata": {},
   "outputs": [],
   "source": [
    "import pylab as pp"
   ]
  },
  {
   "cell_type": "code",
   "execution_count": null,
   "metadata": {},
   "outputs": [],
   "source": [
    "%matplotlib notebook\n",
    "\n",
    "pp.plot(DataF[\"Date\"], DataF[\"Max\"], color='skyblue', label = \"Max\")\n",
    "pp.plot(DataF[\"Date\"], DataF[\"Min\"], color='red', label = \"Min\")\n",
    "pp.legend();"
   ]
  },
  {
   "cell_type": "code",
   "execution_count": null,
   "metadata": {},
   "outputs": [],
   "source": []
  }
 ],
 "metadata": {
  "kernelspec": {
   "display_name": "Python 3",
   "language": "python",
   "name": "python3"
  },
  "language_info": {
   "codemirror_mode": {
    "name": "ipython",
    "version": 3
   },
   "file_extension": ".py",
   "mimetype": "text/x-python",
   "name": "python",
   "nbconvert_exporter": "python",
   "pygments_lexer": "ipython3",
   "version": "3.8.1"
  }
 },
 "nbformat": 4,
 "nbformat_minor": 4
}
