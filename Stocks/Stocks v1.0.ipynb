{
 "cells": [
  {
   "cell_type": "code",
   "execution_count": 1,
   "metadata": {},
   "outputs": [],
   "source": [
    "import os\n",
    "import numpy as np\n",
    "import csv\n",
    "import pandas as pd"
   ]
  },
  {
   "cell_type": "code",
   "execution_count": 2,
   "metadata": {},
   "outputs": [],
   "source": [
    "loc = \"D:\\Stocks\\Python\"\n",
    "os.chdir(loc)\n",
    "file_name = \"TEPIX_D_IDX.txt\""
   ]
  },
  {
   "cell_type": "code",
   "execution_count": 3,
   "metadata": {},
   "outputs": [],
   "source": [
    "date    = []\n",
    "Open    = []\n",
    "high    = []\n",
    "low     = []\n",
    "close   = []\n",
    "vol     = []\n",
    "openInt = []"
   ]
  },
  {
   "cell_type": "code",
   "execution_count": 4,
   "metadata": {},
   "outputs": [],
   "source": [
    "with open(file_name, 'r') as csvfile:\n",
    "    Data1 = csv.reader(csvfile, delimiter = ',')\n",
    "    for row in Data1:\n",
    "        date.append(row[2])\n",
    "        Open.append(row[4])\n",
    "        high.append(row[5])\n",
    "        low.append(row[6])\n",
    "        close.append(row[7])\n",
    "        vol.append(row[8])\n",
    "        openInt.append(row[9])"
   ]
  },
  {
   "cell_type": "code",
   "execution_count": 5,
   "metadata": {},
   "outputs": [],
   "source": [
    "date.pop(0);\n",
    "Open.pop(0);\n",
    "high.pop(0);\n",
    "low.pop(0);\n",
    "close.pop(0);\n",
    "vol.pop(0);\n",
    "openInt.pop(0);"
   ]
  },
  {
   "cell_type": "code",
   "execution_count": 6,
   "metadata": {
    "scrolled": true
   },
   "outputs": [],
   "source": [
    "for i in range(len(date)):\n",
    "    date[i]  = int(date[i])   \n",
    "    Open[i]  = float(Open[i])\n",
    "    high[i]  = float(high[i])\n",
    "    low[i]   = float(low[i])\n",
    "    close[i] = float(close[i])\n",
    "    vol[i]   = float(vol[i])\n",
    "    openInt[i]  = float(openInt[i])"
   ]
  },
  {
   "cell_type": "code",
   "execution_count": null,
   "metadata": {},
   "outputs": [],
   "source": []
  }
 ],
 "metadata": {
  "kernelspec": {
   "display_name": "Python 3",
   "language": "python",
   "name": "python3"
  },
  "language_info": {
   "codemirror_mode": {
    "name": "ipython",
    "version": 3
   },
   "file_extension": ".py",
   "mimetype": "text/x-python",
   "name": "python",
   "nbconvert_exporter": "python",
   "pygments_lexer": "ipython3",
   "version": "3.6.7"
  }
 },
 "nbformat": 4,
 "nbformat_minor": 2
}
