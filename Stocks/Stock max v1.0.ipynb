{
 "cells": [
  {
   "cell_type": "code",
   "execution_count": 1,
   "metadata": {},
   "outputs": [],
   "source": [
    "import numpy as np\n",
    "import pylab as pp\n",
    "import pandas as pd\n",
    "import os\n",
    "\n",
    "pp.style.use(\"bmh\")\n",
    "\n",
    "os.chdir(\"D:\\Stocks\\PersianCal\")\n",
    "import PersianCal"
   ]
  },
  {
   "cell_type": "code",
   "execution_count": 2,
   "metadata": {},
   "outputs": [],
   "source": [
    "filename = \"SekeJadid_D_COM - Copy.csv\"\n",
    "loc = \"D:\\Stocks\\Data\"\n",
    "\n",
    "os.chdir(loc)\n",
    "\n",
    "# Loading in the Data\n",
    "df = pd.read_csv(filename, delimiter=\",\")"
   ]
  },
  {
   "cell_type": "code",
   "execution_count": 3,
   "metadata": {},
   "outputs": [],
   "source": [
    "## Datetime conversion\n",
    "df['<DTYYYYMMDD>'] = pd.to_datetime(df['<DTYYYYMMDD>'], format='%Y%m%d')\n",
    "\n",
    "# Dropping any NaNs\n",
    "df.dropna(inplace=True)\n",
    "\n",
    "df.rename(columns={\"<DTYYYYMMDD>\": \"Date\"}, inplace=True)"
   ]
  },
  {
   "cell_type": "code",
   "execution_count": 4,
   "metadata": {
    "scrolled": true
   },
   "outputs": [],
   "source": [
    "d = []\n",
    "for i in range(len(df[\"Date\"])):\n",
    "    d.append(PersianCal.Gregorian(str(df[\"Date\"][i])[0:10]).persian_string()) #Tabdil tarikh be Irani"
   ]
  },
  {
   "cell_type": "code",
   "execution_count": 5,
   "metadata": {},
   "outputs": [],
   "source": [
    "for i in range(len(df[\"Date\"])):\n",
    "    df[\"Date\"] = df[\"Date\"].replace(df[\"Date\"][i], d[i])"
   ]
  },
  {
   "cell_type": "code",
   "execution_count": 6,
   "metadata": {},
   "outputs": [],
   "source": [
    "date_list = []\n",
    "for date in df[\"Date\"]:\n",
    "    date_list.append(date[:7])\n",
    "    \n",
    "Dates = df[\"Date\"].tolist() #kole tarikh ha\n",
    "myDates = list(dict.fromkeys(date_list)) #Eshterake Tatikh ha"
   ]
  },
  {
   "cell_type": "code",
   "execution_count": 7,
   "metadata": {},
   "outputs": [],
   "source": [
    "ext = np.zeros((len(myDates), 2)) #[[max], [min]]\n",
    "ind = np.zeros((len(myDates), 1)).tolist()\n",
    "\n",
    "#first indicator\n",
    "for date in Dates:\n",
    "    if (date[:7] in myDates[0]):\n",
    "        ind1 = Dates.index(date) #یافتن مکان آخرین روز ماه\n",
    "\n",
    "ind[0] = ind1"
   ]
  },
  {
   "cell_type": "markdown",
   "metadata": {},
   "source": [
    "# First max and min:"
   ]
  },
  {
   "cell_type": "code",
   "execution_count": 8,
   "metadata": {
    "scrolled": false
   },
   "outputs": [],
   "source": [
    "a = [[], [], [], []]\n",
    "names = [\"<Open>\", \"<High>\", \"<Low>\", \"<Close>\"]\n",
    "\n",
    "for i in range(4):\n",
    "    for j in names:\n",
    "        a[i] = df[j][0+1:ind1+1].tolist()\n",
    "\n",
    "ext[0][0] = max(max(a))\n",
    "ext[0][1] = min(min(a))"
   ]
  },
  {
   "cell_type": "markdown",
   "metadata": {},
   "source": [
    "# Calculating all of the extremums:"
   ]
  },
  {
   "cell_type": "code",
   "execution_count": 9,
   "metadata": {},
   "outputs": [],
   "source": [
    "for i in range(1, len(myDates)):\n",
    "    for date in Dates:\n",
    "        if (date[:7] in myDates[i]):\n",
    "            ind1 = Dates.index(date)\n",
    "    ind[i] = ind1\n",
    "    a = [[], [], [], []]\n",
    "    for ii in range(4):\n",
    "        for j in names:\n",
    "            a[ii] = df[j][ind[i-1]+1:ind[i]+1].tolist()\n",
    "    ext[i][0] = max(max(a))\n",
    "    ext[i][1] = min(min(a))"
   ]
  },
  {
   "cell_type": "code",
   "execution_count": 10,
   "metadata": {
    "scrolled": false
   },
   "outputs": [],
   "source": [
    "Data = {\"Date\": myDates,\n",
    "        \"Max\": ext[:, 0],\n",
    "        \"Min\": ext[:, 1]}\n",
    "DataF = pd.DataFrame(Data)\n",
    "DataF.set_index('Date', inplace=True)\n",
    "\n",
    "DataF.to_csv(\"output.csv\")"
   ]
  },
  {
   "cell_type": "code",
   "execution_count": 12,
   "metadata": {},
   "outputs": [],
   "source": [
    "# %matplotlib notebook\n",
    "# import pylab as pp\n",
    "\n",
    "# pp.plot(DataF[\"Date\"], DataF[\"Max\"], color='skyblue', label = \"Max\")\n",
    "# pp.plot(DataF[\"Date\"], DataF[\"Min\"], color='red', label = \"Min\")\n",
    "# pp.legend();"
   ]
  },
  {
   "cell_type": "code",
   "execution_count": 15,
   "metadata": {},
   "outputs": [],
   "source": [
    "def getIndexes(dfObj, value):\n",
    "    ''' Get index positions of value in dataframe i.e. dfObj.'''\n",
    "    listOfPos = list()\n",
    "    # Get bool dataframe with True at positions where the given value exists\n",
    "    result = dfObj.isin([value])\n",
    "    # Get list of columns that contains the value\n",
    "    seriesObj = result.any()\n",
    "    columnNames = list(seriesObj[seriesObj == True].index)\n",
    "    # Iterate over list of columns and fetch the rows indexes where value exists\n",
    "    for col in columnNames:\n",
    "        rows = list(result[col][result[col] == True].index)\n",
    "        for row in rows:\n",
    "            listOfPos.append((row, col))\n",
    "    # Return a list of tuples indicating the positions of value in the dataframe\n",
    "    return listOfPos"
   ]
  },
  {
   "cell_type": "code",
   "execution_count": 207,
   "metadata": {
    "scrolled": true
   },
   "outputs": [],
   "source": [
    "# listOfPositions = getIndexes(df[ind[4]+1:ind[5]+1], ext[5][1])\n",
    "# print('Index positions of 1835000 in Dataframe: ')\n",
    "# for i in range(len(listOfPositions)):\n",
    "#     print('Position ', i, ' (Row index , Column Name) : ', listOfPositions[i])"
   ]
  },
  {
   "cell_type": "code",
   "execution_count": 203,
   "metadata": {
    "scrolled": false
   },
   "outputs": [],
   "source": [
    "minDate = []\n",
    "firstPos = getIndexes(df[0+1:ind[0]], ext[0][0])\n",
    "minDate.append(df.Date[firstPos[0][0]])\n",
    "\n",
    "for j in range(len(ext)-1):\n",
    "    listOfPositions = getIndexes(df[ind[j]+1:ind[j+1]+1], ext[j+1][1])\n",
    "    for i in range(len(listOfPositions)):\n",
    "        minDate.append(df.Date[listOfPositions[0][0]])\n",
    "\n",
    "minDate = list(dict.fromkeys(minDate))"
   ]
  },
  {
   "cell_type": "code",
   "execution_count": 208,
   "metadata": {},
   "outputs": [],
   "source": [
    "maxDate = []\n",
    "firstPos = getIndexes(df[0+1:ind[0]], ext[0][0])\n",
    "maxDate.append(df.Date[firstPos[0][0]])\n",
    "\n",
    "for j in range(len(ext)-1):\n",
    "    listOfPositions = getIndexes(df[ind[j]+1:ind[j+1]+1], ext[j+1][0])\n",
    "    for i in range(len(listOfPositions)):\n",
    "        maxDate.append(df.Date[listOfPositions[0][0]])\n",
    "        \n",
    "maxDate = list(dict.fromkeys(maxDate))"
   ]
  },
  {
   "cell_type": "code",
   "execution_count": 239,
   "metadata": {
    "scrolled": true
   },
   "outputs": [],
   "source": [
    "maxD = {\"Date\": maxDate,\n",
    "        \"Max\": ext[:, 0]}\n",
    "\n",
    "maxDF = pd.DataFrame(maxD)"
   ]
  },
  {
   "cell_type": "code",
   "execution_count": 240,
   "metadata": {},
   "outputs": [],
   "source": [
    "minD = {\"Date\": minDate,\n",
    "        \"Min\": ext[:, 1]}\n",
    "\n",
    "minDF = pd.DataFrame(minD)"
   ]
  },
  {
   "cell_type": "code",
   "execution_count": 241,
   "metadata": {},
   "outputs": [],
   "source": [
    "MM = {\"Max Date\": maxDate,\n",
    "      \"Max\": ext[:, 0],\n",
    "      \"Min Date\": minDate,\n",
    "      \"Min\": ext[:, 1]}\n",
    "\n",
    "MMF = pd.DataFrame(MM)\n",
    "MMF\n"
   ]
  },
  {
   "cell_type": "code",
   "execution_count": 272,
   "metadata": {},
   "outputs": [],
   "source": [
    "# first = np.zeros((len(maxDate), 1))\n",
    "# last = np.zeros((len(maxDate), 1))\n",
    "\n",
    "first = []\n",
    "last = []\n",
    "\n",
    "for i in range(len(maxDate)):\n",
    "    if (int(maxDate[1][8:10]) < int(minDate[1][8:10])):\n",
    "        first.append(ext[i, 0])\n",
    "        last.append(ext[i, 1])\n",
    "    else:\n",
    "        first.append(ext[i, 1])\n",
    "        last.append(ext[i, 0])"
   ]
  },
  {
   "cell_type": "code",
   "execution_count": 273,
   "metadata": {},
   "outputs": [
    {
     "data": {
      "text/html": [
       "<div>\n",
       "<style scoped>\n",
       "    .dataframe tbody tr th:only-of-type {\n",
       "        vertical-align: middle;\n",
       "    }\n",
       "\n",
       "    .dataframe tbody tr th {\n",
       "        vertical-align: top;\n",
       "    }\n",
       "\n",
       "    .dataframe thead th {\n",
       "        text-align: right;\n",
       "    }\n",
       "</style>\n",
       "<table border=\"1\" class=\"dataframe\">\n",
       "  <thead>\n",
       "    <tr style=\"text-align: right;\">\n",
       "      <th></th>\n",
       "      <th>Date</th>\n",
       "      <th>First</th>\n",
       "      <th>Last</th>\n",
       "    </tr>\n",
       "  </thead>\n",
       "  <tbody>\n",
       "    <tr>\n",
       "      <th>0</th>\n",
       "      <td>1386-09</td>\n",
       "      <td>1830000.0</td>\n",
       "      <td>1840000.0</td>\n",
       "    </tr>\n",
       "    <tr>\n",
       "      <th>1</th>\n",
       "      <td>1386-10</td>\n",
       "      <td>1855000.0</td>\n",
       "      <td>1990000.0</td>\n",
       "    </tr>\n",
       "    <tr>\n",
       "      <th>2</th>\n",
       "      <td>1386-11</td>\n",
       "      <td>1975000.0</td>\n",
       "      <td>2165000.0</td>\n",
       "    </tr>\n",
       "    <tr>\n",
       "      <th>3</th>\n",
       "      <td>1386-12</td>\n",
       "      <td>2160000.0</td>\n",
       "      <td>2330000.0</td>\n",
       "    </tr>\n",
       "    <tr>\n",
       "      <th>4</th>\n",
       "      <td>1387-01</td>\n",
       "      <td>2070000.0</td>\n",
       "      <td>2320000.0</td>\n",
       "    </tr>\n",
       "    <tr>\n",
       "      <th>...</th>\n",
       "      <td>...</td>\n",
       "      <td>...</td>\n",
       "      <td>...</td>\n",
       "    </tr>\n",
       "    <tr>\n",
       "      <th>145</th>\n",
       "      <td>1398-10</td>\n",
       "      <td>45110000.0</td>\n",
       "      <td>51310000.0</td>\n",
       "    </tr>\n",
       "    <tr>\n",
       "      <th>146</th>\n",
       "      <td>1398-11</td>\n",
       "      <td>48450000.0</td>\n",
       "      <td>53060000.0</td>\n",
       "    </tr>\n",
       "    <tr>\n",
       "      <th>147</th>\n",
       "      <td>1398-12</td>\n",
       "      <td>53300000.0</td>\n",
       "      <td>61410000.0</td>\n",
       "    </tr>\n",
       "    <tr>\n",
       "      <th>148</th>\n",
       "      <td>1399-01</td>\n",
       "      <td>61270000.0</td>\n",
       "      <td>65330000.0</td>\n",
       "    </tr>\n",
       "    <tr>\n",
       "      <th>149</th>\n",
       "      <td>1399-02</td>\n",
       "      <td>62250000.0</td>\n",
       "      <td>69970000.0</td>\n",
       "    </tr>\n",
       "  </tbody>\n",
       "</table>\n",
       "<p>150 rows × 3 columns</p>\n",
       "</div>"
      ],
      "text/plain": [
       "        Date       First        Last\n",
       "0    1386-09   1830000.0   1840000.0\n",
       "1    1386-10   1855000.0   1990000.0\n",
       "2    1386-11   1975000.0   2165000.0\n",
       "3    1386-12   2160000.0   2330000.0\n",
       "4    1387-01   2070000.0   2320000.0\n",
       "..       ...         ...         ...\n",
       "145  1398-10  45110000.0  51310000.0\n",
       "146  1398-11  48450000.0  53060000.0\n",
       "147  1398-12  53300000.0  61410000.0\n",
       "148  1399-01  61270000.0  65330000.0\n",
       "149  1399-02  62250000.0  69970000.0\n",
       "\n",
       "[150 rows x 3 columns]"
      ]
     },
     "execution_count": 273,
     "metadata": {},
     "output_type": "execute_result"
    }
   ],
   "source": [
    "res = {\"Date\": myDates,\n",
    "       \"First\": first,\n",
    "       \"Last\": last}\n",
    "resF = pd.DataFrame(res)\n",
    "resF"
   ]
  },
  {
   "cell_type": "code",
   "execution_count": null,
   "metadata": {},
   "outputs": [],
   "source": []
  }
 ],
 "metadata": {
  "kernelspec": {
   "display_name": "Python 3",
   "language": "python",
   "name": "python3"
  },
  "language_info": {
   "codemirror_mode": {
    "name": "ipython",
    "version": 3
   },
   "file_extension": ".py",
   "mimetype": "text/x-python",
   "name": "python",
   "nbconvert_exporter": "python",
   "pygments_lexer": "ipython3",
   "version": "3.8.1"
  }
 },
 "nbformat": 4,
 "nbformat_minor": 4
}
