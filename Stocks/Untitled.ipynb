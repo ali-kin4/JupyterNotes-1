{
 "cells": [
  {
   "cell_type": "code",
   "execution_count": 1,
   "metadata": {},
   "outputs": [],
   "source": [
    "import numpy as np\n",
    "import pandas as pd\n",
    "from tkinter import filedialog"
   ]
  },
  {
   "cell_type": "code",
   "execution_count": null,
   "metadata": {},
   "outputs": [],
   "source": [
    "names = [\"<Open>\", \"<High>\", \"<Low>\", \"<Close>\"]\n",
    "\n",
    "save_folder = filedialog.askdirectory()\n",
    "\n",
    "for file in files:\n",
    "    df = pd.read_csv(file)\n",
    "    \n",
    "    Date_txt = '<DTYYYYMMDD>'\n",
    "    \n",
    "    Result_date = []\n",
    "    Result_Open = []\n",
    "    Result_high = []\n",
    "    Result_low = []\n",
    "    Result_close = []\n",
    "    \n",
    "    idate = [] #intersection date\n",
    "    idate_ind = [] #intersection date index in stock data\n",
    "    indexِDate_ind = [] #intersection date index in index data\n",
    "    \n",
    "    idate = list(set(index_data[Date_txt]) & (set(df[Date_txt])))\n",
    "    \n",
    "    for date in intersec_date:\n",
    "        idate_ind.append(df[Date_txt].tolist().index(date))\n",
    "        indexِDate_ind.append(index_data[Date_txt].tolist().index(date))\n",
    "    \n",
    "    for j in range(len(intersec_date_index)):\n",
    "        Result_Open.append(df[names[0]][idate_ind[j]]/index_data[names[0]][indexِDate_ind[j]])\n",
    "        Result_high.append(df[names[1]][idate_ind[j]]/index_data[names[1]][indexِDate_ind[j]])\n",
    "        Result_low.append(df[names[2]][idate_ind[j]]/index_data[names[2]][indexِDate_ind[j]])\n",
    "        Result_close.append(df[names[3]][idate_ind[j]]/index_data[names[3]][indexِDate_ind[j]])\n",
    "    \n",
    "    Result_date = idate\n",
    "    \n",
    "    res_data = {\"Date\": Result_date, \"Open\": Result_Open, \"High\": Result_high, \"Low\": Result_low, \"Close\": Result_close}\n",
    "    res_dataF = pd.DataFrame(res_data)\n",
    "    res_dataF.set_index('Date', inplace=True)\n",
    "    res_dataF.sort_values(by=['Date'])\n",
    "    \n",
    "    res_dataF.to_csv(file, sep=',')"
   ]
  },
  {
   "cell_type": "code",
   "execution_count": null,
   "metadata": {},
   "outputs": [],
   "source": []
  }
 ],
 "metadata": {
  "kernelspec": {
   "display_name": "Python 3",
   "language": "python",
   "name": "python3"
  },
  "language_info": {
   "codemirror_mode": {
    "name": "ipython",
    "version": 3
   },
   "file_extension": ".py",
   "mimetype": "text/x-python",
   "name": "python",
   "nbconvert_exporter": "python",
   "pygments_lexer": "ipython3",
   "version": "3.8.1"
  }
 },
 "nbformat": 4,
 "nbformat_minor": 4
}
