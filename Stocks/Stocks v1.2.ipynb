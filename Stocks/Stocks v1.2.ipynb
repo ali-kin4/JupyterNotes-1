{
 "cells": [
  {
   "cell_type": "code",
   "execution_count": 1,
   "metadata": {},
   "outputs": [],
   "source": [
    "import numpy as np\n",
    "import glob, os, csv"
   ]
  },
  {
   "cell_type": "code",
   "execution_count": 2,
   "metadata": {},
   "outputs": [],
   "source": [
    "loc = \"D:\\Stocks\\Python\\Data\"\n",
    "indLoc = \"\\Index\"\n",
    "loc = loc + indLoc\n",
    "os.chdir(loc)\n",
    "Format = \"txt\"\n",
    "file_name = \"TEPIX_D_IDX.txt\""
   ]
  },
  {
   "cell_type": "code",
   "execution_count": 3,
   "metadata": {},
   "outputs": [],
   "source": [
    "indFile = glob.glob(\"*.{}\".format(Format))\n",
    "indFile = indFile[0]"
   ]
  },
  {
   "cell_type": "code",
   "execution_count": 4,
   "metadata": {},
   "outputs": [],
   "source": [
    "idate    = []\n",
    "iOpen    = []\n",
    "ihigh    = []\n",
    "ilow     = []\n",
    "iclose   = []\n",
    "# ivol     = []\n",
    "# iopenInt = []"
   ]
  },
  {
   "cell_type": "code",
   "execution_count": 5,
   "metadata": {},
   "outputs": [],
   "source": [
    "with open(indFile, 'r') as csvfile:\n",
    "    Data1 = csv.reader(csvfile, delimiter = ',')\n",
    "    for row in Data1:\n",
    "        idate.append(row[2])\n",
    "        iOpen.append(row[4])\n",
    "        ihigh.append(row[5])\n",
    "        ilow.append(row[6])\n",
    "        iclose.append(row[7])\n",
    "#         ivol.append(row[8])\n",
    "#         iopenInt.append(row[9])"
   ]
  },
  {
   "cell_type": "code",
   "execution_count": 6,
   "metadata": {},
   "outputs": [],
   "source": [
    "idate.pop(0);\n",
    "iOpen.pop(0);\n",
    "ihigh.pop(0);\n",
    "ilow.pop(0);\n",
    "iclose.pop(0);\n",
    "# ivol.pop(0);\n",
    "# iopenInt.pop(0);"
   ]
  },
  {
   "cell_type": "code",
   "execution_count": 7,
   "metadata": {},
   "outputs": [],
   "source": [
    "for i in range(len(idate)):\n",
    "    idate[i]  = int(idate[i])   \n",
    "    iOpen[i]  = float(iOpen[i])\n",
    "    ihigh[i]  = float(ihigh[i])\n",
    "    ilow[i]   = float(ilow[i])\n",
    "    iclose[i] = float(iclose[i])\n",
    "#     ivol[i]   = float(ivol[i])\n",
    "#     iopenInt[i] = float(iopenInt[i])"
   ]
  },
  {
   "cell_type": "code",
   "execution_count": 8,
   "metadata": {},
   "outputs": [],
   "source": [
    "loc2 = \"D:\\Stocks\\Python\\Data\"\n",
    "stockLoc = \"\\Stocks\"\n",
    "loc2 = loc2 + stockLoc\n",
    "os.chdir(loc2)"
   ]
  },
  {
   "cell_type": "code",
   "execution_count": 9,
   "metadata": {},
   "outputs": [],
   "source": [
    "myfiles = []\n",
    "for file in glob.glob(\"*.{}\".format(Format)):\n",
    "    myfiles.append(file)\n",
    "\n",
    "Data = []\n",
    "for i in range(len(myfiles)):\n",
    "    Data.append(i)\n",
    "    Data[i] = 0\n",
    "    \n",
    "n = len(myfiles)"
   ]
  },
  {
   "cell_type": "code",
   "execution_count": 10,
   "metadata": {},
   "outputs": [],
   "source": [
    "date    = []\n",
    "Open    = []\n",
    "high    = []\n",
    "low     = []\n",
    "close   = []\n",
    "# vol     = []\n",
    "# openInt = []\n",
    "DNum = [] #the intersection date number\n",
    "iNum = []"
   ]
  },
  {
   "cell_type": "code",
   "execution_count": 11,
   "metadata": {},
   "outputs": [],
   "source": [
    "for i in range(n):\n",
    "    date.append(i)\n",
    "    Open.append(i)\n",
    "    high.append(i)\n",
    "    low.append(i)\n",
    "    close.append(i)\n",
    "    DNum.append(i)\n",
    "    iNum.append(i)\n",
    "#     vol.append(i)\n",
    "#     openInt.append(i)\n",
    "    date[i], Open[i], high[i], low[i], close[i], DNum[i], iNum[i] = [], [], [], [], [], [], []\n",
    "#     date[i], Open[i], high[i], low[i], close[i], vol[i], openInt[i] = [], [], [], [], [], [], []"
   ]
  },
  {
   "cell_type": "code",
   "execution_count": 12,
   "metadata": {},
   "outputs": [],
   "source": [
    "for i in range(n):\n",
    "    with open(myfiles[i], 'r') as csvfile:\n",
    "        Data[i] = csv.reader(csvfile, delimiter = ',')\n",
    "        for row in Data[i]:\n",
    "            date[i].append(row[2])\n",
    "            Open[i].append(row[4])\n",
    "            high[i].append(row[5])\n",
    "            low[i].append(row[6])\n",
    "            close[i].append(row[7])\n",
    "#             vol[i].append(row[8])\n",
    "#             openInt[i].append(row[9])"
   ]
  },
  {
   "cell_type": "code",
   "execution_count": 13,
   "metadata": {},
   "outputs": [],
   "source": [
    "for j in range(n):\n",
    "    date[j] = date[j][1:]\n",
    "    Open[j] = Open[j][1:]\n",
    "    high[j] = high[j][1:]\n",
    "    low[j]  = low[j][1:]\n",
    "    close[j]   = close[j][1:]\n",
    "#     vol[j]     = vol[j][1:]\n",
    "#     openInt[j] = openInt[j][1:]\n",
    "    for i in range(len(date[j])):\n",
    "        date[j][i]  = int(date[j][i])   \n",
    "        Open[j][i]  = float(Open[j][i])\n",
    "        high[j][i]  = float(high[j][i])\n",
    "        low[j][i]   = float(low[j][i])\n",
    "        close[j][i] = float(close[j][i])\n",
    "#         vol[j][i]   = float(vol[j][i])\n",
    "#         openInt[j][i]  = float(openInt[j][i])"
   ]
  },
  {
   "cell_type": "code",
   "execution_count": 53,
   "metadata": {},
   "outputs": [],
   "source": [
    "for i in range(n):\n",
    "    DNum[i] = list(set(idate) & (set(date[i])))"
   ]
  },
  {
   "cell_type": "code",
   "execution_count": 54,
   "metadata": {
    "scrolled": true
   },
   "outputs": [],
   "source": [
    "for i in range(n):\n",
    "    for j in range(len(DNum[i])):\n",
    "        iNum[i].append(date[i].index(DNum[i][j]))"
   ]
  },
  {
   "cell_type": "code",
   "execution_count": 56,
   "metadata": {},
   "outputs": [
    {
     "data": {
      "text/plain": [
       "20170819"
      ]
     },
     "execution_count": 56,
     "metadata": {},
     "output_type": "execute_result"
    }
   ],
   "source": [
    "DNum[0][j]"
   ]
  }
 ],
 "metadata": {
  "kernelspec": {
   "display_name": "Python 3",
   "language": "python",
   "name": "python3"
  },
  "language_info": {
   "codemirror_mode": {
    "name": "ipython",
    "version": 3
   },
   "file_extension": ".py",
   "mimetype": "text/x-python",
   "name": "python",
   "nbconvert_exporter": "python",
   "pygments_lexer": "ipython3",
   "version": "3.6.7"
  }
 },
 "nbformat": 4,
 "nbformat_minor": 2
}
