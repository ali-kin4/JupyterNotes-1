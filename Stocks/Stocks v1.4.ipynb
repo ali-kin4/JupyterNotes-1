{
 "cells": [
  {
   "cell_type": "code",
   "execution_count": 1,
   "metadata": {},
   "outputs": [],
   "source": [
    "import numpy as np\n",
    "import glob, os, csv\n",
    "import pandas as pd"
   ]
  },
  {
   "cell_type": "markdown",
   "metadata": {},
   "source": [
    "# Index Section:"
   ]
  },
  {
   "cell_type": "code",
   "execution_count": null,
   "metadata": {},
   "outputs": [],
   "source": [
    "import tkinter as tk\n",
    "from tkinter import filedialog\n",
    "\n",
    "root = tk.Tk()\n",
    "root.withdraw()\n",
    "\n",
    "loc = filedialog.askdirectory()"
   ]
  },
  {
   "cell_type": "code",
   "execution_count": null,
   "metadata": {},
   "outputs": [],
   "source": [
    "Format = \"txt\"\n",
    "indLoc = \"\\Index\"\n",
    "loc1 = loc + indLoc\n",
    "os.chdir(loc1)"
   ]
  },
  {
   "cell_type": "code",
   "execution_count": null,
   "metadata": {},
   "outputs": [],
   "source": [
    "indFile = glob.glob(\"*.{}\".format(Format))\n",
    "indFile = indFile[0]"
   ]
  },
  {
   "cell_type": "code",
   "execution_count": null,
   "metadata": {},
   "outputs": [],
   "source": [
    "idate    = []\n",
    "iOpen    = []\n",
    "ihigh    = []\n",
    "ilow     = []\n",
    "iclose   = []"
   ]
  },
  {
   "cell_type": "code",
   "execution_count": null,
   "metadata": {},
   "outputs": [],
   "source": [
    "with open(indFile, 'r') as csvfile:\n",
    "    Data1 = csv.reader(csvfile, delimiter = ',')\n",
    "    for row in Data1:\n",
    "        idate.append(row[2])\n",
    "        iOpen.append(row[4])\n",
    "        ihigh.append(row[5])\n",
    "        ilow.append(row[6])\n",
    "        iclose.append(row[7])"
   ]
  },
  {
   "cell_type": "code",
   "execution_count": null,
   "metadata": {},
   "outputs": [],
   "source": [
    "idate.pop(0);\n",
    "iOpen.pop(0);\n",
    "ihigh.pop(0);\n",
    "ilow.pop(0);\n",
    "iclose.pop(0);"
   ]
  },
  {
   "cell_type": "code",
   "execution_count": null,
   "metadata": {},
   "outputs": [],
   "source": [
    "for i in range(len(idate)):\n",
    "    idate[i]  = int(idate[i])   \n",
    "    iOpen[i]  = float(iOpen[i])\n",
    "    ihigh[i]  = float(ihigh[i])\n",
    "    ilow[i]   = float(ilow[i])\n",
    "    iclose[i] = float(iclose[i])"
   ]
  },
  {
   "cell_type": "markdown",
   "metadata": {},
   "source": [
    "# Stocks Section:"
   ]
  },
  {
   "cell_type": "code",
   "execution_count": null,
   "metadata": {},
   "outputs": [],
   "source": [
    "loc2 = \"D:\\Stocks\\Python\\Data\"\n",
    "stockLoc = \"\\Stocks\"\n",
    "loc2 = loc2 + stockLoc\n",
    "os.chdir(loc2)"
   ]
  },
  {
   "cell_type": "code",
   "execution_count": null,
   "metadata": {},
   "outputs": [],
   "source": [
    "myfiles = []\n",
    "for file in glob.glob(\"*.{}\".format(Format)):\n",
    "    myfiles.append(file)\n",
    "\n",
    "Data = []\n",
    "for i in range(len(myfiles)):\n",
    "    Data.append(i)\n",
    "    Data[i] = 0\n",
    "    \n",
    "n = len(myfiles)"
   ]
  },
  {
   "cell_type": "code",
   "execution_count": null,
   "metadata": {},
   "outputs": [],
   "source": [
    "date    = []\n",
    "Open    = []\n",
    "high    = []\n",
    "low     = []\n",
    "close   = []\n",
    "\n",
    "#Results:\n",
    "Rdate    = []\n",
    "ROpen    = []\n",
    "Rhigh    = []\n",
    "Rlow     = []\n",
    "Rclose   = []\n",
    "\n",
    "DNum = [] #the intersection date number\n",
    "iNum = [] #index of intersection date\n",
    "idNum = [] #index of intersection date in index stocks"
   ]
  },
  {
   "cell_type": "code",
   "execution_count": null,
   "metadata": {},
   "outputs": [],
   "source": [
    "for i in range(n):\n",
    "    date.append(i)\n",
    "    Open.append(i)\n",
    "    high.append(i)\n",
    "    low.append(i)\n",
    "    close.append(i)\n",
    "    Rdate.append(i)\n",
    "    ROpen.append(i)\n",
    "    Rhigh.append(i)\n",
    "    Rlow.append(i)\n",
    "    Rclose.append(i)\n",
    "    DNum.append(i)\n",
    "    iNum.append(i)\n",
    "    idNum.append(i)\n",
    "    (date[i], Open[i], high[i], low[i], close[i], DNum[i], iNum[i],\n",
    "    Rdate[i], ROpen[i], Rhigh[i], Rlow[i], Rclose[i], idNum[i]) = ([], [], [], [], [], [], [],\n",
    "                                                         [], [], [], [], [], [])"
   ]
  },
  {
   "cell_type": "code",
   "execution_count": null,
   "metadata": {},
   "outputs": [],
   "source": [
    "for i in range(n):\n",
    "    with open(myfiles[i], 'r') as csvfile:\n",
    "        Data[i] = csv.reader(csvfile, delimiter = ',')\n",
    "        for row in Data[i]:\n",
    "            date[i].append(row[2])\n",
    "            Open[i].append(row[4])\n",
    "            high[i].append(row[5])\n",
    "            low[i].append(row[6])\n",
    "            close[i].append(row[7])"
   ]
  },
  {
   "cell_type": "code",
   "execution_count": null,
   "metadata": {},
   "outputs": [],
   "source": [
    "for j in range(n):\n",
    "    date[j] = date[j][1:]\n",
    "    Open[j] = Open[j][1:]\n",
    "    high[j] = high[j][1:]\n",
    "    low[j]  = low[j][1:]\n",
    "    close[j]   = close[j][1:]\n",
    "    for i in range(len(date[j])):\n",
    "        date[j][i]  = int(date[j][i])   \n",
    "        Open[j][i]  = float(Open[j][i])\n",
    "        high[j][i]  = float(high[j][i])\n",
    "        low[j][i]   = float(low[j][i])\n",
    "        close[j][i] = float(close[j][i])"
   ]
  },
  {
   "cell_type": "code",
   "execution_count": null,
   "metadata": {},
   "outputs": [],
   "source": [
    "for i in range(n):\n",
    "    DNum[i] = list(set(idate) & (set(date[i])))\n",
    "# DNum.sort()"
   ]
  },
  {
   "cell_type": "code",
   "execution_count": null,
   "metadata": {
    "scrolled": true
   },
   "outputs": [],
   "source": [
    "for i in range(n):\n",
    "    for j in range(len(DNum[i])):\n",
    "        iNum[i].append(date[i].index(DNum[i][j]))\n",
    "        idNum[i].append(idate.index(DNum[i][j]))"
   ]
  },
  {
   "cell_type": "code",
   "execution_count": null,
   "metadata": {},
   "outputs": [],
   "source": [
    "for i in range(n):\n",
    "    for j in range(len(iNum[i])):\n",
    "        ROpen[i].append(Open[i][iNum[i][j]]/iOpen[idNum[i][j]])\n",
    "        Rhigh[i].append(high[i][iNum[i][j]]/ihigh[idNum[i][j]])\n",
    "        Rlow[i].append(low[i][iNum[i][j]]/ilow[idNum[i][j]])\n",
    "        Rclose[i].append(close[i][iNum[i][j]]/iclose[idNum[i][j]])"
   ]
  },
  {
   "cell_type": "code",
   "execution_count": null,
   "metadata": {
    "scrolled": true
   },
   "outputs": [],
   "source": [
    "if os.path.isdir(loc + \"/Results\") == False:\n",
    "    os.makedirs(loc + \"/Results\")\n",
    "os.chdir(loc + \"/Results\")"
   ]
  },
  {
   "cell_type": "code",
   "execution_count": null,
   "metadata": {},
   "outputs": [],
   "source": [
    "for i in range(n):\n",
    "    myfiles[i] = myfiles[i].replace(\"txt\", \"csv\")"
   ]
  },
  {
   "cell_type": "code",
   "execution_count": null,
   "metadata": {},
   "outputs": [],
   "source": [
    "d  = []\n",
    "df = []\n",
    "for i in range(n):\n",
    "    d.append(0)\n",
    "    df.append(0)\n",
    "    d[i], df[i] = {}, []"
   ]
  },
  {
   "cell_type": "code",
   "execution_count": null,
   "metadata": {
    "scrolled": true
   },
   "outputs": [],
   "source": [
    "Rdate = DNum\n",
    "for i in range(n):\n",
    "    d[i] = {\"Date\": Rdate[i], \"Open\": ROpen[i], \"High\": Rhigh[i], \"Low\": Rlow[i], \"Close\": Rclose[i]}\n",
    "    df[i] = pd.DataFrame(data=d[i])\n",
    "    df[i].set_index('Date', inplace=True)\n",
    "    df[i] = df[i].sort_values(by=['Date'])"
   ]
  },
  {
   "cell_type": "code",
   "execution_count": null,
   "metadata": {
    "scrolled": true
   },
   "outputs": [],
   "source": [
    "for i in range(n):\n",
    "    df[i].to_csv(myfiles[i], sep=',')"
   ]
  }
 ],
 "metadata": {
  "kernelspec": {
   "display_name": "Python 3",
   "language": "python",
   "name": "python3"
  },
  "language_info": {
   "codemirror_mode": {
    "name": "ipython",
    "version": 3
   },
   "file_extension": ".py",
   "mimetype": "text/x-python",
   "name": "python",
   "nbconvert_exporter": "python",
   "pygments_lexer": "ipython3",
   "version": "3.6.7"
  }
 },
 "nbformat": 4,
 "nbformat_minor": 2
}
