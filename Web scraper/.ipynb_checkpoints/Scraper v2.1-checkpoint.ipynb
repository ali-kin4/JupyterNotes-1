{
 "cells": [
  {
   "cell_type": "code",
   "execution_count": 1,
   "metadata": {},
   "outputs": [],
   "source": [
    "import time\n",
    "import PersianCal\n",
    "from selenium.webdriver.common.keys import Keys\n",
    "from selenium import webdriver\n",
    "from bs4 import BeautifulSoup\n",
    "import re\n",
    "import pandas as pd\n",
    "import os\n",
    "from selenium.webdriver.support.ui import Select"
   ]
  },
  {
   "cell_type": "code",
   "execution_count": 2,
   "metadata": {},
   "outputs": [],
   "source": [
    "class stock:\n",
    "    def __init__(self, num, vol, value, avg_price, owner_change):\n",
    "        self.num = num\n",
    "        self.vol = vol\n",
    "        self.value = value\n",
    "        self.avg_price = avg_price\n",
    "        self.owner_change = owner_change"
   ]
  },
  {
   "cell_type": "code",
   "execution_count": 3,
   "metadata": {},
   "outputs": [],
   "source": [
    "def month_maker(month):\n",
    "    month = month.replace(\"فروردین\", '01')\n",
    "    month = month.replace(\"اردیبهشت\", '02')\n",
    "    month = month.replace(\"خرداد\", '03')\n",
    "    month = month.replace(\"تیر\", '04')\n",
    "    month = month.replace(\"مرداد\", '05')\n",
    "    month = month.replace(\"شهریور\", '06')\n",
    "    month = month.replace(\"مهر\", '07')\n",
    "    month = month.replace(\"آبان\", '08')\n",
    "    month = month.replace(\"آذر\", '09')\n",
    "    month = month.replace(\"دی\", '10')\n",
    "    month = month.replace(\"بهمن\", '11')\n",
    "    month = month.replace(\"اسفند\", '12')\n",
    "    return month"
   ]
  },
  {
   "cell_type": "code",
   "execution_count": 4,
   "metadata": {},
   "outputs": [],
   "source": [
    "def date_maker(year, month, day):\n",
    "    date = year + '-' + month + '-' + day\n",
    "    return date"
   ]
  },
  {
   "cell_type": "code",
   "execution_count": 5,
   "metadata": {},
   "outputs": [],
   "source": [
    "def value_fixer(val):\n",
    "    if '.' in val:\n",
    "        result = float(val.replace(\",\", \"\"))\n",
    "    else:\n",
    "        result = int(val.replace(\",\", \"\"))\n",
    "    return result"
   ]
  },
  {
   "cell_type": "code",
   "execution_count": 6,
   "metadata": {},
   "outputs": [],
   "source": [
    "def value_finder(val):\n",
    "    result = value_fixer(val.find(\"div\").get(\"title\"))\n",
    "    return result"
   ]
  },
  {
   "cell_type": "code",
   "execution_count": 7,
   "metadata": {},
   "outputs": [],
   "source": [
    "haghighi_buy = stock([], [], [], [], [])\n",
    "haghighi_sell = stock([], [], [], [], [])\n",
    "hoghoghi_buy = stock([], [], [], [], [])\n",
    "hoghoghi_sell = stock([], [], [], [], [])\n",
    "\n",
    "num = []\n",
    "vol = []\n",
    "value = []\n",
    "avg_price = []\n",
    "owner_change = []\n",
    "dates = []"
   ]
  },
  {
   "cell_type": "code",
   "execution_count": 8,
   "metadata": {},
   "outputs": [],
   "source": [
    "code = '9211775239375291'\n",
    "link = 'http://www.tsetmc.com/Loader.aspx?ParTree=151311&i=' + code"
   ]
  },
  {
   "cell_type": "code",
   "execution_count": 9,
   "metadata": {},
   "outputs": [],
   "source": [
    "driver = webdriver.Chrome('chromedriver.exe')\n",
    "driver.maximize_window()\n",
    "xpath1 = '''//*[@id=\"tabs\"]/div/ul/li[9]/a'''\n",
    "driver.get(link)\n",
    "element = driver.find_element_by_xpath(xpath1)\n",
    "element.click()\n",
    "time.sleep(3)"
   ]
  },
  {
   "cell_type": "code",
   "execution_count": 10,
   "metadata": {},
   "outputs": [],
   "source": [
    "page_source = driver.page_source\n",
    "soup = BeautifulSoup(page_source, 'lxml')"
   ]
  },
  {
   "cell_type": "code",
   "execution_count": 11,
   "metadata": {},
   "outputs": [],
   "source": [
    "table = soup.find(id = 'ClientTypeBody')\n",
    "data = table.find_all(\"td\")"
   ]
  },
  {
   "cell_type": "code",
   "execution_count": 12,
   "metadata": {},
   "outputs": [],
   "source": [
    "dSize = [] #each 25 lines of source is one day of data\n",
    "for i in range(0, len(data)+1, 25):\n",
    "    dSize.append(i)"
   ]
  },
  {
   "cell_type": "code",
   "execution_count": 13,
   "metadata": {},
   "outputs": [],
   "source": [
    "Data = []\n",
    "for i in range(len(dSize)-1):\n",
    "    Data.append(data[dSize[i]:dSize[i+1]])"
   ]
  },
  {
   "cell_type": "code",
   "execution_count": 14,
   "metadata": {},
   "outputs": [],
   "source": [
    "year = soup.find(id='YearPart').text\n",
    "\n",
    "months = []\n",
    "for i in range(len(Data)):\n",
    "    months.append(Data[i][0].find_all(\"div\")[0].text)\n",
    "    \n",
    "days = []\n",
    "for i in range(len(Data)):\n",
    "    days.append(Data[i][0].find_all(\"div\")[1].text)\n",
    "    \n",
    "for i in range(len(months)):\n",
    "    months[i] = month_maker(months[i])\n",
    "\n",
    "\n",
    "for i in range(len(months)):\n",
    "    dates.append(date_maker(year, months[i], days[i]))"
   ]
  },
  {
   "cell_type": "markdown",
   "metadata": {},
   "source": [
    "# Creating data for whole table"
   ]
  },
  {
   "cell_type": "code",
   "execution_count": 15,
   "metadata": {},
   "outputs": [],
   "source": [
    "num_temp = []\n",
    "vol_temp = []\n",
    "value_temp = []\n",
    "avg_price_temp = []\n",
    "\n",
    "for i in range(len(Data)):\n",
    "    for d in Data[i][2:6]:\n",
    "        num_temp.append(value_fixer(d.text))\n",
    "    num.append(num_temp)\n",
    "    num_temp = []\n",
    "    \n",
    "    for d in Data[i][7:11]:\n",
    "        vol_temp.append(value_finder(d))\n",
    "    vol.append(vol_temp)\n",
    "    vol_temp = []\n",
    "    \n",
    "    for d in Data[i][12:16]:\n",
    "        value_temp.append(value_finder(d))\n",
    "    value.append(value_temp)\n",
    "    value_temp = []\n",
    "    \n",
    "    for d in Data[i][17:21]:\n",
    "        avg_price_temp.append(value_fixer(d.text))\n",
    "    avg_price.append(avg_price_temp)\n",
    "    avg_price_temp = []\n",
    "    \n",
    "    owner_change.append(value_finder(Data[i][23]))\n",
    "    \n",
    "    \n",
    "    haghighi_buy.num.append(num[i][0])\n",
    "    hoghoghi_buy.num.append(num[i][1])\n",
    "    haghighi_sell.num.append(num[i][2])\n",
    "    hoghoghi_sell.num.append(num[i][3])\n",
    "    \n",
    "    haghighi_buy.vol.append(vol[i][0])\n",
    "    hoghoghi_buy.vol.append(vol[i][1])\n",
    "    haghighi_sell.vol.append(vol[i][2])\n",
    "    hoghoghi_sell.vol.append(vol[i][3])\n",
    "    \n",
    "    haghighi_buy.value.append(value[i][0])\n",
    "    hoghoghi_buy.value.append(value[i][1])\n",
    "    haghighi_sell.value.append(value[i][2])\n",
    "    hoghoghi_sell.value.append(value[i][3])\n",
    "    \n",
    "    haghighi_buy.avg_price.append(avg_price[i][0])\n",
    "    hoghoghi_buy.avg_price.append(avg_price[i][1])\n",
    "    haghighi_sell.avg_price.append(avg_price[i][2])\n",
    "    hoghoghi_sell.avg_price.append(avg_price[i][3])\n",
    "    \n",
    "    haghighi_buy.owner_change.append(owner_change[i])\n",
    "    hoghoghi_buy.owner_change.append(owner_change[i])\n",
    "    haghighi_sell.owner_change.append(owner_change[i])\n",
    "    hoghoghi_sell.owner_change.append(owner_change[i])"
   ]
  },
  {
   "cell_type": "code",
   "execution_count": 16,
   "metadata": {},
   "outputs": [],
   "source": [
    "per_date = []\n",
    "for date in dates:\n",
    "    per_date.append(PersianCal.Persian(date).christian_string())"
   ]
  },
  {
   "cell_type": "code",
   "execution_count": 17,
   "metadata": {},
   "outputs": [],
   "source": [
    "df1 = {\"Date\": per_date,\n",
    "      \"Number\": haghighi_buy.num,\n",
    "      \"Volume\": haghighi_buy.vol,\n",
    "      \"Value\": haghighi_buy.value,\n",
    "      \"Average Price\": haghighi_buy.avg_price,\n",
    "      \"Owner Change\": haghighi_buy.owner_change}\n",
    "\n",
    "dF1 = pd.DataFrame(df1)\n",
    "dF1.Date = pd.to_datetime(dF1[\"Date\"], format = '%Y-%m-%d')\n",
    "dF1 = dF1.sort_values('Date')"
   ]
  },
  {
   "cell_type": "code",
   "execution_count": 18,
   "metadata": {},
   "outputs": [
    {
     "name": "stdout",
     "output_type": "stream",
     "text": [
      "--- 12.305149793624878 seconds ---\n"
     ]
    }
   ],
   "source": [
    "print(\"--- %s seconds ---\" % (time.time() - start_time))"
   ]
  },
  {
   "cell_type": "code",
   "execution_count": null,
   "metadata": {},
   "outputs": [],
   "source": []
  }
 ],
 "metadata": {
  "kernelspec": {
   "display_name": "Python 3",
   "language": "python",
   "name": "python3"
  },
  "language_info": {
   "codemirror_mode": {
    "name": "ipython",
    "version": 3
   },
   "file_extension": ".py",
   "mimetype": "text/x-python",
   "name": "python",
   "nbconvert_exporter": "python",
   "pygments_lexer": "ipython3",
   "version": "3.8.5"
  }
 },
 "nbformat": 4,
 "nbformat_minor": 4
}
