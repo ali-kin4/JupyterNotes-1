{
 "cells": [
  {
   "cell_type": "code",
   "execution_count": 1,
   "metadata": {},
   "outputs": [],
   "source": [
    "import time, os, re\n",
    "import PersianCal\n",
    "from selenium.webdriver.common.keys import Keys\n",
    "from selenium.webdriver.support.ui import Select\n",
    "from selenium import webdriver\n",
    "from bs4 import BeautifulSoup\n",
    "import pandas as pd"
   ]
  },
  {
   "cell_type": "code",
   "execution_count": 2,
   "metadata": {},
   "outputs": [],
   "source": [
    "link = 'https://www.tgju.org/profile/price_dollar_rl/history'"
   ]
  },
  {
   "cell_type": "code",
   "execution_count": 3,
   "metadata": {},
   "outputs": [],
   "source": [
    "def page_changer():\n",
    "    next_page_xpath = '''//*[@id=\"DataTables_Table_0_next\"]'''\n",
    "    next_page = driver.find_element_by_xpath(next_page_xpath)\n",
    "    next_page.click()"
   ]
  },
  {
   "cell_type": "code",
   "execution_count": 4,
   "metadata": {},
   "outputs": [],
   "source": [
    "def value_fixer(val):\n",
    "    if '.' in val:\n",
    "        result = float(val.replace(\",\", \"\"))\n",
    "    else:\n",
    "        result = int(val.replace(\",\", \"\"))\n",
    "    return result"
   ]
  },
  {
   "cell_type": "code",
   "execution_count": 5,
   "metadata": {},
   "outputs": [],
   "source": [
    "driver = webdriver.Chrome('chromedriver.exe')\n",
    "driver.maximize_window()\n",
    "driver.get(link)\n",
    "time.sleep(5)"
   ]
  },
  {
   "cell_type": "code",
   "execution_count": 6,
   "metadata": {},
   "outputs": [],
   "source": [
    "Open = []\n",
    "Low = []\n",
    "High = []\n",
    "Close = []\n",
    "date = []\n",
    "per_date = []"
   ]
  },
  {
   "cell_type": "code",
   "execution_count": 7,
   "metadata": {},
   "outputs": [],
   "source": [
    "def scraper():\n",
    "    time.sleep(1)\n",
    "    page_source = driver.page_source\n",
    "    soup = BeautifulSoup(page_source, 'lxml')\n",
    "    source_data = soup.find(\"tbody\").find_all(\"td\")\n",
    "    data_size = []\n",
    "\n",
    "    for i in range(0, len(source_data)+1, 8):\n",
    "        data_size.append(i)\n",
    "        \n",
    "    data = []\n",
    "    for i in range(0, len(data_size)-1):\n",
    "        data.append(source_data[data_size[i]:data_size[i+1]])\n",
    "        \n",
    "    for i in range(len(data)):\n",
    "        Open.append(value_fixer(data[i][0].text))\n",
    "        Low.append(value_fixer(data[i][1].text))\n",
    "        High.append(value_fixer(data[i][2].text))\n",
    "        Close.append(value_fixer(data[i][3].text))\n",
    "        date.append(data[i][-2].text)\n",
    "        per_date.append(data[-1][0].text)"
   ]
  },
  {
   "cell_type": "code",
   "execution_count": 16,
   "metadata": {
    "scrolled": true
   },
   "outputs": [],
   "source": [
    "start_time = time.time()\n",
    "\n",
    "for i in range(87):\n",
    "    scraper()\n",
    "    page_changer()\n",
    "    \n",
    "print(\"--- {} seconds ---\".format((time.time() - start_time)))"
   ]
  },
  {
   "cell_type": "code",
   "execution_count": 33,
   "metadata": {},
   "outputs": [],
   "source": [
    "dF = {\"Open\": Open,\n",
    "     \"High\": High,\n",
    "     \"Low\": Low,\n",
    "     \"Close\": Close,\n",
    "     \"Date\": date,\n",
    "     \"Persian Date\": per_date}\n",
    "\n",
    "df = pd.DataFrame(dF)\n",
    "df.Date = pd.to_datetime(df[\"Date\"])"
   ]
  },
  {
   "cell_type": "code",
   "execution_count": 35,
   "metadata": {},
   "outputs": [],
   "source": [
    "# import plotly.graph_objects as go\n",
    "\n",
    "# fig = go.Figure(data=[go.Candlestick(x=df['Date'],\n",
    "#                 open=df['Open'],\n",
    "#                 high=df['High'],\n",
    "#                 low=df['Low'],\n",
    "#                 close=df['Close'])])\n",
    "\n",
    "# fig.show()"
   ]
  },
  {
   "cell_type": "code",
   "execution_count": 40,
   "metadata": {},
   "outputs": [],
   "source": [
    "# df.set_index(\"Date\", inplace = True)\n",
    "df.to_csv(\"D:\\Stocks\\Dollar\\dollar.csv\")"
   ]
  }
 ],
 "metadata": {
  "kernelspec": {
   "display_name": "Python 3",
   "language": "python",
   "name": "python3"
  },
  "language_info": {
   "codemirror_mode": {
    "name": "ipython",
    "version": 3
   },
   "file_extension": ".py",
   "mimetype": "text/x-python",
   "name": "python",
   "nbconvert_exporter": "python",
   "pygments_lexer": "ipython3",
   "version": "3.8.5"
  }
 },
 "nbformat": 4,
 "nbformat_minor": 4
}
