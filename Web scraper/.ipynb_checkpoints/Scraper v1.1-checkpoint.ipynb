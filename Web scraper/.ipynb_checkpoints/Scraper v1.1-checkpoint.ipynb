{
 "cells": [
  {
   "cell_type": "code",
   "execution_count": 1,
   "metadata": {},
   "outputs": [],
   "source": [
    "import time\n",
    "from selenium.webdriver.common.keys import Keys\n",
    "from selenium import webdriver\n",
    "from bs4 import BeautifulSoup\n",
    "import re\n",
    "import pandas as pd\n",
    "import os\n",
    "from selenium.webdriver.support.ui import Select"
   ]
  },
  {
   "cell_type": "code",
   "execution_count": 2,
   "metadata": {},
   "outputs": [],
   "source": [
    "class stock:\n",
    "    def __init__(self, num, vol, value, avg_price, ownership):\n",
    "        self.num = num\n",
    "        self.vol = vol\n",
    "        self.value = value\n",
    "        self.avg_price = avg_price\n",
    "        self.ownership = ownership"
   ]
  },
  {
   "cell_type": "code",
   "execution_count": 3,
   "metadata": {},
   "outputs": [],
   "source": [
    "code = '9211775239375291'\n",
    "link = 'http://www.tsetmc.com/Loader.aspx?ParTree=151311&i=' + code"
   ]
  },
  {
   "cell_type": "code",
   "execution_count": 4,
   "metadata": {},
   "outputs": [],
   "source": [
    "driver = webdriver.Chrome('chromedriver.exe')\n",
    "driver.maximize_window()\n",
    "xpath1 = '''//*[@id=\"tabs\"]/div/ul/li[9]/a'''\n",
    "driver.get(link)\n",
    "element = driver.find_element_by_xpath(xpath1)\n",
    "element.click()"
   ]
  },
  {
   "cell_type": "code",
   "execution_count": 18,
   "metadata": {},
   "outputs": [],
   "source": [
    "haghighi_buy = stock([], [], [], [], [])\n",
    "haghighi_sell = stock([], [], [], [], [])\n",
    "\n",
    "hoghoghi_buy = stock([], [], [], [], [])\n",
    "hoghoghi_sell = stock([], [], [], [], [])\n",
    "\n",
    "dates = []"
   ]
  },
  {
   "cell_type": "code",
   "execution_count": 6,
   "metadata": {},
   "outputs": [],
   "source": [
    "def month_maker(month):\n",
    "    month = month.replace(\"فروردین\", '01')\n",
    "    month = month.replace(\"اردیبهشت\", '02')\n",
    "    month = month.replace(\"خرداد\", '03')\n",
    "    month = month.replace(\"تیر\", '04')\n",
    "    month = month.replace(\"مرداد\", '05')\n",
    "    month = month.replace(\"شهریور\", '06')\n",
    "    month = month.replace(\"مهر\", '07')\n",
    "    month = month.replace(\"آبان\", '08')\n",
    "    month = month.replace(\"آذر\", '09')\n",
    "    month = month.replace(\"دی\", '10')\n",
    "    month = month.replace(\"بهمن\", '11')\n",
    "    month = month.replace(\"اسفند\", '12')\n",
    "    return month"
   ]
  },
  {
   "cell_type": "code",
   "execution_count": 7,
   "metadata": {},
   "outputs": [],
   "source": [
    "def get_element_text(xpath):\n",
    "    text = driver.find_element_by_xpath(xpath).text\n",
    "    return text"
   ]
  },
  {
   "cell_type": "code",
   "execution_count": 8,
   "metadata": {},
   "outputs": [],
   "source": [
    "def page_changer():\n",
    "    xpath_next_page = '//*[@id=\"ClientTypeContent\"]/div/div[2]/table[1]/tbody/tr/td[3]/a'\n",
    "    next_page = driver.find_element_by_xpath(xpath_next_page)\n",
    "    next_page.click()"
   ]
  },
  {
   "cell_type": "markdown",
   "metadata": {},
   "source": [
    "# Making the global data maker function in one block"
   ]
  },
  {
   "cell_type": "code",
   "execution_count": 16,
   "metadata": {},
   "outputs": [],
   "source": [
    "def data_maker():\n",
    "    time.sleep(3)\n",
    "    days = driver.find_elements_by_class_name(\"CalDay\")\n",
    "    days[:] = map(lambda x: x.text, days)\n",
    "\n",
    "    months = driver.find_elements_by_class_name(\"CalMonth \")\n",
    "    months[:] = map(lambda x: x.text, months)\n",
    "\n",
    "    year = driver.find_element_by_id(\"YearPart\").text\n",
    "\n",
    "    new_months = []\n",
    "    for month in months:\n",
    "        new_months.append(month_maker(month))\n",
    "\n",
    "    for i in range(len(days)):\n",
    "            dates.append(year + '-' + new_months[i] + '-' + days[i])\n",
    "            \n",
    "    \n",
    "    for i in range(1, 494, 6):\n",
    "        xpath_num_h1b = '//*[@id=\"ClientTypeBody\"]/tr[' + str(i) + ']/td[3]'\n",
    "        xpath_num_h2b = '//*[@id=\"ClientTypeBody\"]/tr[' + str(i) + ']/td[4]'\n",
    "        xpath_num_h1s = '//*[@id=\"ClientTypeBody\"]/tr[' + str(i) + ']/td[5]'\n",
    "        xpath_num_h2s = '//*[@id=\"ClientTypeBody\"]/tr[' + str(i) + ']/td[6]'\n",
    "\n",
    "        num_element_h1b = get_element_text(xpath_num_h1b)\n",
    "        num_element_h2b = get_element_text(xpath_num_h2b)\n",
    "        num_element_h1s = get_element_text(xpath_num_h1s)\n",
    "        num_element_h2s = get_element_text(xpath_num_h2s)\n",
    "\n",
    "        haghighi_buy.num.append(num_element_h1b)\n",
    "        haghighi_sell.num.append(num_element_h2b)\n",
    "        hoghoghi_buy.num.append(num_element_h1s)\n",
    "        hoghoghi_sell.num.append(num_element_h2s)\n",
    "\n",
    "    for i in range(5, 498, 6):\n",
    "        xpath_own = '//*[@id=\"ClientTypeBody\"]/tr[' + str(i) + ']/td[3]'\n",
    "        ownership = get_element_text(xpath_own)\n",
    "        haghighi_buy.ownership.append(ownership)\n",
    "        haghighi_sell.ownership.append(ownership)\n",
    "        hoghoghi_buy.ownership.append(ownership)\n",
    "        hoghoghi_sell.ownership.append(ownership)\n",
    "\n",
    "    for i in range(2, 495, 6):\n",
    "        xpath_vol_h1b = '//*[@id=\"ClientTypeBody\"]/tr[' + str(i) + ']/td[2]'\n",
    "        xpath_vol_h2b = '//*[@id=\"ClientTypeBody\"]/tr[' + str(i) + ']/td[3]'\n",
    "        xpath_vol_h1s = '//*[@id=\"ClientTypeBody\"]/tr[' + str(i) + ']/td[4]'\n",
    "        xpath_vol_h2s = '//*[@id=\"ClientTypeBody\"]/tr[' + str(i) + ']/td[5]'\n",
    "\n",
    "        vol_element_h1b = get_element_text(xpath_vol_h1b)\n",
    "        vol_element_h2b = get_element_text(xpath_vol_h2b)\n",
    "        vol_element_h1s = get_element_text(xpath_vol_h1s)\n",
    "        vol_element_h2s = get_element_text(xpath_vol_h2s)\n",
    "\n",
    "        haghighi_buy.vol.append(vol_element_h1b)\n",
    "        haghighi_sell.vol.append(vol_element_h2b)\n",
    "        hoghoghi_buy.vol.append(vol_element_h1s)\n",
    "        hoghoghi_sell.vol.append(vol_element_h2s)\n",
    "\n",
    "    for i in range(3, 496, 6):\n",
    "        xpath_value_h1b = '//*[@id=\"ClientTypeBody\"]/tr[' + str(i) + ']/td[2]/div'\n",
    "        xpath_value_h2b = '//*[@id=\"ClientTypeBody\"]/tr[' + str(i) + ']/td[3]/div'\n",
    "        xpath_value_h1s = '//*[@id=\"ClientTypeBody\"]/tr[' + str(i) + ']/td[4]/div'\n",
    "        xpath_value_h2s = '//*[@id=\"ClientTypeBody\"]/tr[' + str(i) + ']/td[5]/div'\n",
    "\n",
    "        value_element_h1b = get_element_text(xpath_value_h1b)\n",
    "        value_element_h2b = get_element_text(xpath_value_h2b)\n",
    "        value_element_h1s = get_element_text(xpath_value_h1s)\n",
    "        value_element_h2s = get_element_text(xpath_value_h2s)\n",
    "\n",
    "        haghighi_buy.value.append(value_element_h1b)\n",
    "        haghighi_sell.value.append(value_element_h2b)\n",
    "        haghighi_buy.value.append(value_element_h1s)\n",
    "        haghighi_sell.value.append(value_element_h2s)\n",
    "\n",
    "    for i in range(4, 497, 6):\n",
    "        xpath_avg_h1b = '//*[@id=\"ClientTypeBody\"]/tr[' + str(i) + ']/td[2]'\n",
    "        xpath_avg_h2b = '//*[@id=\"ClientTypeBody\"]/tr[' + str(i) + ']/td[3]'\n",
    "        xpath_avg_h1s = '//*[@id=\"ClientTypeBody\"]/tr[' + str(i) + ']/td[4]'\n",
    "        xpath_avg_h2s = '//*[@id=\"ClientTypeBody\"]/tr[' + str(i) + ']/td[5]'\n",
    "\n",
    "        avg_element_h1b = get_element_text(xpath_avg_h1b)\n",
    "        avg_element_h2b = get_element_text(xpath_avg_h2b)\n",
    "        avg_element_h1s = get_element_text(xpath_avg_h1s)\n",
    "        avg_element_h2s = get_element_text(xpath_avg_h2s)\n",
    "\n",
    "        haghighi_buy.avg_price.append(avg_element_h1b)\n",
    "        haghighi_sell.avg_price.append(avg_element_h2b)\n",
    "        haghighi_buy.avg_price.append(avg_element_h1s)\n",
    "        haghighi_sell.avg_price.append(avg_element_h2s)"
   ]
  },
  {
   "cell_type": "code",
   "execution_count": 19,
   "metadata": {},
   "outputs": [],
   "source": [
    "data_maker()"
   ]
  },
  {
   "cell_type": "code",
   "execution_count": 21,
   "metadata": {},
   "outputs": [
    {
     "data": {
      "text/plain": [
       "[]"
      ]
     },
     "execution_count": 21,
     "metadata": {},
     "output_type": "execute_result"
    }
   ],
   "source": [
    "dates"
   ]
  },
  {
   "cell_type": "code",
   "execution_count": 19,
   "metadata": {},
   "outputs": [],
   "source": [
    "for i in range(20):\n",
    "    try:\n",
    "        check = driver.find_elements_by_class_name(\"CalDay\")\n",
    "        if not check:\n",
    "            breakpoint\n",
    "        data_maker()\n",
    "        page_changer()\n",
    "    except NoSuchElementException:\n",
    "        print(\"Calculation completed\")        "
   ]
  },
  {
   "cell_type": "code",
   "execution_count": null,
   "metadata": {},
   "outputs": [],
   "source": [
    "final_date = []\n",
    "for date in dates:\n",
    "    final_date += date"
   ]
  }
 ],
 "metadata": {
  "kernelspec": {
   "display_name": "Python 3",
   "language": "python",
   "name": "python3"
  },
  "language_info": {
   "codemirror_mode": {
    "name": "ipython",
    "version": 3
   },
   "file_extension": ".py",
   "mimetype": "text/x-python",
   "name": "python",
   "nbconvert_exporter": "python",
   "pygments_lexer": "ipython3",
   "version": "3.8.5"
  }
 },
 "nbformat": 4,
 "nbformat_minor": 4
}
