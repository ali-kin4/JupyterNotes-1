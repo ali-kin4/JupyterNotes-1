{
 "cells": [
  {
   "cell_type": "code",
   "execution_count": 8,
   "metadata": {},
   "outputs": [
    {
     "data": {
      "text/plain": [
       "LinearSolve! (generic function with 1 method)"
      ]
     },
     "execution_count": 8,
     "metadata": {},
     "output_type": "execute_result"
    }
   ],
   "source": [
    "function LinearSolve!(A,x,b)\n",
    "  # Solves the equation Ax = b assuming zero Dirichlet BCs everywhere\n",
    "  Ny,Nx = size(b)\n",
    "  Ny,Nx = Ny-2, Nx-2\n",
    "  x_int = x[2:end-1,2:end-1]\n",
    "  b_int = b[2:end-1,2:end-1]\n",
    "  b_vec = reshape(b_int,Ny*Nx)\n",
    "  # x_int = A\\b_vec\n",
    "  x_vec = reshape(x_int,Ny*Nx)\n",
    "  cg!(x_vec,A,b_vec, log = true)\n",
    "  x[2:end-1,2:end-1] .= reshape(x_int,(Ny,Nx))\n",
    "end"
   ]
  },
  {
   "cell_type": "code",
   "execution_count": null,
   "metadata": {},
   "outputs": [],
   "source": []
  }
 ],
 "metadata": {
  "kernelspec": {
   "display_name": "Julia 1.5.3",
   "language": "julia",
   "name": "julia-1.5"
  },
  "language_info": {
   "file_extension": ".jl",
   "mimetype": "application/julia",
   "name": "julia",
   "version": "1.5.3"
  }
 },
 "nbformat": 4,
 "nbformat_minor": 4
}
