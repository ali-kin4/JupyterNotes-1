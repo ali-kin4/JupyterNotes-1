{
 "cells": [
  {
   "cell_type": "code",
   "execution_count": 2,
   "metadata": {},
   "outputs": [],
   "source": [
    "import time, os, re\n",
    "from tqdm import tqdm\n",
    "from bs4 import BeautifulSoup\n",
    "import pandas as pd\n",
    "import requests"
   ]
  },
  {
   "cell_type": "code",
   "execution_count": 5,
   "metadata": {},
   "outputs": [],
   "source": [
    "with open(\"D:\\Stocks\\TSETMC links.txt\", 'r') as file:\n",
    "    links = file.readlines()\n",
    "    \n",
    "for i in range(len(links)):\n",
    "    links[i] = links[i].replace(\"\\n\", \"\")"
   ]
  },
  {
   "cell_type": "code",
   "execution_count": 168,
   "metadata": {},
   "outputs": [
    {
     "name": "stderr",
     "output_type": "stream",
     "text": [
      "100%|████████████████████████████████████████████████████████████████████████████████| 688/688 [04:59<00:00,  2.30it/s]"
     ]
    },
    {
     "name": "stdout",
     "output_type": "stream",
     "text": [
      "--- 299.6021378040314 seconds ---\n"
     ]
    },
    {
     "name": "stderr",
     "output_type": "stream",
     "text": [
      "\n"
     ]
    }
   ],
   "source": [
    "start_time = time.time()\n",
    "\n",
    "names = []\n",
    "final_links = []\n",
    "for link in tqdm(links):\n",
    "    try:\n",
    "        req = requests.get(link)\n",
    "        soup = BeautifulSoup(req.text, 'html')\n",
    "        main_source = soup.find(\"div\", {\"class\": \"MainContainer\"})\n",
    "        n = str(main_source.find(\"script\")).split(\",\")[1].split(\"=\")[-1].replace(\"'\", \"\")\n",
    "        names.append(n)\n",
    "        final_links.append(link)\n",
    "    except:\n",
    "        pass\n",
    "    \n",
    "print(\"--- {} seconds ---\".format((time.time() - start_time)))"
   ]
  },
  {
   "cell_type": "code",
   "execution_count": 186,
   "metadata": {},
   "outputs": [],
   "source": [
    "codes = []\n",
    "for link in df.link:\n",
    "    codes.append(link.split(\"=\")[-1])"
   ]
  },
  {
   "cell_type": "code",
   "execution_count": 195,
   "metadata": {},
   "outputs": [],
   "source": [
    "data = {\"name\": names,\n",
    "       \"link\": final_links,\n",
    "       \"code\": codes}\n",
    "df = pd.DataFrame(data)"
   ]
  },
  {
   "cell_type": "code",
   "execution_count": 201,
   "metadata": {},
   "outputs": [],
   "source": [
    "df.to_csv(\"D:\\Python\\StockName.csv\", index=False, encoding = 'utf-8-sig')\n",
    "os.startfile(\"D:\\Python\\StockName.csv\")"
   ]
  }
 ],
 "metadata": {
  "kernelspec": {
   "display_name": "Python 3",
   "language": "python",
   "name": "python3"
  },
  "language_info": {
   "codemirror_mode": {
    "name": "ipython",
    "version": 3
   },
   "file_extension": ".py",
   "mimetype": "text/x-python",
   "name": "python",
   "nbconvert_exporter": "python",
   "pygments_lexer": "ipython3",
   "version": "3.8.5"
  }
 },
 "nbformat": 4,
 "nbformat_minor": 4
}
